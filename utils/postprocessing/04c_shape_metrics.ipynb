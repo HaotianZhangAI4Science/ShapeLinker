{
 "cells": [
  {
   "attachments": {},
   "cell_type": "markdown",
   "metadata": {},
   "source": [
    "# 3D metrics based on the surface distance"
   ]
  },
  {
   "cell_type": "code",
   "execution_count": null,
   "metadata": {},
   "outputs": [],
   "source": [
    "import os\n",
    "import sys\n",
    "import glob\n",
    "\n",
    "from pathlib import Path\n",
    "import torch\n",
    "import pandas as pd\n",
    "import numpy as np\n",
    "from rdkit import Chem\n",
    "from rdkit import RDLogger, DataStructs\n",
    "from rdkit.Chem import PandasTools\n",
    "from rdkit.Chem.MolStandardize import rdMolStandardize\n",
    "import copy\n",
    "\n",
    "\n",
    "old_cwd = Path.cwd()\n",
    "os.chdir(Path.cwd().parent)\n",
    "from shape_alignment.molecule import Molecules, MoleculeInfo\n",
    "os.chdir(old_cwd)\n",
    "\n",
    "sys.path.append(os.path.dirname(os.path.dirname(os.path.dirname(os.getcwd()))))\n",
    "from utils.chem_transforms import remove_atom_indices, replace_atom_indices"
   ]
  },
  {
   "cell_type": "code",
   "execution_count": null,
   "metadata": {},
   "outputs": [],
   "source": [
    "from tqdm._tqdm_notebook import tqdm_notebook\n",
    "tqdm_notebook.pandas()"
   ]
  },
  {
   "cell_type": "code",
   "execution_count": null,
   "metadata": {},
   "outputs": [],
   "source": [
    "lg = RDLogger.logger()\n",
    "lg.setLevel(RDLogger.CRITICAL)"
   ]
  },
  {
   "attachments": {},
   "cell_type": "markdown",
   "metadata": {},
   "source": [
    "## Load data"
   ]
  },
  {
   "cell_type": "code",
   "execution_count": null,
   "metadata": {},
   "outputs": [],
   "source": [
    "pdb = '7JTO'\n",
    "method = 'difflinker'"
   ]
  },
  {
   "cell_type": "code",
   "execution_count": null,
   "metadata": {},
   "outputs": [],
   "source": [
    "gen_folder = 'data/generated'\n",
    "poses_root = os.path.join(os.path.expanduser('~'), 'data/protacs/preprint')\n",
    "filepath = glob.glob(os.path.join(gen_folder, f'{pdb}_sampled_{method}_valid_fil.csv'))\n",
    "print(filepath)\n",
    "df = pd.read_csv(filepath[0])\n",
    "df.head()"
   ]
  },
  {
   "attachments": {},
   "cell_type": "markdown",
   "metadata": {},
   "source": [
    "### Get constrained embedded conformers"
   ]
  },
  {
   "cell_type": "code",
   "execution_count": null,
   "metadata": {},
   "outputs": [],
   "source": [
    "pose_folders = os.path.join(poses_root, 'const_embed')\n",
    "const_embed_path = os.path.join(pose_folders, f'{pdb}_{method}_embed')\n",
    "const_embed_pose_folder = glob.glob(os.path.join(const_embed_path,'selected_min_confs'))\n",
    "print(const_embed_pose_folder)"
   ]
  },
  {
   "cell_type": "code",
   "execution_count": null,
   "metadata": {},
   "outputs": [],
   "source": [
    "def get_embedded_confs(sdfpath: str,) -> Chem.Mol:\n",
    "    if sdfpath is np.nan:\n",
    "        return None\n",
    "    sdfpath = os.path.join(const_embed_pose_folder[0], sdfpath)\n",
    "    mol = Chem.SDMolSupplier(sdfpath)[0]\n",
    "    return mol"
   ]
  },
  {
   "cell_type": "code",
   "execution_count": null,
   "metadata": {},
   "outputs": [],
   "source": [
    "# store embedded conformers and vinardo scores in dataframe using apply\n",
    "df['embedded_mol'] = df.progress_apply(lambda x: get_embedded_confs(x['embedded_path']), axis=1)"
   ]
  },
  {
   "cell_type": "code",
   "execution_count": null,
   "metadata": {},
   "outputs": [],
   "source": [
    "len(df[~df['embedded_mol'].isna()]), len(df)"
   ]
  },
  {
   "attachments": {},
   "cell_type": "markdown",
   "metadata": {},
   "source": [
    "### Get poses respective to method (shape aligned or generated)"
   ]
  },
  {
   "cell_type": "code",
   "execution_count": null,
   "metadata": {},
   "outputs": [],
   "source": [
    "def get_shape_aligned_pose(sdffolder: str, mol_id: str) -> Chem.Mol:\n",
    "    try:\n",
    "        molpath = os.path.join(sdffolder, f'{mol_id}_pose.sdf')\n",
    "        mol = Chem.SDMolSupplier(molpath)[0]\n",
    "    except:\n",
    "        try:\n",
    "            molpath = os.path.join(sdffolder, f'{mol_id}_pose.mol')\n",
    "            mol = Chem.MolFromMolFile(molpath)\n",
    "        except:\n",
    "            return None\n",
    "    return mol\n",
    "\n",
    "def get_diff_gen_pose(folder: str, sdfpath: str) -> Chem.Mol:\n",
    "    if sdfpath is np.nan or sdfpath is None:\n",
    "        return None\n",
    "    sdffile = sdfpath.split('/')[-1]\n",
    "    sdfpath_new = os.path.join(folder, pdb, sdffile)\n",
    "    mol = Chem.SDMolSupplier(sdfpath_new)[0]\n",
    "    return mol"
   ]
  },
  {
   "cell_type": "code",
   "execution_count": null,
   "metadata": {},
   "outputs": [],
   "source": [
    "if method == 'difflinker':\n",
    "    df_all = pd.read_csv(os.path.join(gen_folder, f'{pdb}_sampled_{method}_valid.csv'))\n",
    "    gen_folder_path = os.path.join(poses_root, 'difflinker_gen_confs')\n",
    "    df_all['method_mol'] = df_all.progress_apply(lambda x: get_diff_gen_pose(gen_folder_path, x['ori_gen_ptc_filename']), axis=1)\n",
    "\n",
    "    col_insert = ['E_torsion',\n",
    "    'clashes_cutoff',\n",
    "    'clashes_vdw',\n",
    "    'embedded_mol',\n",
    "    'embedded_path',\n",
    "    'rmsd_anc',\n",
    "    'rmsd_wrh',\n",
    "    'sc_rdkit',\n",
    "    'vinardo']\n",
    "    for col in col_insert:\n",
    "        # transfer columns from df_all to df by mapping ID\n",
    "        df_all[col] = df_all['ID'].map(df.set_index('ID')[col])\n",
    "    df = df_all\n",
    "else:\n",
    "    df_all = pd.read_csv(os.path.join(gen_folder, f'{pdb}_sampled_{method}_valid.csv'))\n",
    "    shape_align_path = os.path.join(gen_folder, f'{pdb}_{method}_aligned_poses')\n",
    "    df_all['method_mol'] = df_all.progress_apply(lambda x: get_shape_aligned_pose(shape_align_path, x['ID']), axis=1)\n",
    "    col_insert = ['E_torsion',\n",
    "    'clashes_cutoff',\n",
    "    'clashes_vdw',\n",
    "    'embedded_mol',\n",
    "    'embedded_path',\n",
    "    'rmsd_anc',\n",
    "    'rmsd_wrh',\n",
    "    'sc_rdkit',\n",
    "    'vinardo']\n",
    "    for col in col_insert:\n",
    "        # transfer columns from df_all to df by mapping ID\n",
    "        df_all[col] = df_all['ID'].map(df.set_index('ID')[col])\n",
    "    df = df_all"
   ]
  },
  {
   "cell_type": "code",
   "execution_count": null,
   "metadata": {},
   "outputs": [],
   "source": [
    "len(df), len(df[~df['method_mol'].isna()]), len(df[~df['embedded_mol'].isna()])"
   ]
  },
  {
   "attachments": {},
   "cell_type": "markdown",
   "metadata": {},
   "source": [
    "### Get xtal poses"
   ]
  },
  {
   "cell_type": "code",
   "execution_count": null,
   "metadata": {},
   "outputs": [],
   "source": [
    "xtal_folder = 'data/xtal_poses'\n",
    "pdb_folder = os.path.join(xtal_folder, pdb, f'{pdb}_fragments')\n",
    "xtal_protein_path = os.path.join(pdb_folder, f'{pdb}_protein.pdb')\n",
    "# xtal_ext_linker = Chem.MolFromMolFile(os.path.join(pdb_folder,f'{pdb}_linker_extended.sdf'))\n",
    "xtal_protac = Chem.MolFromMolFile(os.path.join(pdb_folder, f'{pdb}_protac.sdf'))\n",
    "xtal_linker = Chem.MolFromMolFile(os.path.join(pdb_folder, f'{pdb}_linker.sdf'))\n",
    "xtal_anchor = Chem.MolFromMolFile(os.path.join(pdb_folder, f'{pdb}_anchor.sdf'))\n",
    "xtal_warhead = Chem.MolFromMolFile(os.path.join(pdb_folder, f'{pdb}_warhead.sdf'))"
   ]
  },
  {
   "attachments": {},
   "cell_type": "markdown",
   "metadata": {},
   "source": [
    "### Get linker only from poses"
   ]
  },
  {
   "cell_type": "code",
   "execution_count": null,
   "metadata": {},
   "outputs": [],
   "source": [
    "def linker_from_extlinker(aligned_ext_linker, protac_smi, wrh_smi, anc_smi, linker_smi):\n",
    "    if aligned_ext_linker is None:\n",
    "        return None\n",
    "    protac_mol = Chem.MolFromSmiles(protac_smi)\n",
    "    wrh_mol = Chem.MolFromSmiles(wrh_smi)\n",
    "    anc_mol = Chem.MolFromSmiles(anc_smi)\n",
    "    linker_mol = Chem.MolFromSmiles(linker_smi)\n",
    "    try:\n",
    "        linker_mol = Chem.RemoveAllHs(linker_mol)\n",
    "    except:\n",
    "        return None\n",
    "    match_ext_link= protac_mol.GetSubstructMatch(aligned_ext_linker)\n",
    "    match_wrh = protac_mol.GetSubstructMatch(wrh_mol)\n",
    "    match_anc = protac_mol.GetSubstructMatch(anc_mol)\n",
    "    # get overlaps\n",
    "    overlap_wrh = set(match_wrh).intersection(set(match_ext_link))\n",
    "    overlap_anc = set(match_anc).intersection(set(match_ext_link))\n",
    "    num_frag_wrh = len(overlap_wrh)\n",
    "    num_frag_anc = len(overlap_anc)\n",
    "    matches_linker = aligned_ext_linker.GetSubstructMatches(linker_mol)\n",
    "    true_match = None\n",
    "    for match in matches_linker:\n",
    "    # sort match in reverse\n",
    "        match = sorted(match, reverse=True)\n",
    "        try:\n",
    "            ext_frags = remove_atom_indices(aligned_ext_linker, match)\n",
    "            # get individual fragments\n",
    "            ext_frags = Chem.GetMolFrags(ext_frags, asMols=True)\n",
    "            # check if number of atoms in ext_frags matches num_frag_wrh and num_frag_anc\n",
    "            if len(ext_frags[0].GetAtoms()) == num_frag_wrh and len(ext_frags[1].GetAtoms()) == num_frag_anc:\n",
    "                true_match = match\n",
    "                break\n",
    "            elif len(ext_frags[1].GetAtoms()) == num_frag_wrh and len(ext_frags[0].GetAtoms()) == num_frag_anc:\n",
    "                true_match = match\n",
    "                break\n",
    "        except:\n",
    "            continue\n",
    "    if true_match is None:\n",
    "        print('No match found')\n",
    "        return None\n",
    "    all_ext_lin_indices = [a.GetIdx() for a in aligned_ext_linker.GetAtoms()]\n",
    "    to_keep = list(set(all_ext_lin_indices).intersection(set(true_match)))\n",
    "    to_remove = list(set(all_ext_lin_indices).difference(set(true_match)))\n",
    "    ev_indices = []\n",
    "    for a in aligned_ext_linker.GetAtoms():\n",
    "        a.SetAtomMapNum(a.GetIdx()+1)\n",
    "    for b in aligned_ext_linker.GetBonds():\n",
    "        if b.GetBeginAtomIdx() in to_remove and b.GetEndAtomIdx() in to_keep:\n",
    "            ev_indices.append(b.GetBeginAtomIdx())\n",
    "            to_remove.remove(b.GetBeginAtomIdx())\n",
    "        elif b.GetEndAtomIdx() in to_remove and b.GetBeginAtomIdx() in to_keep:\n",
    "            ev_indices.append(b.GetEndAtomIdx())\n",
    "            to_remove.remove(b.GetEndAtomIdx())\n",
    "    # sort in reverse\n",
    "    to_remove = sorted(to_remove, reverse=True)\n",
    "    linker_pose_aligned = remove_atom_indices(aligned_ext_linker, to_remove)\n",
    "    a_dict = {a.GetAtomMapNum()-1: a.GetIdx() for a in linker_pose_aligned.GetAtoms()}\n",
    "    ev_indices = [a_dict[i] for i in ev_indices]\n",
    "    ev_indices = sorted(ev_indices, reverse=True)\n",
    "    linker_pose_aligned = replace_atom_indices(linker_pose_aligned, ev_indices)\n",
    "    for a in linker_pose_aligned.GetAtoms():\n",
    "        a.SetAtomMapNum(0)\n",
    "    for a in aligned_ext_linker.GetAtoms():\n",
    "        a.SetAtomMapNum(0)\n",
    "    try:\n",
    "        linker_pose_aligned = Chem.RemoveHs(linker_pose_aligned)\n",
    "    except:\n",
    "        return linker_pose_aligned\n",
    "    return linker_pose_aligned\n"
   ]
  },
  {
   "cell_type": "code",
   "execution_count": null,
   "metadata": {},
   "outputs": [],
   "source": [
    "if method != 'difflinker':\n",
    "    df['method_linker_mol'] = df.progress_apply(lambda x: linker_from_extlinker(x['method_mol'], x['protac_smiles'], x['warhead_smiles'], x['anchor_smiles'], x['linker_smiles']), axis=1)"
   ]
  },
  {
   "cell_type": "code",
   "execution_count": null,
   "metadata": {},
   "outputs": [],
   "source": [
    "def linker_from_fullpose(protac_pose, wrh_smi, anc_smi):\n",
    "    if protac_pose is None or protac_pose is np.nan:\n",
    "        return None\n",
    "    wrh_mol = Chem.MolFromSmiles(wrh_smi)\n",
    "    anc_mol = Chem.MolFromSmiles(anc_smi)\n",
    "    match_wrh = protac_pose.GetSubstructMatch(wrh_mol)\n",
    "    match_anc = protac_pose.GetSubstructMatch(anc_mol)\n",
    "    # sort match in reverse\n",
    "    all_ptc_indices = [a.GetIdx() for a in protac_pose.GetAtoms()]\n",
    "    to_remove = match_wrh + match_anc\n",
    "    to_remove = list(set(to_remove))\n",
    "    to_keep = list(set(all_ptc_indices) -set(to_remove))\n",
    "    ev_indices = []\n",
    "    for a in protac_pose.GetAtoms():\n",
    "        a.SetAtomMapNum(a.GetIdx()+1)\n",
    "    for b in protac_pose.GetBonds():\n",
    "        if b.GetBeginAtomIdx() in to_remove and b.GetEndAtomIdx() in to_keep:\n",
    "            ev_indices.append(b.GetBeginAtomIdx())\n",
    "            to_remove.remove(b.GetBeginAtomIdx())\n",
    "        elif b.GetEndAtomIdx() in to_remove and b.GetBeginAtomIdx() in to_keep:\n",
    "            ev_indices.append(b.GetEndAtomIdx())\n",
    "            to_remove.remove(b.GetEndAtomIdx())\n",
    "    to_remove = sorted(to_remove, reverse=True)\n",
    "    embedded_linker = remove_atom_indices(protac_pose, to_remove)\n",
    "    a_dict = {a.GetAtomMapNum()-1: a.GetIdx() for a in embedded_linker.GetAtoms()}\n",
    "    ev_indices = [a_dict[i] for i in ev_indices]\n",
    "    ev_indices = sorted(ev_indices, reverse=True)\n",
    "    embedded_linker = replace_atom_indices(embedded_linker, ev_indices)\n",
    "    for a in embedded_linker.GetAtoms():\n",
    "        a.SetAtomMapNum(0)\n",
    "    for a in protac_pose.GetAtoms():\n",
    "        a.SetAtomMapNum(0)\n",
    "    # embedded_linker = Chem.RemoveHs(embedded_linker)\n",
    "    return embedded_linker"
   ]
  },
  {
   "cell_type": "code",
   "execution_count": null,
   "metadata": {},
   "outputs": [],
   "source": [
    "df['embedded_linker'] = df.progress_apply(lambda x: linker_from_fullpose(x['embedded_mol'], x['warhead_smiles'], x['anchor_smiles']), axis=1)"
   ]
  },
  {
   "cell_type": "code",
   "execution_count": null,
   "metadata": {},
   "outputs": [],
   "source": [
    "if method == 'difflinker':\n",
    "    df['method_linker_mol'] = df.progress_apply(lambda x: linker_from_fullpose(x['method_mol'], x['warhead_smiles'], x['anchor_smiles']), axis=1)"
   ]
  },
  {
   "attachments": {},
   "cell_type": "markdown",
   "metadata": {},
   "source": [
    "## Load model"
   ]
  },
  {
   "cell_type": "code",
   "execution_count": null,
   "metadata": {},
   "outputs": [],
   "source": [
    "if torch.cuda.is_available():\n",
    "    device = torch.device(\"cuda\")\n",
    "else:\n",
    "    device = torch.device(\"cpu\")\n",
    "root = os.path.dirname(os.path.dirname(os.getcwd()))\n",
    "model = torch.load(os.path.join(root, \"models/protacdb_extlinker_model_align.pth\"), map_location=device)\n",
    "model.to(device)\n",
    "model.eval()"
   ]
  },
  {
   "attachments": {},
   "cell_type": "markdown",
   "metadata": {},
   "source": [
    "## Metrics"
   ]
  },
  {
   "attachments": {},
   "cell_type": "markdown",
   "metadata": {},
   "source": [
    "### Chamfer distance between new PROTAC conf and xtal conf\n",
    "New PROTAC conf is embedded and/or directly generted (in case of difflinker)\n",
    "\n",
    "Use to calculate also similarity ratio after reverse min max scaling over all samples."
   ]
  },
  {
   "cell_type": "code",
   "execution_count": null,
   "metadata": {},
   "outputs": [],
   "source": [
    "query_protac_xtal  = MoleculeInfo.from_sdf(os.path.join(pdb_folder, f'{pdb}_protac.sdf'))\n",
    "df['cd_protac_embed2xtal'] = df.progress_apply(lambda x: query_protac_xtal.get_chamfer_distance(MoleculeInfo.from_rdkit_mol(x['embedded_mol']), device=device) \\\n",
    "                                               if x['embedded_mol'] is not None and x['embedded_mol'] is not np.nan else None, axis=1)\n",
    "print('Chamfer distance between xtal and const embed: ', df['cd_protac_embed2xtal'].mean(skipna=True))"
   ]
  },
  {
   "cell_type": "code",
   "execution_count": null,
   "metadata": {},
   "outputs": [],
   "source": [
    "query_linker_xtal  = MoleculeInfo.from_sdf(os.path.join(pdb_folder, f'{pdb}_linker.sdf'))\n",
    "df['cd_linker_embed2xtal'] = df.progress_apply(lambda x: query_linker_xtal.get_chamfer_distance(MoleculeInfo.from_rdkit_mol(x['embedded_linker']), device=device) \\\n",
    "                                               if x['embedded_linker'] is not None and x['embedded_linker'] is not np.nan else None, axis=1)\n",
    "print('Chamfer distance between xtal and const embed linker: ', df['cd_linker_embed2xtal'].mean(skipna=True))"
   ]
  },
  {
   "cell_type": "code",
   "execution_count": null,
   "metadata": {},
   "outputs": [],
   "source": [
    "if method == 'difflinker':\n",
    "    df['cd_protac_method2xtal'] = df.progress_apply(lambda x: query_protac_xtal.get_chamfer_distance(MoleculeInfo.from_rdkit_mol(x['method_mol']), device=device) \\\n",
    "                                               if x['method_mol'] is not None and x['method_mol'] is not np.nan else None, axis=1)\n",
    "    print('Chamfer distance between xtal and generated pose: ', df['cd_protac_method2xtal'].mean(skipna=True))\n",
    "\n",
    "    df['cd_linker_method2xtal'] = df.progress_apply(lambda x: query_linker_xtal.get_chamfer_distance(MoleculeInfo.from_rdkit_mol(x['method_linker_mol']), device=device) \\\n",
    "                                               if x['method_linker_mol'] is not None and x['method_linker_mol'] is not np.nan else None, axis=1)\n",
    "    print('Chamfer distance between xtal and generated linker pose: ', df['cd_linker_method2xtal'].mean(skipna=True))"
   ]
  },
  {
   "attachments": {},
   "cell_type": "markdown",
   "metadata": {},
   "source": [
    "### Tanimoto similarity between new PROTAC and xtal reference"
   ]
  },
  {
   "cell_type": "code",
   "execution_count": null,
   "metadata": {},
   "outputs": [],
   "source": [
    "# max tanimoto similarity to reference linker\n",
    "PandasTools.AddMoleculeColumnToFrame(df, smilesCol='protac_smiles', molCol='mol_smi')\n",
    "df.loc[:,'fp_ptc'] = df.mol_smi.progress_apply(Chem.RDKFingerprint)\n",
    "ori_ptc_fp = Chem.RDKFingerprint(xtal_protac)\n",
    "df['tanimoto_ptc'] = df.fp_ptc.progress_apply(lambda x: DataStructs.FingerprintSimilarity(x, ori_ptc_fp))"
   ]
  },
  {
   "attachments": {},
   "cell_type": "markdown",
   "metadata": {},
   "source": [
    "### Chamfer distance between methods\n",
    "* Link-INVENT: between const. embed and shape aligned\n",
    "* DiffLinker: between const. embed and generated pose\n",
    "\n",
    "Based on: linker only"
   ]
  },
  {
   "cell_type": "code",
   "execution_count": null,
   "metadata": {},
   "outputs": [],
   "source": [
    "df['cd_aligned_linker_embed2aligned'] = df.progress_apply(lambda x: MoleculeInfo.from_rdkit_mol(x['embedded_linker']).align_to_molecules2\\\n",
    "                                                          (Molecules.from_molecule_info([MoleculeInfo.from_rdkit_mol(x['method_linker_mol'])]), model).chamfer_distance \\\n",
    "                                                          if x['embedded_linker'] is not None and x['embedded_linker'] is not np.nan and \\\n",
    "                                                             x['method_linker_mol'] is not None and x['method_linker_mol'] is not np.nan else np.nan, axis=1)\n",
    "print(df['cd_aligned_linker_embed2aligned'].mean(skipna=True))"
   ]
  },
  {
   "cell_type": "code",
   "execution_count": null,
   "metadata": {},
   "outputs": [],
   "source": [
    "def fraction2threshold(df, threshold, column, above=True):\n",
    "    '''\n",
    "    Returns the fraction of molecules in a dataframe with a score above/below a given threshold\n",
    "    '''\n",
    "    df = df[~df[column].isna()]\n",
    "    if above:\n",
    "        df_above = df[df[column] >= threshold]\n",
    "    else:\n",
    "        df_above = df[df[column] <= threshold]\n",
    "    metric = len(df_above)/len(df)*100\n",
    "    return df_above, metric"
   ]
  },
  {
   "cell_type": "code",
   "execution_count": null,
   "metadata": {},
   "outputs": [],
   "source": [
    "df_scored_fil, cutoff_fraction = fraction2threshold(df, 3.5, 'cd_aligned_linker_embed2aligned', above=False)\n",
    "cutoff_fraction"
   ]
  },
  {
   "cell_type": "code",
   "execution_count": null,
   "metadata": {},
   "outputs": [],
   "source": [
    "df_scored_fil, cutoff_fraction = fraction2threshold(df, 2.0, 'cd_aligned_linker_embed2aligned', above=False)\n",
    "cutoff_fraction"
   ]
  },
  {
   "cell_type": "code",
   "execution_count": null,
   "metadata": {},
   "outputs": [],
   "source": [
    "df_scored_fil, cutoff_fraction = fraction2threshold(df, 1.0, 'cd_aligned_linker_embed2aligned', above=False)\n",
    "cutoff_fraction"
   ]
  },
  {
   "attachments": {},
   "cell_type": "markdown",
   "metadata": {},
   "source": [
    "### Save data"
   ]
  },
  {
   "cell_type": "code",
   "execution_count": null,
   "metadata": {},
   "outputs": [],
   "source": [
    "df.columns"
   ]
  },
  {
   "cell_type": "code",
   "execution_count": null,
   "metadata": {},
   "outputs": [],
   "source": [
    "df_save = df.drop(columns=['method_mol', 'embedded_mol', 'method_linker_mol', 'embedded_linker', 'mol_smi', 'fp_ptc'])\n",
    "\n",
    "df_save.to_csv(os.path.join(gen_folder, f'{pdb}_sampled_{method}_valid.csv'), index=False)\n",
    "df_fil_save = df_save[df_save['to_3d']]\n",
    "df_fil_save.to_csv(os.path.join(gen_folder, f'{pdb}_sampled_{method}_valid_fil.csv'), index=False)"
   ]
  },
  {
   "cell_type": "code",
   "execution_count": null,
   "metadata": {},
   "outputs": [],
   "source": []
  }
 ],
 "metadata": {
  "kernelspec": {
   "display_name": "rn_env",
   "language": "python",
   "name": "python3"
  },
  "language_info": {
   "codemirror_mode": {
    "name": "ipython",
    "version": 3
   },
   "file_extension": ".py",
   "mimetype": "text/x-python",
   "name": "python",
   "nbconvert_exporter": "python",
   "pygments_lexer": "ipython3",
   "version": "3.9.7"
  },
  "orig_nbformat": 4,
  "vscode": {
   "interpreter": {
    "hash": "322e2706a3b065ade57181190dee4d3fc174f87cda022382b010766df70aa18b"
   }
  }
 },
 "nbformat": 4,
 "nbformat_minor": 2
}
