{
 "cells": [
  {
   "attachments": {},
   "cell_type": "markdown",
   "metadata": {},
   "source": [
    "# 3D metrics based on the surface distance"
   ]
  },
  {
   "cell_type": "code",
   "execution_count": 9,
   "metadata": {},
   "outputs": [],
   "source": [
    "import os\n",
    "import sys\n",
    "import glob\n",
    "\n",
    "from pathlib import Path\n",
    "import torch\n",
    "import pandas as pd\n",
    "import numpy as np\n",
    "from rdkit import Chem\n",
    "from rdkit import RDLogger, DataStructs\n",
    "from rdkit.Chem import PandasTools\n",
    "from rdkit.Chem.MolStandardize import rdMolStandardize\n",
    "import copy\n",
    "\n",
    "\n",
    "old_cwd = Path.cwd()\n",
    "os.chdir(Path.cwd().parent)\n",
    "from shape_alignment.molecule import Molecules, MoleculeInfo\n",
    "os.chdir(old_cwd)\n",
    "\n",
    "sys.path.append(os.path.dirname(os.path.dirname(os.path.dirname(os.getcwd()))))\n",
    "from utils.chem_transforms import remove_atom_indices, replace_atom_indices"
   ]
  },
  {
   "cell_type": "code",
   "execution_count": 10,
   "metadata": {},
   "outputs": [],
   "source": [
    "from tqdm._tqdm_notebook import tqdm_notebook\n",
    "tqdm_notebook.pandas()"
   ]
  },
  {
   "cell_type": "code",
   "execution_count": 11,
   "metadata": {},
   "outputs": [],
   "source": [
    "lg = RDLogger.logger()\n",
    "lg.setLevel(RDLogger.CRITICAL)"
   ]
  },
  {
   "attachments": {},
   "cell_type": "markdown",
   "metadata": {},
   "source": [
    "## Load data"
   ]
  },
  {
   "cell_type": "code",
   "execution_count": 12,
   "metadata": {},
   "outputs": [],
   "source": [
    "pdb = '7JTO'\n",
    "method = 'difflinker'"
   ]
  },
  {
   "cell_type": "code",
   "execution_count": 13,
   "metadata": {},
   "outputs": [
    {
     "name": "stdout",
     "output_type": "stream",
     "text": [
      "['data/generated/7JTO_sampled_difflinker_valid_fil.csv']\n"
     ]
    },
    {
     "data": {
      "text/html": [
       "<div>\n",
       "<style scoped>\n",
       "    .dataframe tbody tr th:only-of-type {\n",
       "        vertical-align: middle;\n",
       "    }\n",
       "\n",
       "    .dataframe tbody tr th {\n",
       "        vertical-align: top;\n",
       "    }\n",
       "\n",
       "    .dataframe thead th {\n",
       "        text-align: right;\n",
       "    }\n",
       "</style>\n",
       "<table border=\"1\" class=\"dataframe\">\n",
       "  <thead>\n",
       "    <tr style=\"text-align: right;\">\n",
       "      <th></th>\n",
       "      <th>ID</th>\n",
       "      <th>reference</th>\n",
       "      <th>lig_id</th>\n",
       "      <th>protac_smiles</th>\n",
       "      <th>linker_smiles</th>\n",
       "      <th>anchor_smiles</th>\n",
       "      <th>warhead_smiles</th>\n",
       "      <th>anchor_ev</th>\n",
       "      <th>warhead_ev</th>\n",
       "      <th>POI</th>\n",
       "      <th>...</th>\n",
       "      <th>embedded_path</th>\n",
       "      <th>rmsd_anc</th>\n",
       "      <th>rmsd_wrh</th>\n",
       "      <th>sc_rdkit</th>\n",
       "      <th>vinardo</th>\n",
       "      <th>cd_protac_embed2xtal</th>\n",
       "      <th>cd_protac_method2xtal</th>\n",
       "      <th>tanimoto_ptc</th>\n",
       "      <th>cd_aligend_linker_embed2aligned</th>\n",
       "      <th>cd_aligned_linker_embed2aligned</th>\n",
       "    </tr>\n",
       "  </thead>\n",
       "  <tbody>\n",
       "    <tr>\n",
       "      <th>0</th>\n",
       "      <td>7JTO_difflinker_678</td>\n",
       "      <td>7JTO</td>\n",
       "      <td>MS33</td>\n",
       "      <td>Cc1ncsc1-c1ccc(CNC(=O)[C@@H]2C[C@@H](O)CN2C(=O...</td>\n",
       "      <td>CCCCCC(=O)OCOCCOC</td>\n",
       "      <td>Cc1ncsc1-c1ccc(CNC(=O)[C@@H]2C[C@@H](O)CN2C(=O...</td>\n",
       "      <td>CN1CCN(c2ccc(-c3cccc(CN4CCNCC4)c3)cc2NC(=O)C2=...</td>\n",
       "      <td>Cc1ncsc1-c1ccc(CNC(=O)[C@@H]2C[C@@H](O)CN2C(=O...</td>\n",
       "      <td>CN1CCN(c2ccc(-c3cccc(CN4CCN([*:2])CC4)c3)cc2NC...</td>\n",
       "      <td>WDR5</td>\n",
       "      <td>...</td>\n",
       "      <td>selected_min_conf6__7JTO_difflinker_678.sdf</td>\n",
       "      <td>0.423307</td>\n",
       "      <td>0.400898</td>\n",
       "      <td>0.788413</td>\n",
       "      <td>-17.00314</td>\n",
       "      <td>1.152685</td>\n",
       "      <td>1.108036</td>\n",
       "      <td>0.964643</td>\n",
       "      <td>5.571145</td>\n",
       "      <td>5.692617</td>\n",
       "    </tr>\n",
       "    <tr>\n",
       "      <th>1</th>\n",
       "      <td>7JTO_difflinker_1584</td>\n",
       "      <td>7JTO</td>\n",
       "      <td>MS33</td>\n",
       "      <td>Cc1ncsc1-c1ccc(CNC(=O)[C@@H]2C[C@@H](O)CN2C(=O...</td>\n",
       "      <td>CCCCCC(=O)N[C@H](C)CCCC</td>\n",
       "      <td>Cc1ncsc1-c1ccc(CNC(=O)[C@@H]2C[C@@H](O)CN2C(=O...</td>\n",
       "      <td>CN1CCN(c2ccc(-c3cccc(CN4CCNCC4)c3)cc2NC(=O)C2=...</td>\n",
       "      <td>Cc1ncsc1-c1ccc(CNC(=O)[C@@H]2C[C@@H](O)CN2C(=O...</td>\n",
       "      <td>CN1CCN(c2ccc(-c3cccc(CN4CCN([*:2])CC4)c3)cc2NC...</td>\n",
       "      <td>WDR5</td>\n",
       "      <td>...</td>\n",
       "      <td>selected_min_conf2__7JTO_difflinker_1584.sdf</td>\n",
       "      <td>0.404619</td>\n",
       "      <td>0.547204</td>\n",
       "      <td>0.757546</td>\n",
       "      <td>-18.05297</td>\n",
       "      <td>1.250658</td>\n",
       "      <td>1.151019</td>\n",
       "      <td>0.998622</td>\n",
       "      <td>3.292739</td>\n",
       "      <td>3.470201</td>\n",
       "    </tr>\n",
       "    <tr>\n",
       "      <th>2</th>\n",
       "      <td>7JTO_difflinker_3051</td>\n",
       "      <td>7JTO</td>\n",
       "      <td>MS33</td>\n",
       "      <td>Cc1ncsc1-c1ccc(CNC(=O)[C@@H]2C[C@@H](O)CN2C(=O...</td>\n",
       "      <td>CCOCCC[C@@H]1CCC[C@H]1CC=O</td>\n",
       "      <td>Cc1ncsc1-c1ccc(CNC(=O)[C@@H]2C[C@@H](O)CN2C(=O...</td>\n",
       "      <td>CN1CCN(c2ccc(-c3cccc(CN4CCNCC4)c3)cc2NC(=O)C2=...</td>\n",
       "      <td>Cc1ncsc1-c1ccc(CNC(=O)[C@@H]2C[C@@H](O)CN2C(=O...</td>\n",
       "      <td>CN1CCN(c2ccc(-c3cccc(CN4CCN([*:2])CC4)c3)cc2NC...</td>\n",
       "      <td>WDR5</td>\n",
       "      <td>...</td>\n",
       "      <td>selected_min_conf1__7JTO_difflinker_3051.sdf</td>\n",
       "      <td>0.399479</td>\n",
       "      <td>0.538391</td>\n",
       "      <td>0.775668</td>\n",
       "      <td>-18.38470</td>\n",
       "      <td>1.204676</td>\n",
       "      <td>1.194152</td>\n",
       "      <td>0.973136</td>\n",
       "      <td>2.414808</td>\n",
       "      <td>2.486691</td>\n",
       "    </tr>\n",
       "  </tbody>\n",
       "</table>\n",
       "<p>3 rows × 40 columns</p>\n",
       "</div>"
      ],
      "text/plain": [
       "                     ID reference lig_id  \\\n",
       "0   7JTO_difflinker_678      7JTO   MS33   \n",
       "1  7JTO_difflinker_1584      7JTO   MS33   \n",
       "2  7JTO_difflinker_3051      7JTO   MS33   \n",
       "\n",
       "                                       protac_smiles  \\\n",
       "0  Cc1ncsc1-c1ccc(CNC(=O)[C@@H]2C[C@@H](O)CN2C(=O...   \n",
       "1  Cc1ncsc1-c1ccc(CNC(=O)[C@@H]2C[C@@H](O)CN2C(=O...   \n",
       "2  Cc1ncsc1-c1ccc(CNC(=O)[C@@H]2C[C@@H](O)CN2C(=O...   \n",
       "\n",
       "                linker_smiles  \\\n",
       "0           CCCCCC(=O)OCOCCOC   \n",
       "1     CCCCCC(=O)N[C@H](C)CCCC   \n",
       "2  CCOCCC[C@@H]1CCC[C@H]1CC=O   \n",
       "\n",
       "                                       anchor_smiles  \\\n",
       "0  Cc1ncsc1-c1ccc(CNC(=O)[C@@H]2C[C@@H](O)CN2C(=O...   \n",
       "1  Cc1ncsc1-c1ccc(CNC(=O)[C@@H]2C[C@@H](O)CN2C(=O...   \n",
       "2  Cc1ncsc1-c1ccc(CNC(=O)[C@@H]2C[C@@H](O)CN2C(=O...   \n",
       "\n",
       "                                      warhead_smiles  \\\n",
       "0  CN1CCN(c2ccc(-c3cccc(CN4CCNCC4)c3)cc2NC(=O)C2=...   \n",
       "1  CN1CCN(c2ccc(-c3cccc(CN4CCNCC4)c3)cc2NC(=O)C2=...   \n",
       "2  CN1CCN(c2ccc(-c3cccc(CN4CCNCC4)c3)cc2NC(=O)C2=...   \n",
       "\n",
       "                                           anchor_ev  \\\n",
       "0  Cc1ncsc1-c1ccc(CNC(=O)[C@@H]2C[C@@H](O)CN2C(=O...   \n",
       "1  Cc1ncsc1-c1ccc(CNC(=O)[C@@H]2C[C@@H](O)CN2C(=O...   \n",
       "2  Cc1ncsc1-c1ccc(CNC(=O)[C@@H]2C[C@@H](O)CN2C(=O...   \n",
       "\n",
       "                                          warhead_ev   POI  ...  \\\n",
       "0  CN1CCN(c2ccc(-c3cccc(CN4CCN([*:2])CC4)c3)cc2NC...  WDR5  ...   \n",
       "1  CN1CCN(c2ccc(-c3cccc(CN4CCN([*:2])CC4)c3)cc2NC...  WDR5  ...   \n",
       "2  CN1CCN(c2ccc(-c3cccc(CN4CCN([*:2])CC4)c3)cc2NC...  WDR5  ...   \n",
       "\n",
       "                                  embedded_path  rmsd_anc  rmsd_wrh  sc_rdkit  \\\n",
       "0   selected_min_conf6__7JTO_difflinker_678.sdf  0.423307  0.400898  0.788413   \n",
       "1  selected_min_conf2__7JTO_difflinker_1584.sdf  0.404619  0.547204  0.757546   \n",
       "2  selected_min_conf1__7JTO_difflinker_3051.sdf  0.399479  0.538391  0.775668   \n",
       "\n",
       "    vinardo  cd_protac_embed2xtal  cd_protac_method2xtal  tanimoto_ptc  \\\n",
       "0 -17.00314              1.152685               1.108036      0.964643   \n",
       "1 -18.05297              1.250658               1.151019      0.998622   \n",
       "2 -18.38470              1.204676               1.194152      0.973136   \n",
       "\n",
       "   cd_aligend_linker_embed2aligned  cd_aligned_linker_embed2aligned  \n",
       "0                         5.571145                         5.692617  \n",
       "1                         3.292739                         3.470201  \n",
       "2                         2.414808                         2.486691  \n",
       "\n",
       "[3 rows x 40 columns]"
      ]
     },
     "execution_count": 13,
     "metadata": {},
     "output_type": "execute_result"
    }
   ],
   "source": [
    "gen_folder = 'data/generated'\n",
    "poses_root = os.path.join(os.path.expanduser('~'), 'data/protacs/preprint')\n",
    "filepath = glob.glob(os.path.join(gen_folder, f'{pdb}_sampled_{method}_valid_fil.csv'))\n",
    "print(filepath)\n",
    "df = pd.read_csv(filepath[0])\n",
    "df.head()"
   ]
  },
  {
   "attachments": {},
   "cell_type": "markdown",
   "metadata": {},
   "source": [
    "### Get constrained embedded conformers"
   ]
  },
  {
   "cell_type": "code",
   "execution_count": 15,
   "metadata": {},
   "outputs": [
    {
     "name": "stdout",
     "output_type": "stream",
     "text": [
      "['/home/rebeccaneeser/data/protacs/preprint/const_embed/7JTO_difflinker_embed/selected_min_confs']\n"
     ]
    }
   ],
   "source": [
    "pose_folders = os.path.join(poses_root, 'const_embed')\n",
    "const_embed_path = os.path.join(pose_folders, f'{pdb}_{method}_embed')\n",
    "const_embed_pose_folder = glob.glob(os.path.join(const_embed_path,'selected_min_confs'))\n",
    "print(const_embed_pose_folder)"
   ]
  },
  {
   "cell_type": "code",
   "execution_count": 16,
   "metadata": {},
   "outputs": [],
   "source": [
    "def get_embedded_confs(sdfpath: str,) -> Chem.Mol:\n",
    "    if sdfpath is np.nan:\n",
    "        return None\n",
    "    sdfpath = os.path.join(const_embed_pose_folder[0], sdfpath)\n",
    "    mol = Chem.SDMolSupplier(sdfpath)[0]\n",
    "    return mol"
   ]
  },
  {
   "cell_type": "code",
   "execution_count": 17,
   "metadata": {},
   "outputs": [
    {
     "data": {
      "application/vnd.jupyter.widget-view+json": {
       "model_id": "a2a6581338fc46229c2ee69a74073681",
       "version_major": 2,
       "version_minor": 0
      },
      "text/plain": [
       "  0%|          | 0/3 [00:00<?, ?it/s]"
      ]
     },
     "metadata": {},
     "output_type": "display_data"
    }
   ],
   "source": [
    "# store embedded conformers and vinardo scores in dataframe using apply\n",
    "df['embedded_mol'] = df.progress_apply(lambda x: get_embedded_confs(x['embedded_path']), axis=1)"
   ]
  },
  {
   "cell_type": "code",
   "execution_count": 18,
   "metadata": {},
   "outputs": [
    {
     "data": {
      "text/plain": [
       "(3, 3)"
      ]
     },
     "execution_count": 18,
     "metadata": {},
     "output_type": "execute_result"
    }
   ],
   "source": [
    "len(df[~df['embedded_mol'].isna()]), len(df)"
   ]
  },
  {
   "attachments": {},
   "cell_type": "markdown",
   "metadata": {},
   "source": [
    "### Get poses respective to method (shape aligned or generated)"
   ]
  },
  {
   "cell_type": "code",
   "execution_count": 19,
   "metadata": {},
   "outputs": [],
   "source": [
    "def get_shape_aligned_pose(sdffolder: str, mol_id: str) -> Chem.Mol:\n",
    "    try:\n",
    "        molpath = os.path.join(sdffolder, f'{mol_id}_pose.sdf')\n",
    "        mol = Chem.SDMolSupplier(molpath)[0]\n",
    "    except:\n",
    "        try:\n",
    "            molpath = os.path.join(sdffolder, f'{mol_id}_pose.mol')\n",
    "            mol = Chem.MolFromMolFile(molpath)\n",
    "        except:\n",
    "            return None\n",
    "    return mol\n",
    "\n",
    "def get_diff_gen_pose(folder: str, sdfpath: str) -> Chem.Mol:\n",
    "    if sdfpath is np.nan or sdfpath is None:\n",
    "        return None\n",
    "    sdffile = sdfpath.split('/')[-1]\n",
    "    sdfpath_new = os.path.join(folder, pdb, sdffile)\n",
    "    mol = Chem.SDMolSupplier(sdfpath_new)[0]\n",
    "    return mol"
   ]
  },
  {
   "cell_type": "code",
   "execution_count": 20,
   "metadata": {},
   "outputs": [
    {
     "data": {
      "application/vnd.jupyter.widget-view+json": {
       "model_id": "2c6083dd3c17450bbe946e82e92ef18b",
       "version_major": 2,
       "version_minor": 0
      },
      "text/plain": [
       "  0%|          | 0/3 [00:00<?, ?it/s]"
      ]
     },
     "metadata": {},
     "output_type": "display_data"
    }
   ],
   "source": [
    "if method == 'difflinker':\n",
    "    df_all = pd.read_csv(os.path.join(gen_folder, f'{pdb}_sampled_{method}_valid.csv'))\n",
    "    gen_folder_path = os.path.join(poses_root, 'difflinker_gen_confs')\n",
    "    df_all['method_mol'] = df_all.progress_apply(lambda x: get_diff_gen_pose(gen_folder_path, x['ori_gen_ptc_filename']), axis=1)\n",
    "\n",
    "    col_insert = ['E_torsion',\n",
    "    'clashes_cutoff',\n",
    "    'clashes_vdw',\n",
    "    'embedded_mol',\n",
    "    'embedded_path',\n",
    "    'rmsd_anc',\n",
    "    'rmsd_wrh',\n",
    "    'sc_rdkit',\n",
    "    'vinardo']\n",
    "    for col in col_insert:\n",
    "        # transfer columns from df_all to df by mapping ID\n",
    "        df_all[col] = df_all['ID'].map(df.set_index('ID')[col])\n",
    "    df = df_all\n",
    "else:\n",
    "    df_all = pd.read_csv(os.path.join(gen_folder, f'{pdb}_sampled_{method}_valid.csv'))\n",
    "    shape_align_path = os.path.join(gen_folder, f'{pdb}_{method}_aligned_poses')\n",
    "    df_all['method_mol'] = df_all.progress_apply(lambda x: get_shape_aligned_pose(shape_align_path, x['ID']), axis=1)\n",
    "    col_insert = ['E_torsion',\n",
    "    'clashes_cutoff',\n",
    "    'clashes_vdw',\n",
    "    'embedded_mol',\n",
    "    'embedded_path',\n",
    "    'rmsd_anc',\n",
    "    'rmsd_wrh',\n",
    "    'sc_rdkit',\n",
    "    'vinardo']\n",
    "    for col in col_insert:\n",
    "        # transfer columns from df_all to df by mapping ID\n",
    "        df_all[col] = df_all['ID'].map(df.set_index('ID')[col])\n",
    "    df = df_all"
   ]
  },
  {
   "cell_type": "code",
   "execution_count": 21,
   "metadata": {},
   "outputs": [
    {
     "data": {
      "text/plain": [
       "(3, 3, 3)"
      ]
     },
     "execution_count": 21,
     "metadata": {},
     "output_type": "execute_result"
    }
   ],
   "source": [
    "len(df), len(df[~df['method_mol'].isna()]), len(df[~df['embedded_mol'].isna()])"
   ]
  },
  {
   "attachments": {},
   "cell_type": "markdown",
   "metadata": {},
   "source": [
    "### Get xtal poses"
   ]
  },
  {
   "cell_type": "code",
   "execution_count": 22,
   "metadata": {},
   "outputs": [],
   "source": [
    "xtal_folder = 'data/xtal_poses'\n",
    "pdb_folder = os.path.join(xtal_folder, pdb, f'{pdb}_fragments')\n",
    "xtal_protein_path = os.path.join(pdb_folder, f'{pdb}_protein.pdb')\n",
    "# xtal_ext_linker = Chem.MolFromMolFile(os.path.join(pdb_folder,f'{pdb}_linker_extended.sdf'))\n",
    "xtal_protac = Chem.MolFromMolFile(os.path.join(pdb_folder, f'{pdb}_protac.sdf'))\n",
    "xtal_linker = Chem.MolFromMolFile(os.path.join(pdb_folder, f'{pdb}_linker.sdf'))\n",
    "xtal_anchor = Chem.MolFromMolFile(os.path.join(pdb_folder, f'{pdb}_anchor.sdf'))\n",
    "xtal_warhead = Chem.MolFromMolFile(os.path.join(pdb_folder, f'{pdb}_warhead.sdf'))"
   ]
  },
  {
   "attachments": {},
   "cell_type": "markdown",
   "metadata": {},
   "source": [
    "### Get linker only from poses"
   ]
  },
  {
   "cell_type": "code",
   "execution_count": 23,
   "metadata": {},
   "outputs": [],
   "source": [
    "def linker_from_extlinker(aligned_ext_linker, protac_smi, wrh_smi, anc_smi, linker_smi):\n",
    "    if aligned_ext_linker is None:\n",
    "        return None\n",
    "    protac_mol = Chem.MolFromSmiles(protac_smi)\n",
    "    wrh_mol = Chem.MolFromSmiles(wrh_smi)\n",
    "    anc_mol = Chem.MolFromSmiles(anc_smi)\n",
    "    linker_mol = Chem.MolFromSmiles(linker_smi)\n",
    "    try:\n",
    "        linker_mol = Chem.RemoveAllHs(linker_mol)\n",
    "    except:\n",
    "        return None\n",
    "    match_ext_link= protac_mol.GetSubstructMatch(aligned_ext_linker)\n",
    "    match_wrh = protac_mol.GetSubstructMatch(wrh_mol)\n",
    "    match_anc = protac_mol.GetSubstructMatch(anc_mol)\n",
    "    # get overlaps\n",
    "    overlap_wrh = set(match_wrh).intersection(set(match_ext_link))\n",
    "    overlap_anc = set(match_anc).intersection(set(match_ext_link))\n",
    "    num_frag_wrh = len(overlap_wrh)\n",
    "    num_frag_anc = len(overlap_anc)\n",
    "    matches_linker = aligned_ext_linker.GetSubstructMatches(linker_mol)\n",
    "    true_match = None\n",
    "    for match in matches_linker:\n",
    "    # sort match in reverse\n",
    "        match = sorted(match, reverse=True)\n",
    "        try:\n",
    "            ext_frags = remove_atom_indices(aligned_ext_linker, match)\n",
    "            # get individual fragments\n",
    "            ext_frags = Chem.GetMolFrags(ext_frags, asMols=True)\n",
    "            # check if number of atoms in ext_frags matches num_frag_wrh and num_frag_anc\n",
    "            if len(ext_frags[0].GetAtoms()) == num_frag_wrh and len(ext_frags[1].GetAtoms()) == num_frag_anc:\n",
    "                true_match = match\n",
    "                break\n",
    "            elif len(ext_frags[1].GetAtoms()) == num_frag_wrh and len(ext_frags[0].GetAtoms()) == num_frag_anc:\n",
    "                true_match = match\n",
    "                break\n",
    "        except:\n",
    "            continue\n",
    "    if true_match is None:\n",
    "        print('No match found')\n",
    "        return None\n",
    "    all_ext_lin_indices = [a.GetIdx() for a in aligned_ext_linker.GetAtoms()]\n",
    "    to_keep = list(set(all_ext_lin_indices).intersection(set(true_match)))\n",
    "    to_remove = list(set(all_ext_lin_indices).difference(set(true_match)))\n",
    "    ev_indices = []\n",
    "    for a in aligned_ext_linker.GetAtoms():\n",
    "        a.SetAtomMapNum(a.GetIdx()+1)\n",
    "    for b in aligned_ext_linker.GetBonds():\n",
    "        if b.GetBeginAtomIdx() in to_remove and b.GetEndAtomIdx() in to_keep:\n",
    "            ev_indices.append(b.GetBeginAtomIdx())\n",
    "            to_remove.remove(b.GetBeginAtomIdx())\n",
    "        elif b.GetEndAtomIdx() in to_remove and b.GetBeginAtomIdx() in to_keep:\n",
    "            ev_indices.append(b.GetEndAtomIdx())\n",
    "            to_remove.remove(b.GetEndAtomIdx())\n",
    "    # sort in reverse\n",
    "    to_remove = sorted(to_remove, reverse=True)\n",
    "    linker_pose_aligned = remove_atom_indices(aligned_ext_linker, to_remove)\n",
    "    a_dict = {a.GetAtomMapNum()-1: a.GetIdx() for a in linker_pose_aligned.GetAtoms()}\n",
    "    ev_indices = [a_dict[i] for i in ev_indices]\n",
    "    ev_indices = sorted(ev_indices, reverse=True)\n",
    "    linker_pose_aligned = replace_atom_indices(linker_pose_aligned, ev_indices)\n",
    "    for a in linker_pose_aligned.GetAtoms():\n",
    "        a.SetAtomMapNum(0)\n",
    "    for a in aligned_ext_linker.GetAtoms():\n",
    "        a.SetAtomMapNum(0)\n",
    "    try:\n",
    "        linker_pose_aligned = Chem.RemoveHs(linker_pose_aligned)\n",
    "    except:\n",
    "        return linker_pose_aligned\n",
    "    return linker_pose_aligned\n"
   ]
  },
  {
   "cell_type": "code",
   "execution_count": 24,
   "metadata": {},
   "outputs": [],
   "source": [
    "if method != 'difflinker':\n",
    "    df['method_linker_mol'] = df.progress_apply(lambda x: linker_from_extlinker(x['method_mol'], x['protac_smiles'], x['warhead_smiles'], x['anchor_smiles'], x['linker_smiles']), axis=1)"
   ]
  },
  {
   "cell_type": "code",
   "execution_count": 25,
   "metadata": {},
   "outputs": [],
   "source": [
    "def linker_from_fullpose(protac_pose, wrh_smi, anc_smi):\n",
    "    if protac_pose is None or protac_pose is np.nan:\n",
    "        return None\n",
    "    wrh_mol = Chem.MolFromSmiles(wrh_smi)\n",
    "    anc_mol = Chem.MolFromSmiles(anc_smi)\n",
    "    match_wrh = protac_pose.GetSubstructMatch(wrh_mol)\n",
    "    match_anc = protac_pose.GetSubstructMatch(anc_mol)\n",
    "    # sort match in reverse\n",
    "    all_ptc_indices = [a.GetIdx() for a in protac_pose.GetAtoms()]\n",
    "    to_remove = match_wrh + match_anc\n",
    "    to_remove = list(set(to_remove))\n",
    "    to_keep = list(set(all_ptc_indices) -set(to_remove))\n",
    "    ev_indices = []\n",
    "    for a in protac_pose.GetAtoms():\n",
    "        a.SetAtomMapNum(a.GetIdx()+1)\n",
    "    for b in protac_pose.GetBonds():\n",
    "        if b.GetBeginAtomIdx() in to_remove and b.GetEndAtomIdx() in to_keep:\n",
    "            ev_indices.append(b.GetBeginAtomIdx())\n",
    "            to_remove.remove(b.GetBeginAtomIdx())\n",
    "        elif b.GetEndAtomIdx() in to_remove and b.GetBeginAtomIdx() in to_keep:\n",
    "            ev_indices.append(b.GetEndAtomIdx())\n",
    "            to_remove.remove(b.GetEndAtomIdx())\n",
    "    to_remove = sorted(to_remove, reverse=True)\n",
    "    embedded_linker = remove_atom_indices(protac_pose, to_remove)\n",
    "    a_dict = {a.GetAtomMapNum()-1: a.GetIdx() for a in embedded_linker.GetAtoms()}\n",
    "    ev_indices = [a_dict[i] for i in ev_indices]\n",
    "    ev_indices = sorted(ev_indices, reverse=True)\n",
    "    embedded_linker = replace_atom_indices(embedded_linker, ev_indices)\n",
    "    for a in embedded_linker.GetAtoms():\n",
    "        a.SetAtomMapNum(0)\n",
    "    for a in protac_pose.GetAtoms():\n",
    "        a.SetAtomMapNum(0)\n",
    "    # embedded_linker = Chem.RemoveHs(embedded_linker)\n",
    "    return embedded_linker"
   ]
  },
  {
   "cell_type": "code",
   "execution_count": 26,
   "metadata": {},
   "outputs": [
    {
     "data": {
      "application/vnd.jupyter.widget-view+json": {
       "model_id": "5327ecf011c74e5faffd7836fdf32d6b",
       "version_major": 2,
       "version_minor": 0
      },
      "text/plain": [
       "  0%|          | 0/3 [00:00<?, ?it/s]"
      ]
     },
     "metadata": {},
     "output_type": "display_data"
    }
   ],
   "source": [
    "df['embedded_linker'] = df.progress_apply(lambda x: linker_from_fullpose(x['embedded_mol'], x['warhead_smiles'], x['anchor_smiles']), axis=1)"
   ]
  },
  {
   "cell_type": "code",
   "execution_count": 27,
   "metadata": {},
   "outputs": [
    {
     "data": {
      "application/vnd.jupyter.widget-view+json": {
       "model_id": "691fcbaf2803441c9168d91c6d41d5c3",
       "version_major": 2,
       "version_minor": 0
      },
      "text/plain": [
       "  0%|          | 0/3 [00:00<?, ?it/s]"
      ]
     },
     "metadata": {},
     "output_type": "display_data"
    }
   ],
   "source": [
    "if method == 'difflinker':\n",
    "    df['method_linker_mol'] = df.progress_apply(lambda x: linker_from_fullpose(x['method_mol'], x['warhead_smiles'], x['anchor_smiles']), axis=1)"
   ]
  },
  {
   "attachments": {},
   "cell_type": "markdown",
   "metadata": {},
   "source": [
    "## Load model"
   ]
  },
  {
   "cell_type": "code",
   "execution_count": 28,
   "metadata": {},
   "outputs": [
    {
     "name": "stderr",
     "output_type": "stream",
     "text": [
      "INFO - 2023-02-17 00:01:02,591 - instantiator - Created a temporary directory at /tmp/tmpm8zwc8ix\n",
      "INFO - 2023-02-17 00:01:02,599 - instantiator - Writing /tmp/tmpm8zwc8ix/_remote_module_non_sriptable.py\n"
     ]
    },
    {
     "data": {
      "text/plain": [
       "PCRSingleMasked(\n",
       "  (coarse): PCRBaseMasked(\n",
       "    (lin_in): Linear(in_features=3, out_features=16, bias=True)\n",
       "    (attn): MultiheadAttention(\n",
       "      (out_proj): NonDynamicallyQuantizableLinear(in_features=16, out_features=16, bias=True)\n",
       "    )\n",
       "    (cross_attn): MultiheadAttention(\n",
       "      (out_proj): NonDynamicallyQuantizableLinear(in_features=16, out_features=16, bias=True)\n",
       "    )\n",
       "    (lin_out): Linear(in_features=16, out_features=3, bias=True)\n",
       "  )\n",
       ")"
      ]
     },
     "execution_count": 28,
     "metadata": {},
     "output_type": "execute_result"
    }
   ],
   "source": [
    "if torch.cuda.is_available():\n",
    "    device = torch.device(\"cuda\")\n",
    "else:\n",
    "    device = torch.device(\"cpu\")\n",
    "model = torch.load(\"/home/rebeccaneeser/data/protacs/preprint/shape_align/protacdb_extlinker_model_align.pth\", map_location=device)\n",
    "model.to(device)\n",
    "model.eval()"
   ]
  },
  {
   "attachments": {},
   "cell_type": "markdown",
   "metadata": {},
   "source": [
    "## Metrics"
   ]
  },
  {
   "attachments": {},
   "cell_type": "markdown",
   "metadata": {},
   "source": [
    "### Chamfer distance between new PROTAC conf and xtal conf\n",
    "New PROTAC conf is embedded and/or directly generted (in case of difflinker)\n",
    "\n",
    "Use to calculate also similarity ratio after reverse min max scaling over all samples."
   ]
  },
  {
   "cell_type": "code",
   "execution_count": 29,
   "metadata": {},
   "outputs": [
    {
     "data": {
      "application/vnd.jupyter.widget-view+json": {
       "model_id": "7d8bdf4e3f8a4c23ae70ed9c123f115b",
       "version_major": 2,
       "version_minor": 0
      },
      "text/plain": [
       "  0%|          | 0/3 [00:00<?, ?it/s]"
      ]
     },
     "metadata": {},
     "output_type": "display_data"
    },
    {
     "name": "stdout",
     "output_type": "stream",
     "text": [
      "Chamfer distance between xtal and const embed:  1.2042349576950073\n"
     ]
    }
   ],
   "source": [
    "query_protac_xtal  = MoleculeInfo.from_sdf(os.path.join(pdb_folder, f'{pdb}_protac.sdf'))\n",
    "df['cd_protac_embed2xtal'] = df.progress_apply(lambda x: query_protac_xtal.get_chamfer_distance(MoleculeInfo.from_rdkit_mol(x['embedded_mol']), device=device) \\\n",
    "                                               if x['embedded_mol'] is not None and x['embedded_mol'] is not np.nan else None, axis=1)\n",
    "print('Chamfer distance between xtal and const embed: ', df['cd_protac_embed2xtal'].mean(skipna=True))"
   ]
  },
  {
   "cell_type": "code",
   "execution_count": 30,
   "metadata": {},
   "outputs": [
    {
     "data": {
      "application/vnd.jupyter.widget-view+json": {
       "model_id": "f3a1962fe84c41ceb560ca80e0ba3f5f",
       "version_major": 2,
       "version_minor": 0
      },
      "text/plain": [
       "  0%|          | 0/3 [00:00<?, ?it/s]"
      ]
     },
     "metadata": {},
     "output_type": "display_data"
    },
    {
     "name": "stdout",
     "output_type": "stream",
     "text": [
      "Chamfer distance between xtal and const embed linker:  2.3114216327667236\n"
     ]
    }
   ],
   "source": [
    "query_linker_xtal  = MoleculeInfo.from_sdf(os.path.join(pdb_folder, f'{pdb}_linker.sdf'))\n",
    "df['cd_linker_embed2xtal'] = df.progress_apply(lambda x: query_linker_xtal.get_chamfer_distance(MoleculeInfo.from_rdkit_mol(x['embedded_linker']), device=device) \\\n",
    "                                               if x['embedded_linker'] is not None and x['embedded_linker'] is not np.nan else None, axis=1)\n",
    "print('Chamfer distance between xtal and const embed linker: ', df['cd_linker_embed2xtal'].mean(skipna=True))"
   ]
  },
  {
   "cell_type": "code",
   "execution_count": 31,
   "metadata": {},
   "outputs": [
    {
     "data": {
      "application/vnd.jupyter.widget-view+json": {
       "model_id": "91ce8c96122d4dac8cce9c690a23f7ad",
       "version_major": 2,
       "version_minor": 0
      },
      "text/plain": [
       "  0%|          | 0/3 [00:00<?, ?it/s]"
      ]
     },
     "metadata": {},
     "output_type": "display_data"
    },
    {
     "name": "stdout",
     "output_type": "stream",
     "text": [
      "Chamfer distance between xtal and generated pose:  1.1533020337422688\n"
     ]
    },
    {
     "data": {
      "application/vnd.jupyter.widget-view+json": {
       "model_id": "734b6d0cadff4f5590cf4102cb4b6e04",
       "version_major": 2,
       "version_minor": 0
      },
      "text/plain": [
       "  0%|          | 0/3 [00:00<?, ?it/s]"
      ]
     },
     "metadata": {},
     "output_type": "display_data"
    },
    {
     "name": "stdout",
     "output_type": "stream",
     "text": [
      "Chamfer distance between xtal and generated linker pose:  2.2213172117869058\n"
     ]
    }
   ],
   "source": [
    "if method == 'difflinker':\n",
    "    df['cd_protac_method2xtal'] = df.progress_apply(lambda x: query_protac_xtal.get_chamfer_distance(MoleculeInfo.from_rdkit_mol(x['method_mol']), device=device) \\\n",
    "                                               if x['method_mol'] is not None and x['method_mol'] is not np.nan else None, axis=1)\n",
    "    print('Chamfer distance between xtal and generated pose: ', df['cd_protac_method2xtal'].mean(skipna=True))\n",
    "\n",
    "    df['cd_linker_method2xtal'] = df.progress_apply(lambda x: query_linker_xtal.get_chamfer_distance(MoleculeInfo.from_rdkit_mol(x['method_linker_mol']), device=device) \\\n",
    "                                               if x['method_linker_mol'] is not None and x['method_linker_mol'] is not np.nan else None, axis=1)\n",
    "    print('Chamfer distance between xtal and generated linker pose: ', df['cd_linker_method2xtal'].mean(skipna=True))"
   ]
  },
  {
   "attachments": {},
   "cell_type": "markdown",
   "metadata": {},
   "source": [
    "### Tanimoto similarity between new PROTAC and xtal reference"
   ]
  },
  {
   "cell_type": "code",
   "execution_count": 32,
   "metadata": {},
   "outputs": [
    {
     "data": {
      "application/vnd.jupyter.widget-view+json": {
       "model_id": "2f9e703b85f7421e9ebfae6af47bdf5e",
       "version_major": 2,
       "version_minor": 0
      },
      "text/plain": [
       "  0%|          | 0/3 [00:00<?, ?it/s]"
      ]
     },
     "metadata": {},
     "output_type": "display_data"
    },
    {
     "data": {
      "application/vnd.jupyter.widget-view+json": {
       "model_id": "54234f5ec7c8483fa71229605fda26ef",
       "version_major": 2,
       "version_minor": 0
      },
      "text/plain": [
       "  0%|          | 0/3 [00:00<?, ?it/s]"
      ]
     },
     "metadata": {},
     "output_type": "display_data"
    }
   ],
   "source": [
    "# max tanimoto similarity to reference linker\n",
    "PandasTools.AddMoleculeColumnToFrame(df, smilesCol='protac_smiles', molCol='mol_smi')\n",
    "df.loc[:,'fp_ptc'] = df.mol_smi.progress_apply(Chem.RDKFingerprint)\n",
    "ori_ptc_fp = Chem.RDKFingerprint(xtal_protac)\n",
    "df['tanimoto_ptc'] = df.fp_ptc.progress_apply(lambda x: DataStructs.FingerprintSimilarity(x, ori_ptc_fp))"
   ]
  },
  {
   "attachments": {},
   "cell_type": "markdown",
   "metadata": {},
   "source": [
    "### Chamfer distance between methods\n",
    "* Link-INVENT: between const. embed and shape aligned\n",
    "* DiffLinker: between const. embed and generated pose\n",
    "\n",
    "Based on: linker only"
   ]
  },
  {
   "cell_type": "code",
   "execution_count": 33,
   "metadata": {},
   "outputs": [
    {
     "data": {
      "application/vnd.jupyter.widget-view+json": {
       "model_id": "7427173a549b4374a7c099d53f959d10",
       "version_major": 2,
       "version_minor": 0
      },
      "text/plain": [
       "  0%|          | 0/3 [00:00<?, ?it/s]"
      ]
     },
     "metadata": {},
     "output_type": "display_data"
    },
    {
     "name": "stdout",
     "output_type": "stream",
     "text": [
      "3.851271947224935\n"
     ]
    }
   ],
   "source": [
    "df['cd_aligned_linker_embed2aligned'] = df.progress_apply(lambda x: MoleculeInfo.from_rdkit_mol(x['embedded_linker']).align_to_molecules2\\\n",
    "                                                          (Molecules.from_molecule_info([MoleculeInfo.from_rdkit_mol(x['method_linker_mol'])]), model).chamfer_distance \\\n",
    "                                                          if x['embedded_linker'] is not None and x['embedded_linker'] is not np.nan and \\\n",
    "                                                             x['method_linker_mol'] is not None and x['method_linker_mol'] is not np.nan else np.nan, axis=1)\n",
    "print(df['cd_aligned_linker_embed2aligned'].mean(skipna=True))"
   ]
  },
  {
   "cell_type": "code",
   "execution_count": 34,
   "metadata": {},
   "outputs": [],
   "source": [
    "def fraction2threshold(df, threshold, column, above=True):\n",
    "    '''\n",
    "    Returns the fraction of molecules in a dataframe with a score above/below a given threshold\n",
    "    '''\n",
    "    df = df[~df[column].isna()]\n",
    "    if above:\n",
    "        df_above = df[df[column] >= threshold]\n",
    "    else:\n",
    "        df_above = df[df[column] <= threshold]\n",
    "    metric = len(df_above)/len(df)*100\n",
    "    return df_above, metric"
   ]
  },
  {
   "cell_type": "code",
   "execution_count": 35,
   "metadata": {},
   "outputs": [
    {
     "data": {
      "text/plain": [
       "33.33333333333333"
      ]
     },
     "execution_count": 35,
     "metadata": {},
     "output_type": "execute_result"
    }
   ],
   "source": [
    "df_scored_fil, cutoff_fraction = fraction2threshold(df, 3.5, 'cd_aligned_linker_embed2aligned', above=False)\n",
    "cutoff_fraction"
   ]
  },
  {
   "cell_type": "code",
   "execution_count": 36,
   "metadata": {},
   "outputs": [
    {
     "data": {
      "text/plain": [
       "0.0"
      ]
     },
     "execution_count": 36,
     "metadata": {},
     "output_type": "execute_result"
    }
   ],
   "source": [
    "df_scored_fil, cutoff_fraction = fraction2threshold(df, 2.0, 'cd_aligned_linker_embed2aligned', above=False)\n",
    "cutoff_fraction"
   ]
  },
  {
   "cell_type": "code",
   "execution_count": 37,
   "metadata": {},
   "outputs": [
    {
     "data": {
      "text/plain": [
       "0.0"
      ]
     },
     "execution_count": 37,
     "metadata": {},
     "output_type": "execute_result"
    }
   ],
   "source": [
    "df_scored_fil, cutoff_fraction = fraction2threshold(df, 1.0, 'cd_aligned_linker_embed2aligned', above=False)\n",
    "cutoff_fraction"
   ]
  },
  {
   "attachments": {},
   "cell_type": "markdown",
   "metadata": {},
   "source": [
    "### Save data"
   ]
  },
  {
   "cell_type": "code",
   "execution_count": 42,
   "metadata": {},
   "outputs": [
    {
     "data": {
      "text/plain": [
       "Index(['ID', 'reference', 'lig_id', 'protac_smiles', 'linker_smiles',\n",
       "       'anchor_smiles', 'warhead_smiles', 'anchor_ev', 'warhead_ev', 'POI',\n",
       "       'E3', 'gen_filename', 'frags', 'tanimoto', 'qed_linker', 'sa_linker',\n",
       "       'num_rings_linker', 'num_rot_bonds_linker', 'branched', 'PAINS',\n",
       "       'ring_arom', 'ori_E_torsion', 'ori_clashes_cutoff', 'ori_clashes_vdw',\n",
       "       'ori_gen_ptc_filename', 'ori_sc_rdkit', 'to_3d', 'method_mol',\n",
       "       'E_torsion', 'clashes_cutoff', 'clashes_vdw', 'embedded_mol',\n",
       "       'embedded_path', 'rmsd_anc', 'rmsd_wrh', 'sc_rdkit', 'vinardo',\n",
       "       'embedded_linker', 'method_linker_mol', 'cd_protac_embed2xtal',\n",
       "       'cd_linker_embed2xtal', 'cd_protac_method2xtal',\n",
       "       'cd_linker_method2xtal', 'mol_smi', 'fp_ptc', 'tanimoto_ptc',\n",
       "       'cd_aligned_linker_embed2aligned'],\n",
       "      dtype='object')"
      ]
     },
     "execution_count": 42,
     "metadata": {},
     "output_type": "execute_result"
    }
   ],
   "source": [
    "df.columns"
   ]
  },
  {
   "cell_type": "code",
   "execution_count": 43,
   "metadata": {},
   "outputs": [],
   "source": [
    "df_save = df.drop(columns=['method_mol', 'embedded_mol', 'method_linker_mol', 'embedded_linker', 'mol_smi', 'fp_ptc'])\n",
    "\n",
    "df_save.to_csv(os.path.join(gen_folder, f'{pdb}_sampled_{method}_valid.csv'), index=False)\n",
    "df_fil_save = df_save[df_save['to_3d']]\n",
    "df_fil_save.to_csv(os.path.join(gen_folder, f'{pdb}_sampled_{method}_valid_fil.csv'), index=False)"
   ]
  },
  {
   "cell_type": "code",
   "execution_count": null,
   "metadata": {},
   "outputs": [],
   "source": []
  }
 ],
 "metadata": {
  "kernelspec": {
   "display_name": "rn_env",
   "language": "python",
   "name": "python3"
  },
  "language_info": {
   "codemirror_mode": {
    "name": "ipython",
    "version": 3
   },
   "file_extension": ".py",
   "mimetype": "text/x-python",
   "name": "python",
   "nbconvert_exporter": "python",
   "pygments_lexer": "ipython3",
   "version": "3.9.7"
  },
  "orig_nbformat": 4,
  "vscode": {
   "interpreter": {
    "hash": "322e2706a3b065ade57181190dee4d3fc174f87cda022382b010766df70aa18b"
   }
  }
 },
 "nbformat": 4,
 "nbformat_minor": 2
}
