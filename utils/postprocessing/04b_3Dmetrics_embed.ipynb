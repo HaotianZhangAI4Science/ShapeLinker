{
 "cells": [
  {
   "attachments": {},
   "cell_type": "markdown",
   "metadata": {},
   "source": [
    "# Get 3D metrics for the constrained embedded poses"
   ]
  },
  {
   "cell_type": "code",
   "execution_count": 1,
   "metadata": {},
   "outputs": [
    {
     "name": "stderr",
     "output_type": "stream",
     "text": [
      "Cannot find license file.\n",
      " The license files (or license server system network addresses) attempted are \n",
      "listed below.  Use LM_LICENSE_FILE to use a different license file,\n",
      " or contact your software provider for a license file.\n",
      "Feature:       PYMOL_MAIN\n",
      "Filename:      /Library/Application Support/Schrodinger/licenses\n",
      "License path:  /Library/Application Support/Schrodinger/licenses:\n",
      "FlexNet Licensing error:-1,359.  System Error: 2 \"No such file or directory\"\n"
     ]
    }
   ],
   "source": [
    "import os\n",
    "import glob\n",
    "import sys\n",
    "from typing import Union, Dict, Tuple, Optional, List\n",
    "\n",
    "import numpy as np\n",
    "import pandas as pd\n",
    "from rdkit import Chem, RDLogger\n",
    "\n",
    "sys.path.append(os.path.dirname(os.path.dirname(os.getcwd())))\n",
    "from utils.calc_sc_rdkit import calc_SC_RDKit_score\n",
    "from utils.metrics_3d import lig_protein_clash_dist, lig_protein_clash_vdw, calc_torsion_energy, mcs_rmsd"
   ]
  },
  {
   "cell_type": "code",
   "execution_count": 2,
   "metadata": {},
   "outputs": [
    {
     "name": "stderr",
     "output_type": "stream",
     "text": [
      "/var/folders/zy/1547096d2zgd9gknmbv1ndk40000gn/T/ipykernel_49634/1383614074.py:1: TqdmDeprecationWarning: This function will be removed in tqdm==5.0.0\n",
      "Please use `tqdm.notebook.*` instead of `tqdm._tqdm_notebook.*`\n",
      "  from tqdm._tqdm_notebook import tqdm_notebook\n"
     ]
    }
   ],
   "source": [
    "from tqdm._tqdm_notebook import tqdm_notebook\n",
    "tqdm_notebook.pandas()"
   ]
  },
  {
   "cell_type": "code",
   "execution_count": 3,
   "metadata": {},
   "outputs": [],
   "source": [
    "lg = RDLogger.logger()\n",
    "lg.setLevel(RDLogger.CRITICAL)"
   ]
  },
  {
   "cell_type": "code",
   "execution_count": 4,
   "metadata": {},
   "outputs": [],
   "source": [
    "pdb = '7ZNT'\n",
    "method = 'base'"
   ]
  },
  {
   "attachments": {},
   "cell_type": "markdown",
   "metadata": {},
   "source": [
    "## Load Data"
   ]
  },
  {
   "attachments": {},
   "cell_type": "markdown",
   "metadata": {},
   "source": [
    "### Generated data"
   ]
  },
  {
   "cell_type": "code",
   "execution_count": 5,
   "metadata": {},
   "outputs": [
    {
     "name": "stdout",
     "output_type": "stream",
     "text": [
      "['data/generated/7ZNT_sampled_base_valid_fil.csv']\n"
     ]
    },
    {
     "data": {
      "text/html": [
       "<div>\n",
       "<style scoped>\n",
       "    .dataframe tbody tr th:only-of-type {\n",
       "        vertical-align: middle;\n",
       "    }\n",
       "\n",
       "    .dataframe tbody tr th {\n",
       "        vertical-align: top;\n",
       "    }\n",
       "\n",
       "    .dataframe thead th {\n",
       "        text-align: right;\n",
       "    }\n",
       "</style>\n",
       "<table border=\"1\" class=\"dataframe\">\n",
       "  <thead>\n",
       "    <tr style=\"text-align: right;\">\n",
       "      <th></th>\n",
       "      <th>ID</th>\n",
       "      <th>reference</th>\n",
       "      <th>protac_smiles</th>\n",
       "      <th>linker_smiles</th>\n",
       "      <th>extended_linker_smiles</th>\n",
       "      <th>anchor_smiles</th>\n",
       "      <th>warhead_smiles</th>\n",
       "      <th>anchor_ev</th>\n",
       "      <th>warhead_ev</th>\n",
       "      <th>POI</th>\n",
       "      <th>...</th>\n",
       "      <th>qed_linker</th>\n",
       "      <th>num_rings_linker</th>\n",
       "      <th>num_rot_bonds_linker</th>\n",
       "      <th>branched</th>\n",
       "      <th>PAINS</th>\n",
       "      <th>ring_arom</th>\n",
       "      <th>sa_linker</th>\n",
       "      <th>chamfer_distance</th>\n",
       "      <th>rmsd</th>\n",
       "      <th>to_3d</th>\n",
       "    </tr>\n",
       "  </thead>\n",
       "  <tbody>\n",
       "    <tr>\n",
       "      <th>0</th>\n",
       "      <td>7ZNT_base_0</td>\n",
       "      <td>7ZNT</td>\n",
       "      <td>COc1cc(CSC(C)(C)[C@@H](NC(=O)C2(F)CC2)C(=O)N2C...</td>\n",
       "      <td>CCn1cc(C(=O)c2ncc(C)cc2OC)nc1N</td>\n",
       "      <td>COc1cc(CSC)cnc1C(=O)c1cn(CCNC=O)c(N)n1</td>\n",
       "      <td>Cc1ncsc1-c1ccc(CNC(=O)[C@@H]2C[C@@H](O)CN2C(=O...</td>\n",
       "      <td>Cc1sc2c(c1C)C(c1ccc(Cl)cc1)=N[C@@H](CC(N)=O)c1...</td>\n",
       "      <td>Cc1ncsc1-c1ccc(CNC(=O)[C@@H]2C[C@@H](O)CN2C(=O...</td>\n",
       "      <td>Cc1sc2c(c1C)C(c1ccc(Cl)cc1)=N[C@@H](CC(=O)N*)c...</td>\n",
       "      <td>BRD4-BD2</td>\n",
       "      <td>...</td>\n",
       "      <td>0.840641</td>\n",
       "      <td>2</td>\n",
       "      <td>4</td>\n",
       "      <td>False</td>\n",
       "      <td>False</td>\n",
       "      <td>True</td>\n",
       "      <td>2.815789</td>\n",
       "      <td>4.314247</td>\n",
       "      <td>2.389408</td>\n",
       "      <td>True</td>\n",
       "    </tr>\n",
       "    <tr>\n",
       "      <th>1</th>\n",
       "      <td>7ZNT_base_2</td>\n",
       "      <td>7ZNT</td>\n",
       "      <td>Cc1ncsc1-c1ccc(CNC(=O)[C@@H]2C[C@@H](O)CN2C(=O...</td>\n",
       "      <td>CCOc1cc(C)nc2cc(N)cnc12</td>\n",
       "      <td>CSCc1cc(OCCNC=O)c2ncc(N)cc2n1</td>\n",
       "      <td>Cc1ncsc1-c1ccc(CNC(=O)[C@@H]2C[C@@H](O)CN2C(=O...</td>\n",
       "      <td>Cc1sc2c(c1C)C(c1ccc(Cl)cc1)=N[C@@H](CC(N)=O)c1...</td>\n",
       "      <td>Cc1ncsc1-c1ccc(CNC(=O)[C@@H]2C[C@@H](O)CN2C(=O...</td>\n",
       "      <td>Cc1sc2c(c1C)C(c1ccc(Cl)cc1)=N[C@@H](CC(=O)N*)c...</td>\n",
       "      <td>BRD4-BD2</td>\n",
       "      <td>...</td>\n",
       "      <td>0.809549</td>\n",
       "      <td>2</td>\n",
       "      <td>2</td>\n",
       "      <td>False</td>\n",
       "      <td>False</td>\n",
       "      <td>True</td>\n",
       "      <td>2.354916</td>\n",
       "      <td>3.941218</td>\n",
       "      <td>5.534881</td>\n",
       "      <td>True</td>\n",
       "    </tr>\n",
       "    <tr>\n",
       "      <th>2</th>\n",
       "      <td>7ZNT_base_3</td>\n",
       "      <td>7ZNT</td>\n",
       "      <td>Cc1ncsc1-c1ccc(CNC(=O)[C@@H]2C[C@@H](O)CN2C(=O...</td>\n",
       "      <td>CC(=O)OCc1cnc(C)o1</td>\n",
       "      <td>CSCc1ncc(COC(=O)CNC=O)o1</td>\n",
       "      <td>Cc1ncsc1-c1ccc(CNC(=O)[C@@H]2C[C@@H](O)CN2C(=O...</td>\n",
       "      <td>Cc1sc2c(c1C)C(c1ccc(Cl)cc1)=N[C@@H](CC(N)=O)c1...</td>\n",
       "      <td>Cc1ncsc1-c1ccc(CNC(=O)[C@@H]2C[C@@H](O)CN2C(=O...</td>\n",
       "      <td>Cc1sc2c(c1C)C(c1ccc(Cl)cc1)=N[C@@H](CC(=O)N*)c...</td>\n",
       "      <td>BRD4-BD2</td>\n",
       "      <td>...</td>\n",
       "      <td>0.598692</td>\n",
       "      <td>1</td>\n",
       "      <td>2</td>\n",
       "      <td>False</td>\n",
       "      <td>False</td>\n",
       "      <td>True</td>\n",
       "      <td>2.635850</td>\n",
       "      <td>1.938837</td>\n",
       "      <td>1.462539</td>\n",
       "      <td>True</td>\n",
       "    </tr>\n",
       "    <tr>\n",
       "      <th>3</th>\n",
       "      <td>7ZNT_base_4</td>\n",
       "      <td>7ZNT</td>\n",
       "      <td>COc1cccnc1NCc1nc(CSC(C)(C)[C@@H](NC(=O)C2(F)CC...</td>\n",
       "      <td>CC#CCOc1ccc(C)nc1CNc1ncccc1OC</td>\n",
       "      <td>COc1cccnc1NCc1nc(CSC)ccc1OCC#CCNC=O</td>\n",
       "      <td>Cc1ncsc1-c1ccc(CNC(=O)[C@@H]2C[C@@H](O)CN2C(=O...</td>\n",
       "      <td>Cc1sc2c(c1C)C(c1ccc(Cl)cc1)=N[C@@H](CC(N)=O)c1...</td>\n",
       "      <td>Cc1ncsc1-c1ccc(CNC(=O)[C@@H]2C[C@@H](O)CN2C(=O...</td>\n",
       "      <td>Cc1sc2c(c1C)C(c1ccc(Cl)cc1)=N[C@@H](CC(=O)N*)c...</td>\n",
       "      <td>BRD4-BD2</td>\n",
       "      <td>...</td>\n",
       "      <td>0.830917</td>\n",
       "      <td>2</td>\n",
       "      <td>6</td>\n",
       "      <td>False</td>\n",
       "      <td>False</td>\n",
       "      <td>True</td>\n",
       "      <td>2.656086</td>\n",
       "      <td>6.670227</td>\n",
       "      <td>3.778470</td>\n",
       "      <td>True</td>\n",
       "    </tr>\n",
       "    <tr>\n",
       "      <th>4</th>\n",
       "      <td>7ZNT_base_5</td>\n",
       "      <td>7ZNT</td>\n",
       "      <td>COc1c(C(=O)OCCNC(=O)C[C@H]2N=C(c3ccc(Cl)cc3)c3...</td>\n",
       "      <td>CCOCC(=O)Nc1ccc(N)c(OC(=O)c2cccc(C(=O)OCC)c2OC)c1</td>\n",
       "      <td>COc1c(C(=O)OCCNC=O)cccc1C(=O)Oc1cc(NC(=O)COCCS...</td>\n",
       "      <td>Cc1ncsc1-c1ccc(CNC(=O)[C@@H]2C[C@@H](O)CN2C(=O...</td>\n",
       "      <td>Cc1sc2c(c1C)C(c1ccc(Cl)cc1)=N[C@@H](CC(N)=O)c1...</td>\n",
       "      <td>Cc1ncsc1-c1ccc(CNC(=O)[C@@H]2C[C@@H](O)CN2C(=O...</td>\n",
       "      <td>Cc1sc2c(c1C)C(c1ccc(Cl)cc1)=N[C@@H](CC(=O)N*)c...</td>\n",
       "      <td>BRD4-BD2</td>\n",
       "      <td>...</td>\n",
       "      <td>0.362923</td>\n",
       "      <td>2</td>\n",
       "      <td>9</td>\n",
       "      <td>False</td>\n",
       "      <td>False</td>\n",
       "      <td>True</td>\n",
       "      <td>2.315432</td>\n",
       "      <td>8.777076</td>\n",
       "      <td>3.583126</td>\n",
       "      <td>True</td>\n",
       "    </tr>\n",
       "  </tbody>\n",
       "</table>\n",
       "<p>5 rows × 22 columns</p>\n",
       "</div>"
      ],
      "text/plain": [
       "            ID reference                                      protac_smiles  \\\n",
       "0  7ZNT_base_0      7ZNT  COc1cc(CSC(C)(C)[C@@H](NC(=O)C2(F)CC2)C(=O)N2C...   \n",
       "1  7ZNT_base_2      7ZNT  Cc1ncsc1-c1ccc(CNC(=O)[C@@H]2C[C@@H](O)CN2C(=O...   \n",
       "2  7ZNT_base_3      7ZNT  Cc1ncsc1-c1ccc(CNC(=O)[C@@H]2C[C@@H](O)CN2C(=O...   \n",
       "3  7ZNT_base_4      7ZNT  COc1cccnc1NCc1nc(CSC(C)(C)[C@@H](NC(=O)C2(F)CC...   \n",
       "4  7ZNT_base_5      7ZNT  COc1c(C(=O)OCCNC(=O)C[C@H]2N=C(c3ccc(Cl)cc3)c3...   \n",
       "\n",
       "                                       linker_smiles  \\\n",
       "0                     CCn1cc(C(=O)c2ncc(C)cc2OC)nc1N   \n",
       "1                            CCOc1cc(C)nc2cc(N)cnc12   \n",
       "2                                 CC(=O)OCc1cnc(C)o1   \n",
       "3                      CC#CCOc1ccc(C)nc1CNc1ncccc1OC   \n",
       "4  CCOCC(=O)Nc1ccc(N)c(OC(=O)c2cccc(C(=O)OCC)c2OC)c1   \n",
       "\n",
       "                              extended_linker_smiles  \\\n",
       "0             COc1cc(CSC)cnc1C(=O)c1cn(CCNC=O)c(N)n1   \n",
       "1                      CSCc1cc(OCCNC=O)c2ncc(N)cc2n1   \n",
       "2                           CSCc1ncc(COC(=O)CNC=O)o1   \n",
       "3                COc1cccnc1NCc1nc(CSC)ccc1OCC#CCNC=O   \n",
       "4  COc1c(C(=O)OCCNC=O)cccc1C(=O)Oc1cc(NC(=O)COCCS...   \n",
       "\n",
       "                                       anchor_smiles  \\\n",
       "0  Cc1ncsc1-c1ccc(CNC(=O)[C@@H]2C[C@@H](O)CN2C(=O...   \n",
       "1  Cc1ncsc1-c1ccc(CNC(=O)[C@@H]2C[C@@H](O)CN2C(=O...   \n",
       "2  Cc1ncsc1-c1ccc(CNC(=O)[C@@H]2C[C@@H](O)CN2C(=O...   \n",
       "3  Cc1ncsc1-c1ccc(CNC(=O)[C@@H]2C[C@@H](O)CN2C(=O...   \n",
       "4  Cc1ncsc1-c1ccc(CNC(=O)[C@@H]2C[C@@H](O)CN2C(=O...   \n",
       "\n",
       "                                      warhead_smiles  \\\n",
       "0  Cc1sc2c(c1C)C(c1ccc(Cl)cc1)=N[C@@H](CC(N)=O)c1...   \n",
       "1  Cc1sc2c(c1C)C(c1ccc(Cl)cc1)=N[C@@H](CC(N)=O)c1...   \n",
       "2  Cc1sc2c(c1C)C(c1ccc(Cl)cc1)=N[C@@H](CC(N)=O)c1...   \n",
       "3  Cc1sc2c(c1C)C(c1ccc(Cl)cc1)=N[C@@H](CC(N)=O)c1...   \n",
       "4  Cc1sc2c(c1C)C(c1ccc(Cl)cc1)=N[C@@H](CC(N)=O)c1...   \n",
       "\n",
       "                                           anchor_ev  \\\n",
       "0  Cc1ncsc1-c1ccc(CNC(=O)[C@@H]2C[C@@H](O)CN2C(=O...   \n",
       "1  Cc1ncsc1-c1ccc(CNC(=O)[C@@H]2C[C@@H](O)CN2C(=O...   \n",
       "2  Cc1ncsc1-c1ccc(CNC(=O)[C@@H]2C[C@@H](O)CN2C(=O...   \n",
       "3  Cc1ncsc1-c1ccc(CNC(=O)[C@@H]2C[C@@H](O)CN2C(=O...   \n",
       "4  Cc1ncsc1-c1ccc(CNC(=O)[C@@H]2C[C@@H](O)CN2C(=O...   \n",
       "\n",
       "                                          warhead_ev       POI  ...  \\\n",
       "0  Cc1sc2c(c1C)C(c1ccc(Cl)cc1)=N[C@@H](CC(=O)N*)c...  BRD4-BD2  ...   \n",
       "1  Cc1sc2c(c1C)C(c1ccc(Cl)cc1)=N[C@@H](CC(=O)N*)c...  BRD4-BD2  ...   \n",
       "2  Cc1sc2c(c1C)C(c1ccc(Cl)cc1)=N[C@@H](CC(=O)N*)c...  BRD4-BD2  ...   \n",
       "3  Cc1sc2c(c1C)C(c1ccc(Cl)cc1)=N[C@@H](CC(=O)N*)c...  BRD4-BD2  ...   \n",
       "4  Cc1sc2c(c1C)C(c1ccc(Cl)cc1)=N[C@@H](CC(=O)N*)c...  BRD4-BD2  ...   \n",
       "\n",
       "  qed_linker  num_rings_linker  num_rot_bonds_linker  branched  PAINS  \\\n",
       "0   0.840641                 2                     4     False  False   \n",
       "1   0.809549                 2                     2     False  False   \n",
       "2   0.598692                 1                     2     False  False   \n",
       "3   0.830917                 2                     6     False  False   \n",
       "4   0.362923                 2                     9     False  False   \n",
       "\n",
       "   ring_arom  sa_linker  chamfer_distance      rmsd  to_3d  \n",
       "0       True   2.815789          4.314247  2.389408   True  \n",
       "1       True   2.354916          3.941218  5.534881   True  \n",
       "2       True   2.635850          1.938837  1.462539   True  \n",
       "3       True   2.656086          6.670227  3.778470   True  \n",
       "4       True   2.315432          8.777076  3.583126   True  \n",
       "\n",
       "[5 rows x 22 columns]"
      ]
     },
     "execution_count": 5,
     "metadata": {},
     "output_type": "execute_result"
    }
   ],
   "source": [
    "gen_folder = 'data/generated'\n",
    "filepath = glob.glob(os.path.join(gen_folder, f'{pdb}_sampled_{method}_valid_fil.csv'))\n",
    "print(filepath)\n",
    "df = pd.read_csv(filepath[0])\n",
    "df.head()"
   ]
  },
  {
   "attachments": {},
   "cell_type": "markdown",
   "metadata": {},
   "source": [
    "#### Add constrained embedded pose to the data"
   ]
  },
  {
   "cell_type": "code",
   "execution_count": 6,
   "metadata": {},
   "outputs": [
    {
     "name": "stdout",
     "output_type": "stream",
     "text": [
      "['/Users/rebeccaneeser/Documents/data/protacs/preprint_data/const_embed/7ZNT_base_embed/selected_min_confs']\n"
     ]
    }
   ],
   "source": [
    "const_embed_path = os.path.join(os.path.expanduser('~'), 'Documents', 'data', 'protacs', 'preprint_data', 'const_embed', f'{pdb}_{method}_embed')\n",
    "const_embed_pose_folder = glob.glob(os.path.join(const_embed_path, 'selected_min_confs'))\n",
    "print(const_embed_pose_folder)"
   ]
  },
  {
   "cell_type": "code",
   "execution_count": 7,
   "metadata": {},
   "outputs": [],
   "source": [
    "def get_embedded_confs(mol_id: str, folderpath: str) -> pd.Series:\n",
    "    sdfpath = glob.glob(os.path.join(folderpath, f'*__{mol_id}.sdf'))\n",
    "    if sdfpath:\n",
    "        filename = os.path.basename(sdfpath[0])\n",
    "        sdfpath = sdfpath[0]\n",
    "        mol = Chem.SDMolSupplier(sdfpath)[0]\n",
    "        vinardo = float(mol.GetProp('minimizedAffinity'))\n",
    "    else:\n",
    "        mol = None\n",
    "        vinardo = np.nan\n",
    "        filename = None\n",
    "    return pd.Series({'vinardo': vinardo, 'embedded_mol': mol, 'embedded_path': filename}) "
   ]
  },
  {
   "cell_type": "code",
   "execution_count": 8,
   "metadata": {},
   "outputs": [
    {
     "data": {
      "application/vnd.jupyter.widget-view+json": {
       "model_id": "6d3e4e44c0aa419e8019f5d9df8bbd1f",
       "version_major": 2,
       "version_minor": 0
      },
      "text/plain": [
       "  0%|          | 0/4240 [00:00<?, ?it/s]"
      ]
     },
     "metadata": {},
     "output_type": "display_data"
    }
   ],
   "source": [
    "# store embedded conformers and vinardo scores in dataframe using apply\n",
    "df[['vinardo', 'embedded_mol', 'embedded_path']] = df.progress_apply(lambda x: get_embedded_confs(x['ID'], const_embed_pose_folder[0]), axis=1)"
   ]
  },
  {
   "cell_type": "code",
   "execution_count": 9,
   "metadata": {},
   "outputs": [
    {
     "name": "stdout",
     "output_type": "stream",
     "text": [
      "failed embedding: 54.1509%\n"
     ]
    }
   ],
   "source": [
    "df_fil = df[~df['embedded_mol'].isna()]\n",
    "print(f'failed embedding: {(len(df)-len(df_fil))/len(df)*100:.4f}%')"
   ]
  },
  {
   "cell_type": "code",
   "execution_count": 10,
   "metadata": {},
   "outputs": [
    {
     "data": {
      "text/plain": [
       "1944"
      ]
     },
     "execution_count": 10,
     "metadata": {},
     "output_type": "execute_result"
    }
   ],
   "source": [
    "len(df_fil)"
   ]
  },
  {
   "attachments": {},
   "cell_type": "markdown",
   "metadata": {},
   "source": [
    "### Xtal references"
   ]
  },
  {
   "cell_type": "code",
   "execution_count": 11,
   "metadata": {},
   "outputs": [],
   "source": [
    "xtal_folder = 'data/xtal_poses'\n",
    "pdb_folder = os.path.join(xtal_folder, pdb, f'{pdb}_fragments')\n",
    "xtal_protein_path = os.path.join(pdb_folder, f'{pdb}_protein.pdb')\n",
    "# xtal_ext_linker = Chem.MolFromMolFile(os.path.join(pdb_folder,f'{pdb}_linker_extended.sdf'))\n",
    "xtal_protac = Chem.MolFromMolFile(os.path.join(pdb_folder, f'{pdb}_protac.sdf'))\n",
    "# xtal_linker = Chem.MolFromMolFile(os.path.join(pdb_folder, f'{pdb}_linker.sdf'))\n",
    "xtal_anchor = Chem.MolFromMolFile(os.path.join(pdb_folder, f'{pdb}_anchor.sdf'))\n",
    "xtal_warhead = Chem.MolFromMolFile(os.path.join(pdb_folder, f'{pdb}_warhead.sdf'))"
   ]
  },
  {
   "attachments": {},
   "cell_type": "markdown",
   "metadata": {},
   "source": [
    "## Get 3D metrics"
   ]
  },
  {
   "cell_type": "code",
   "execution_count": 12,
   "metadata": {},
   "outputs": [
    {
     "name": "stderr",
     "output_type": "stream",
     "text": [
      "/var/folders/zy/1547096d2zgd9gknmbv1ndk40000gn/T/ipykernel_49634/621254210.py:2: SettingWithCopyWarning: \n",
      "A value is trying to be set on a copy of a slice from a DataFrame\n",
      "\n",
      "See the caveats in the documentation: https://pandas.pydata.org/pandas-docs/stable/user_guide/indexing.html#returning-a-view-versus-a-copy\n",
      "  df_fil.rename(columns={'ramds_anc': 'rmsd_anc', 'ramds_wrh': 'rmsd_wrh'}, inplace=True)\n"
     ]
    }
   ],
   "source": [
    "# rename ramds_anc to rmsd_anc and ramds_wrh to rmsd_wrh\n",
    "df_fil.rename(columns={'ramds_anc': 'rmsd_anc', 'ramds_wrh': 'rmsd_wrh'}, inplace=True)\n",
    "df.rename(columns={'ramds_anc': 'rmsd_anc', 'ramds_wrh': 'rmsd_wrh'}, inplace=True)"
   ]
  },
  {
   "cell_type": "code",
   "execution_count": 13,
   "metadata": {},
   "outputs": [
    {
     "data": {
      "text/plain": [
       "1944"
      ]
     },
     "execution_count": 13,
     "metadata": {},
     "output_type": "execute_result"
    }
   ],
   "source": [
    "# only calculate if metrics are nan\n",
    "if 'rmsd_anc' in df_fil.columns:\n",
    "    df_calc = df_fil[df_fil['rmsd_wrh'].isna()]\n",
    "else:\n",
    "    df_calc = df_fil.copy()\n",
    "len(df_calc)"
   ]
  },
  {
   "attachments": {},
   "cell_type": "markdown",
   "metadata": {},
   "source": [
    "### RMSD"
   ]
  },
  {
   "cell_type": "code",
   "execution_count": 14,
   "metadata": {},
   "outputs": [
    {
     "name": "stdout",
     "output_type": "stream",
     "text": [
      "average anchor RMSD: 0.4658\n",
      "average warhead RMSD: 0.8312\n"
     ]
    }
   ],
   "source": [
    "df_calc['rmsd_anc'] = df_calc.apply(lambda x: mcs_rmsd(x['embedded_mol'], xtal_anchor), axis=1)\n",
    "df_calc['rmsd_wrh'] = df_calc.apply(lambda x: mcs_rmsd(x['embedded_mol'], xtal_warhead), axis=1)\n",
    "print(f'average anchor RMSD: {df_calc[\"rmsd_anc\"].mean(skipna=True):.4f}')\n",
    "print(f'average warhead RMSD: {df_calc[\"rmsd_wrh\"].mean(skipna=True):.4f}')"
   ]
  },
  {
   "attachments": {},
   "cell_type": "markdown",
   "metadata": {},
   "source": [
    "### SC RDKit"
   ]
  },
  {
   "cell_type": "code",
   "execution_count": 15,
   "metadata": {},
   "outputs": [
    {
     "name": "stdout",
     "output_type": "stream",
     "text": [
      "count    1944.000000\n",
      "mean        0.691572\n",
      "std         0.037700\n",
      "min         0.512151\n",
      "25%         0.665467\n",
      "50%         0.690869\n",
      "75%         0.716167\n",
      "max         0.803309\n",
      "Name: sc_rdkit, dtype: float64\n"
     ]
    }
   ],
   "source": [
    "df_calc['sc_rdkit'] = df_calc.apply(lambda x: calc_SC_RDKit_score(x.embedded_mol, xtal_protac), axis=1)\n",
    "print(df_calc['sc_rdkit'].describe())"
   ]
  },
  {
   "cell_type": "code",
   "execution_count": 16,
   "metadata": {},
   "outputs": [
    {
     "name": "stdout",
     "output_type": "stream",
     "text": [
      "average SC_RDKIT: 0.6916\n"
     ]
    }
   ],
   "source": [
    "print(f'average SC_RDKIT: {df_calc[\"sc_rdkit\"].mean(skipna=True):.4f}')"
   ]
  },
  {
   "attachments": {},
   "cell_type": "markdown",
   "metadata": {},
   "source": [
    "### Clashes with protein"
   ]
  },
  {
   "cell_type": "code",
   "execution_count": 17,
   "metadata": {},
   "outputs": [
    {
     "name": "stdout",
     "output_type": "stream",
     "text": [
      "average clashes_cutoff: 0.0000\n",
      "average clashes_vdw: 10.2803\n"
     ]
    }
   ],
   "source": [
    "df_calc['clashes_cutoff'] = df_calc.apply(lambda x: lig_protein_clash_dist(xtal_protein_path, os.path.join(const_embed_pose_folder[0], x.embedded_path)), axis=1)\n",
    "df_calc['clashes_vdw'] = df_calc.apply(lambda x: lig_protein_clash_vdw(xtal_protein_path, os.path.join(const_embed_pose_folder[0], x.embedded_path)), axis=1)\n",
    "print(f'average clashes_cutoff: {df_calc[\"clashes_cutoff\"].mean(skipna=True):.4f}')\n",
    "print(f'average clashes_vdw: {df_calc[\"clashes_vdw\"].mean(skipna=True):.4f}')"
   ]
  },
  {
   "attachments": {},
   "cell_type": "markdown",
   "metadata": {},
   "source": [
    "### Torsion energy"
   ]
  },
  {
   "cell_type": "code",
   "execution_count": 18,
   "metadata": {},
   "outputs": [
    {
     "name": "stdout",
     "output_type": "stream",
     "text": [
      "average E_torsion: 73.4453\n"
     ]
    }
   ],
   "source": [
    "df_calc['E_torsion'] = df_calc.apply(lambda x: calc_torsion_energy(os.path.join(const_embed_pose_folder[0], x.embedded_path)), axis=1)\n",
    "print(f'average E_torsion: {df_calc[\"E_torsion\"].mean(skipna=True):.4f}')"
   ]
  },
  {
   "attachments": {},
   "cell_type": "markdown",
   "metadata": {},
   "source": [
    "## Format output and combine results"
   ]
  },
  {
   "cell_type": "code",
   "execution_count": 19,
   "metadata": {},
   "outputs": [
    {
     "name": "stderr",
     "output_type": "stream",
     "text": [
      "/var/folders/zy/1547096d2zgd9gknmbv1ndk40000gn/T/ipykernel_49634/907575070.py:2: SettingWithCopyWarning: \n",
      "A value is trying to be set on a copy of a slice from a DataFrame.\n",
      "Try using .loc[row_indexer,col_indexer] = value instead\n",
      "\n",
      "See the caveats in the documentation: https://pandas.pydata.org/pandas-docs/stable/user_guide/indexing.html#returning-a-view-versus-a-copy\n",
      "  df_fil.loc[df_calc.index] = df_calc\n"
     ]
    }
   ],
   "source": [
    "# replace respective rows in df_fil with df_calc based on ID\n",
    "df_fil.loc[df_calc.index] = df_calc"
   ]
  },
  {
   "cell_type": "code",
   "execution_count": 20,
   "metadata": {},
   "outputs": [
    {
     "data": {
      "text/plain": [
       "(1944, 4240, 1944)"
      ]
     },
     "execution_count": 20,
     "metadata": {},
     "output_type": "execute_result"
    }
   ],
   "source": [
    "len(df_fil), len(df), len(df_calc)"
   ]
  },
  {
   "cell_type": "code",
   "execution_count": 21,
   "metadata": {},
   "outputs": [
    {
     "data": {
      "text/plain": [
       "Index(['ID', 'reference', 'protac_smiles', 'linker_smiles',\n",
       "       'extended_linker_smiles', 'anchor_smiles', 'warhead_smiles',\n",
       "       'anchor_ev', 'warhead_ev', 'POI', 'E3', 'tanimoto', 'qed_linker',\n",
       "       'num_rings_linker', 'num_rot_bonds_linker', 'branched', 'PAINS',\n",
       "       'ring_arom', 'sa_linker', 'chamfer_distance', 'rmsd', 'to_3d',\n",
       "       'vinardo', 'embedded_mol', 'embedded_path'],\n",
       "      dtype='object')"
      ]
     },
     "execution_count": 21,
     "metadata": {},
     "output_type": "execute_result"
    }
   ],
   "source": [
    "df_fil.columns\n",
    "# use df_fil if already calculated something before! (must have those rows so taht are replaced by df_calc)"
   ]
  },
  {
   "cell_type": "code",
   "execution_count": 22,
   "metadata": {},
   "outputs": [],
   "source": [
    "# drop embedded_mol column\n",
    "add_cols = ['E_torsion',\n",
    "  'clashes_cutoff',\n",
    "  'clashes_vdw',\n",
    "  'embedded_mol',\n",
    "  'embedded_path',\n",
    "  'rmsd_anc',\n",
    "  'rmsd_wrh',\n",
    "  'sc_rdkit',\n",
    "  'vinardo']\n",
    "# add cols to val_to3d by mapping ID\n",
    "for col in add_cols:\n",
    "    df[col] = df['ID'].map(df_calc.set_index('ID')[col])\n",
    "df = df.drop(columns=['embedded_mol'])"
   ]
  },
  {
   "cell_type": "code",
   "execution_count": 23,
   "metadata": {},
   "outputs": [
    {
     "data": {
      "text/html": [
       "<div>\n",
       "<style scoped>\n",
       "    .dataframe tbody tr th:only-of-type {\n",
       "        vertical-align: middle;\n",
       "    }\n",
       "\n",
       "    .dataframe tbody tr th {\n",
       "        vertical-align: top;\n",
       "    }\n",
       "\n",
       "    .dataframe thead th {\n",
       "        text-align: right;\n",
       "    }\n",
       "</style>\n",
       "<table border=\"1\" class=\"dataframe\">\n",
       "  <thead>\n",
       "    <tr style=\"text-align: right;\">\n",
       "      <th></th>\n",
       "      <th>ID</th>\n",
       "      <th>reference</th>\n",
       "      <th>protac_smiles</th>\n",
       "      <th>linker_smiles</th>\n",
       "      <th>extended_linker_smiles</th>\n",
       "      <th>anchor_smiles</th>\n",
       "      <th>warhead_smiles</th>\n",
       "      <th>anchor_ev</th>\n",
       "      <th>warhead_ev</th>\n",
       "      <th>POI</th>\n",
       "      <th>...</th>\n",
       "      <th>rmsd</th>\n",
       "      <th>to_3d</th>\n",
       "      <th>vinardo</th>\n",
       "      <th>embedded_path</th>\n",
       "      <th>E_torsion</th>\n",
       "      <th>clashes_cutoff</th>\n",
       "      <th>clashes_vdw</th>\n",
       "      <th>rmsd_anc</th>\n",
       "      <th>rmsd_wrh</th>\n",
       "      <th>sc_rdkit</th>\n",
       "    </tr>\n",
       "  </thead>\n",
       "  <tbody>\n",
       "    <tr>\n",
       "      <th>0</th>\n",
       "      <td>7ZNT_base_0</td>\n",
       "      <td>7ZNT</td>\n",
       "      <td>COc1cc(CSC(C)(C)[C@@H](NC(=O)C2(F)CC2)C(=O)N2C...</td>\n",
       "      <td>CCn1cc(C(=O)c2ncc(C)cc2OC)nc1N</td>\n",
       "      <td>COc1cc(CSC)cnc1C(=O)c1cn(CCNC=O)c(N)n1</td>\n",
       "      <td>Cc1ncsc1-c1ccc(CNC(=O)[C@@H]2C[C@@H](O)CN2C(=O...</td>\n",
       "      <td>Cc1sc2c(c1C)C(c1ccc(Cl)cc1)=N[C@@H](CC(N)=O)c1...</td>\n",
       "      <td>Cc1ncsc1-c1ccc(CNC(=O)[C@@H]2C[C@@H](O)CN2C(=O...</td>\n",
       "      <td>Cc1sc2c(c1C)C(c1ccc(Cl)cc1)=N[C@@H](CC(=O)N*)c...</td>\n",
       "      <td>BRD4-BD2</td>\n",
       "      <td>...</td>\n",
       "      <td>2.389408</td>\n",
       "      <td>True</td>\n",
       "      <td>NaN</td>\n",
       "      <td>NaN</td>\n",
       "      <td>NaN</td>\n",
       "      <td>NaN</td>\n",
       "      <td>NaN</td>\n",
       "      <td>NaN</td>\n",
       "      <td>NaN</td>\n",
       "      <td>NaN</td>\n",
       "    </tr>\n",
       "    <tr>\n",
       "      <th>1</th>\n",
       "      <td>7ZNT_base_2</td>\n",
       "      <td>7ZNT</td>\n",
       "      <td>Cc1ncsc1-c1ccc(CNC(=O)[C@@H]2C[C@@H](O)CN2C(=O...</td>\n",
       "      <td>CCOc1cc(C)nc2cc(N)cnc12</td>\n",
       "      <td>CSCc1cc(OCCNC=O)c2ncc(N)cc2n1</td>\n",
       "      <td>Cc1ncsc1-c1ccc(CNC(=O)[C@@H]2C[C@@H](O)CN2C(=O...</td>\n",
       "      <td>Cc1sc2c(c1C)C(c1ccc(Cl)cc1)=N[C@@H](CC(N)=O)c1...</td>\n",
       "      <td>Cc1ncsc1-c1ccc(CNC(=O)[C@@H]2C[C@@H](O)CN2C(=O...</td>\n",
       "      <td>Cc1sc2c(c1C)C(c1ccc(Cl)cc1)=N[C@@H](CC(=O)N*)c...</td>\n",
       "      <td>BRD4-BD2</td>\n",
       "      <td>...</td>\n",
       "      <td>5.534881</td>\n",
       "      <td>True</td>\n",
       "      <td>-16.92254</td>\n",
       "      <td>selected_min_conf1__7ZNT_base_2.sdf</td>\n",
       "      <td>64.545705</td>\n",
       "      <td>0.0</td>\n",
       "      <td>9.0</td>\n",
       "      <td>0.355224</td>\n",
       "      <td>0.566088</td>\n",
       "      <td>0.762957</td>\n",
       "    </tr>\n",
       "    <tr>\n",
       "      <th>2</th>\n",
       "      <td>7ZNT_base_3</td>\n",
       "      <td>7ZNT</td>\n",
       "      <td>Cc1ncsc1-c1ccc(CNC(=O)[C@@H]2C[C@@H](O)CN2C(=O...</td>\n",
       "      <td>CC(=O)OCc1cnc(C)o1</td>\n",
       "      <td>CSCc1ncc(COC(=O)CNC=O)o1</td>\n",
       "      <td>Cc1ncsc1-c1ccc(CNC(=O)[C@@H]2C[C@@H](O)CN2C(=O...</td>\n",
       "      <td>Cc1sc2c(c1C)C(c1ccc(Cl)cc1)=N[C@@H](CC(N)=O)c1...</td>\n",
       "      <td>Cc1ncsc1-c1ccc(CNC(=O)[C@@H]2C[C@@H](O)CN2C(=O...</td>\n",
       "      <td>Cc1sc2c(c1C)C(c1ccc(Cl)cc1)=N[C@@H](CC(=O)N*)c...</td>\n",
       "      <td>BRD4-BD2</td>\n",
       "      <td>...</td>\n",
       "      <td>1.462539</td>\n",
       "      <td>True</td>\n",
       "      <td>-16.50980</td>\n",
       "      <td>selected_min_conf2__7ZNT_base_3.sdf</td>\n",
       "      <td>64.828444</td>\n",
       "      <td>0.0</td>\n",
       "      <td>9.0</td>\n",
       "      <td>0.581430</td>\n",
       "      <td>0.748550</td>\n",
       "      <td>0.731996</td>\n",
       "    </tr>\n",
       "    <tr>\n",
       "      <th>3</th>\n",
       "      <td>7ZNT_base_4</td>\n",
       "      <td>7ZNT</td>\n",
       "      <td>COc1cccnc1NCc1nc(CSC(C)(C)[C@@H](NC(=O)C2(F)CC...</td>\n",
       "      <td>CC#CCOc1ccc(C)nc1CNc1ncccc1OC</td>\n",
       "      <td>COc1cccnc1NCc1nc(CSC)ccc1OCC#CCNC=O</td>\n",
       "      <td>Cc1ncsc1-c1ccc(CNC(=O)[C@@H]2C[C@@H](O)CN2C(=O...</td>\n",
       "      <td>Cc1sc2c(c1C)C(c1ccc(Cl)cc1)=N[C@@H](CC(N)=O)c1...</td>\n",
       "      <td>Cc1ncsc1-c1ccc(CNC(=O)[C@@H]2C[C@@H](O)CN2C(=O...</td>\n",
       "      <td>Cc1sc2c(c1C)C(c1ccc(Cl)cc1)=N[C@@H](CC(=O)N*)c...</td>\n",
       "      <td>BRD4-BD2</td>\n",
       "      <td>...</td>\n",
       "      <td>3.778470</td>\n",
       "      <td>True</td>\n",
       "      <td>NaN</td>\n",
       "      <td>NaN</td>\n",
       "      <td>NaN</td>\n",
       "      <td>NaN</td>\n",
       "      <td>NaN</td>\n",
       "      <td>NaN</td>\n",
       "      <td>NaN</td>\n",
       "      <td>NaN</td>\n",
       "    </tr>\n",
       "    <tr>\n",
       "      <th>4</th>\n",
       "      <td>7ZNT_base_5</td>\n",
       "      <td>7ZNT</td>\n",
       "      <td>COc1c(C(=O)OCCNC(=O)C[C@H]2N=C(c3ccc(Cl)cc3)c3...</td>\n",
       "      <td>CCOCC(=O)Nc1ccc(N)c(OC(=O)c2cccc(C(=O)OCC)c2OC)c1</td>\n",
       "      <td>COc1c(C(=O)OCCNC=O)cccc1C(=O)Oc1cc(NC(=O)COCCS...</td>\n",
       "      <td>Cc1ncsc1-c1ccc(CNC(=O)[C@@H]2C[C@@H](O)CN2C(=O...</td>\n",
       "      <td>Cc1sc2c(c1C)C(c1ccc(Cl)cc1)=N[C@@H](CC(N)=O)c1...</td>\n",
       "      <td>Cc1ncsc1-c1ccc(CNC(=O)[C@@H]2C[C@@H](O)CN2C(=O...</td>\n",
       "      <td>Cc1sc2c(c1C)C(c1ccc(Cl)cc1)=N[C@@H](CC(=O)N*)c...</td>\n",
       "      <td>BRD4-BD2</td>\n",
       "      <td>...</td>\n",
       "      <td>3.583126</td>\n",
       "      <td>True</td>\n",
       "      <td>NaN</td>\n",
       "      <td>NaN</td>\n",
       "      <td>NaN</td>\n",
       "      <td>NaN</td>\n",
       "      <td>NaN</td>\n",
       "      <td>NaN</td>\n",
       "      <td>NaN</td>\n",
       "      <td>NaN</td>\n",
       "    </tr>\n",
       "  </tbody>\n",
       "</table>\n",
       "<p>5 rows × 30 columns</p>\n",
       "</div>"
      ],
      "text/plain": [
       "            ID reference                                      protac_smiles  \\\n",
       "0  7ZNT_base_0      7ZNT  COc1cc(CSC(C)(C)[C@@H](NC(=O)C2(F)CC2)C(=O)N2C...   \n",
       "1  7ZNT_base_2      7ZNT  Cc1ncsc1-c1ccc(CNC(=O)[C@@H]2C[C@@H](O)CN2C(=O...   \n",
       "2  7ZNT_base_3      7ZNT  Cc1ncsc1-c1ccc(CNC(=O)[C@@H]2C[C@@H](O)CN2C(=O...   \n",
       "3  7ZNT_base_4      7ZNT  COc1cccnc1NCc1nc(CSC(C)(C)[C@@H](NC(=O)C2(F)CC...   \n",
       "4  7ZNT_base_5      7ZNT  COc1c(C(=O)OCCNC(=O)C[C@H]2N=C(c3ccc(Cl)cc3)c3...   \n",
       "\n",
       "                                       linker_smiles  \\\n",
       "0                     CCn1cc(C(=O)c2ncc(C)cc2OC)nc1N   \n",
       "1                            CCOc1cc(C)nc2cc(N)cnc12   \n",
       "2                                 CC(=O)OCc1cnc(C)o1   \n",
       "3                      CC#CCOc1ccc(C)nc1CNc1ncccc1OC   \n",
       "4  CCOCC(=O)Nc1ccc(N)c(OC(=O)c2cccc(C(=O)OCC)c2OC)c1   \n",
       "\n",
       "                              extended_linker_smiles  \\\n",
       "0             COc1cc(CSC)cnc1C(=O)c1cn(CCNC=O)c(N)n1   \n",
       "1                      CSCc1cc(OCCNC=O)c2ncc(N)cc2n1   \n",
       "2                           CSCc1ncc(COC(=O)CNC=O)o1   \n",
       "3                COc1cccnc1NCc1nc(CSC)ccc1OCC#CCNC=O   \n",
       "4  COc1c(C(=O)OCCNC=O)cccc1C(=O)Oc1cc(NC(=O)COCCS...   \n",
       "\n",
       "                                       anchor_smiles  \\\n",
       "0  Cc1ncsc1-c1ccc(CNC(=O)[C@@H]2C[C@@H](O)CN2C(=O...   \n",
       "1  Cc1ncsc1-c1ccc(CNC(=O)[C@@H]2C[C@@H](O)CN2C(=O...   \n",
       "2  Cc1ncsc1-c1ccc(CNC(=O)[C@@H]2C[C@@H](O)CN2C(=O...   \n",
       "3  Cc1ncsc1-c1ccc(CNC(=O)[C@@H]2C[C@@H](O)CN2C(=O...   \n",
       "4  Cc1ncsc1-c1ccc(CNC(=O)[C@@H]2C[C@@H](O)CN2C(=O...   \n",
       "\n",
       "                                      warhead_smiles  \\\n",
       "0  Cc1sc2c(c1C)C(c1ccc(Cl)cc1)=N[C@@H](CC(N)=O)c1...   \n",
       "1  Cc1sc2c(c1C)C(c1ccc(Cl)cc1)=N[C@@H](CC(N)=O)c1...   \n",
       "2  Cc1sc2c(c1C)C(c1ccc(Cl)cc1)=N[C@@H](CC(N)=O)c1...   \n",
       "3  Cc1sc2c(c1C)C(c1ccc(Cl)cc1)=N[C@@H](CC(N)=O)c1...   \n",
       "4  Cc1sc2c(c1C)C(c1ccc(Cl)cc1)=N[C@@H](CC(N)=O)c1...   \n",
       "\n",
       "                                           anchor_ev  \\\n",
       "0  Cc1ncsc1-c1ccc(CNC(=O)[C@@H]2C[C@@H](O)CN2C(=O...   \n",
       "1  Cc1ncsc1-c1ccc(CNC(=O)[C@@H]2C[C@@H](O)CN2C(=O...   \n",
       "2  Cc1ncsc1-c1ccc(CNC(=O)[C@@H]2C[C@@H](O)CN2C(=O...   \n",
       "3  Cc1ncsc1-c1ccc(CNC(=O)[C@@H]2C[C@@H](O)CN2C(=O...   \n",
       "4  Cc1ncsc1-c1ccc(CNC(=O)[C@@H]2C[C@@H](O)CN2C(=O...   \n",
       "\n",
       "                                          warhead_ev       POI  ...      rmsd  \\\n",
       "0  Cc1sc2c(c1C)C(c1ccc(Cl)cc1)=N[C@@H](CC(=O)N*)c...  BRD4-BD2  ...  2.389408   \n",
       "1  Cc1sc2c(c1C)C(c1ccc(Cl)cc1)=N[C@@H](CC(=O)N*)c...  BRD4-BD2  ...  5.534881   \n",
       "2  Cc1sc2c(c1C)C(c1ccc(Cl)cc1)=N[C@@H](CC(=O)N*)c...  BRD4-BD2  ...  1.462539   \n",
       "3  Cc1sc2c(c1C)C(c1ccc(Cl)cc1)=N[C@@H](CC(=O)N*)c...  BRD4-BD2  ...  3.778470   \n",
       "4  Cc1sc2c(c1C)C(c1ccc(Cl)cc1)=N[C@@H](CC(=O)N*)c...  BRD4-BD2  ...  3.583126   \n",
       "\n",
       "   to_3d   vinardo                        embedded_path  E_torsion  \\\n",
       "0   True       NaN                                  NaN        NaN   \n",
       "1   True -16.92254  selected_min_conf1__7ZNT_base_2.sdf  64.545705   \n",
       "2   True -16.50980  selected_min_conf2__7ZNT_base_3.sdf  64.828444   \n",
       "3   True       NaN                                  NaN        NaN   \n",
       "4   True       NaN                                  NaN        NaN   \n",
       "\n",
       "   clashes_cutoff  clashes_vdw  rmsd_anc  rmsd_wrh  sc_rdkit  \n",
       "0             NaN          NaN       NaN       NaN       NaN  \n",
       "1             0.0          9.0  0.355224  0.566088  0.762957  \n",
       "2             0.0          9.0  0.581430  0.748550  0.731996  \n",
       "3             NaN          NaN       NaN       NaN       NaN  \n",
       "4             NaN          NaN       NaN       NaN       NaN  \n",
       "\n",
       "[5 rows x 30 columns]"
      ]
     },
     "execution_count": 23,
     "metadata": {},
     "output_type": "execute_result"
    }
   ],
   "source": [
    "df.head()"
   ]
  },
  {
   "cell_type": "code",
   "execution_count": 24,
   "metadata": {},
   "outputs": [
    {
     "data": {
      "text/plain": [
       "(2296, 4240)"
      ]
     },
     "execution_count": 24,
     "metadata": {},
     "output_type": "execute_result"
    }
   ],
   "source": [
    "len(df[df.rmsd_anc.isnull()]), len(df)"
   ]
  },
  {
   "cell_type": "code",
   "execution_count": 25,
   "metadata": {},
   "outputs": [],
   "source": [
    "df.to_csv(os.path.join(gen_folder, f'{pdb}_sampled_{method}_valid_fil.csv'), index=False)"
   ]
  },
  {
   "attachments": {},
   "cell_type": "markdown",
   "metadata": {},
   "source": [
    "### Summary of metrics"
   ]
  },
  {
   "cell_type": "code",
   "execution_count": null,
   "metadata": {},
   "outputs": [],
   "source": [
    "print(f'average anchor RMSD: {df[\"rmsd_anc\"].mean(skipna=True):.4f}')\n",
    "print(f'average warhead RMSD: {df[\"rmsd_wrh\"].mean(skipna=True):.4f}')\n",
    "print(f'average SC_RDKIT: {df[\"sc_rdkit\"].mean(skipna=True):.4f}')\n",
    "print(f'average clashes_vdw: {df[\"clashes_vdw\"].mean(skipna=True):.4f}')\n",
    "print(f'average E_torsion: {df[\"E_torsion\"].mean(skipna=True):.4f}')"
   ]
  },
  {
   "cell_type": "code",
   "execution_count": null,
   "metadata": {},
   "outputs": [],
   "source": []
  }
 ],
 "metadata": {
  "kernelspec": {
   "display_name": "rn_env",
   "language": "python",
   "name": "python3"
  },
  "language_info": {
   "codemirror_mode": {
    "name": "ipython",
    "version": 3
   },
   "file_extension": ".py",
   "mimetype": "text/x-python",
   "name": "python",
   "nbconvert_exporter": "python",
   "pygments_lexer": "ipython3",
   "version": "3.9.7"
  },
  "orig_nbformat": 4,
  "vscode": {
   "interpreter": {
    "hash": "322e2706a3b065ade57181190dee4d3fc174f87cda022382b010766df70aa18b"
   }
  }
 },
 "nbformat": 4,
 "nbformat_minor": 2
}
