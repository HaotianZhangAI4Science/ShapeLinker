{
 "cells": [
  {
   "attachments": {},
   "cell_type": "markdown",
   "metadata": {},
   "source": [
    "# Shape alignment\n",
    "Get chamfer distance between surfces of generated molecules and crystal structure molecule as query. This is mainly done to\n",
    "1. How well the RL worked\n",
    "2. Get the stereochemistry fitting the shape best\n",
    "\n",
    "Recommendations:\n",
    "* Use a GPU\n",
    "* Envionment to use: `shape_align`"
   ]
  },
  {
   "cell_type": "code",
   "execution_count": null,
   "metadata": {},
   "outputs": [],
   "source": [
    "import os\n",
    "import sys\n",
    "\n",
    "import torch\n",
    "from tqdm.notebook import tqdm\n",
    "import numpy as np\n",
    "from pathlib import Path\n",
    "import pandas as pd\n",
    "import matplotlib.pyplot as plt\n",
    "from rdkit import Chem\n",
    "from rdkit.Chem import AllChem, PandasTools\n",
    "from rdkit import RDLogger\n",
    "import copy\n",
    "from unidip import UniDip\n",
    "\n",
    "old_cwd = Path.cwd()\n",
    "os.chdir(Path.cwd().parent)\n",
    "from structural import models, molecule\n",
    "from structural.molecule import Molecules, MoleculeInfo\n",
    "os.chdir(old_cwd)\n",
    "\n",
    "sys.path.append(os.path.dirname(os.path.dirname(os.getcwd())))\n",
    "from utils.chem_transforms import set_stereo2query"
   ]
  },
  {
   "cell_type": "code",
   "execution_count": null,
   "metadata": {},
   "outputs": [],
   "source": [
    "lg = RDLogger.logger()\n",
    "lg.setLevel(RDLogger.CRITICAL)"
   ]
  },
  {
   "attachments": {},
   "cell_type": "markdown",
   "metadata": {},
   "source": [
    "## Load Data"
   ]
  },
  {
   "cell_type": "code",
   "execution_count": null,
   "metadata": {},
   "outputs": [],
   "source": [
    "pdb = '6BOY'\n",
    "method = 'shape'"
   ]
  },
  {
   "attachments": {},
   "cell_type": "markdown",
   "metadata": {},
   "source": [
    "### Load data to score"
   ]
  },
  {
   "cell_type": "code",
   "execution_count": null,
   "metadata": {},
   "outputs": [],
   "source": [
    "gen_folder = 'data/generated'\n",
    "df = pd.read_csv(os.path.join(gen_folder, f'{pdb}_sampled_{method}_valid.csv'))\n",
    "df.head()"
   ]
  },
  {
   "cell_type": "code",
   "execution_count": null,
   "metadata": {},
   "outputs": [],
   "source": [
    "# drop duplicates and get smiles and associated ids\n",
    "df_dedupl = df.drop_duplicates(subset=['extended_linker_smiles'])\n",
    "gen_smiles = df_dedupl['extended_linker_smiles'].values.tolist()\n",
    "gen_ids = df_dedupl['ID'].values.tolist()"
   ]
  },
  {
   "attachments": {},
   "cell_type": "markdown",
   "metadata": {},
   "source": [
    "### Load model"
   ]
  },
  {
   "cell_type": "code",
   "execution_count": null,
   "metadata": {},
   "outputs": [],
   "source": [
    "root = os.path.dirname(os.path.dirname(os.getcwd()))\n",
    "model = torch.load(os.path.join(root, \"models/protacdb_extlinker_model_align.pth\"))\n",
    "if torch.cuda.is_available():\n",
    "    device = torch.device(\"cuda\")\n",
    "    model.to(device)\n",
    "else:\n",
    "    device = torch.device(\"cpu\")\n",
    "model.eval()"
   ]
  },
  {
   "attachments": {},
   "cell_type": "markdown",
   "metadata": {},
   "source": [
    "### Align and save pose\n",
    "`Define paths and SMILES of query`"
   ]
  },
  {
   "cell_type": "code",
   "execution_count": null,
   "metadata": {},
   "outputs": [],
   "source": [
    "xtal_folder = 'data/xtal_poses'\n",
    "pdb_folder = os.path.join(xtal_folder, pdb, f'{pdb}_fragments')\n",
    "query_path = os.path.join(pdb_folder,f'{pdb}_linker_extended.sdf')\n",
    "query_block = Chem.MolToMolBlock(Chem.SDMolSupplier(query_path)[0])\n",
    "xtal_ext_linker = Chem.MolFromMolFile(query_path)\n",
    "query = MoleculeInfo.from_molblock(query_block)\n",
    "xtal_protac = Chem.MolFromMolFile(os.path.join(pdb_folder, f'{pdb}_protac.sdf'))\n",
    "xtal_linker = Chem.MolFromMolFile(os.path.join(pdb_folder, f'{pdb}_linker.sdf'))"
   ]
  },
  {
   "cell_type": "code",
   "execution_count": null,
   "metadata": {},
   "outputs": [],
   "source": [
    "class AlignCompare():\n",
    "    def __init__(self, \n",
    "        df,\n",
    "        model,\n",
    "        query, \n",
    "        xtal_protac,\n",
    "        xtal_linker,\n",
    "        xtal_ext_linker,\n",
    "        pose_folder):\n",
    "        self.df = df\n",
    "        self.model = model\n",
    "        self.query = query\n",
    "        self.xtal_protac = xtal_protac\n",
    "        self.xtal_linker = xtal_linker\n",
    "        self.xtal_ext_linker = xtal_ext_linker\n",
    "        self.pose_folder = pose_folder\n",
    "\n",
    "\n",
    "    def get_attachment_frags_protac(self, useChirality=True):\n",
    "        '''\n",
    "        Returns the all potential indices of the attachment fragments next to the linker in a given molecule.\n",
    "        '''\n",
    "        match_indices_ext_linker = self.xtal_protac.GetSubstructMatches(self.xtal_ext_linker, useChirality=useChirality)\n",
    "        match_indices_linker = self.xtal_protac.GetSubstructMatches(self.xtal_linker, useChirality=useChirality)\n",
    "        assert match_indices_ext_linker, f'no match found for: {Chem.MolToSmiles(self.xtal_ext_linker)}'\n",
    "        assert match_indices_linker, f'no match found for: {Chem.MolToSmiles(self.xtal_linker)}'\n",
    "        frag_indices_combo = []\n",
    "        for match_idx_ext in match_indices_ext_linker:\n",
    "            for match_idx_lin in match_indices_linker:\n",
    "                    frag_indices_combo.append([idx for idx in match_idx_ext if idx not in match_idx_lin])\n",
    "            \n",
    "        return frag_indices_combo\n",
    "\n",
    "    def get_attachment_frags_linker(self, mol, linker):\n",
    "        '''\n",
    "        Returns the attachment points of a linker in a given molecule\n",
    "        '''\n",
    "        linker = Chem.RemoveAllHs(linker)\n",
    "        match_indices = mol.GetSubstructMatches(linker, useChirality=True)\n",
    "        assert match_indices, f'no match found for: {Chem.MolToSmiles(linker)}'\n",
    "        frag_indices_combo = []\n",
    "        for match_idx in match_indices:\n",
    "            all_atom_idx = [a.GetIdx() for a in mol.GetAtoms()]\n",
    "            frag_indices_combo.append([idx for idx in all_atom_idx if idx not in match_idx])\n",
    "\n",
    "        return frag_indices_combo\n",
    "\n",
    "    def get_frags(self, mol, indices):\n",
    "        all_atoms = [a.GetIdx() for a in mol.GetAtoms()]\n",
    "        remove_atoms = [a for a in all_atoms if a not in indices]\n",
    "        # sort remove_atoms\n",
    "        remove_atoms = sorted(remove_atoms, reverse=True)\n",
    "        Chem.Kekulize(mol)\n",
    "        mol_red = Chem.RWMol(mol)    \n",
    "        for idx in remove_atoms:\n",
    "            mol_red.RemoveAtom(idx)\n",
    "        mol_red = mol_red.GetMol()\n",
    "        return mol_red\n",
    "\n",
    "    def get_correct_indices(self, ext_linker, indices_protac, indices_linker):\n",
    "        for a in self.xtal_protac.GetAtoms():\n",
    "            a.SetAtomMapNum(a.GetIdx()+1)\n",
    "        for idx1 in indices_linker:\n",
    "            ext_linker_copy = copy.deepcopy(ext_linker)\n",
    "            frag_linker = self.get_frags(ext_linker_copy, idx1)\n",
    "            for idx2 in indices_protac:\n",
    "                protac_copy = copy.deepcopy(self.xtal_protac)\n",
    "                frag_protac = self.get_frags(protac_copy, idx2)\n",
    "                if frag_protac.HasSubstructMatch(frag_linker) and frag_linker.HasSubstructMatch(frag_protac):\n",
    "                    mapnum_to_idx = {}\n",
    "                    for a in frag_protac.GetAtoms():\n",
    "                        mapnum_to_idx[a.GetIdx()] = a.GetAtomMapNum()-1\n",
    "                    matches = frag_protac.GetSubstructMatch(frag_linker)\n",
    "                    # get the map numbers of the atoms in the linker\n",
    "                    mapnums = [mapnum_to_idx[idx] for idx in matches]\n",
    "                    return idx1, mapnums\n",
    "\n",
    "    def get_coords(self, mol, att_points):\n",
    "        '''\n",
    "        Returns the coordinates of the attachment points\n",
    "        '''\n",
    "        coords = []\n",
    "        for idx in att_points:\n",
    "            coords.append(mol.GetConformer().GetAtomPosition(idx))\n",
    "        return coords\n",
    "\n",
    "    def calc_rmsd(self, coords1, coords2):\n",
    "        '''\n",
    "        Calculates the RMSD between two sets of coordinates. \n",
    "        Need to be in matching order.\n",
    "        '''\n",
    "        rmsd = 0\n",
    "        for i in range(len(coords1)):\n",
    "            rmsd += (coords1[i].x - coords2[i].x)**2 + (coords1[i].y - coords2[i].y)**2 + (coords1[i].z - coords2[i].z)**2\n",
    "        rmsd = np.sqrt(rmsd/len(coords1))\n",
    "        \n",
    "        return rmsd\n",
    "\n",
    "    def calc_RMSD_att_frags(self, posepath, ID):\n",
    "        '''\n",
    "        Calculates the RMSD between the attachment points of a protac and an extended linker\n",
    "        '''\n",
    "        extended_linker_gen = Chem.MolFromMolFile(posepath)\n",
    "        linker_smi = df[df.ID == ID]['linker_smiles'].values[0]\n",
    "        linker_gen = Chem.MolFromSmiles(linker_smi)\n",
    "        try:\n",
    "            # get attachment points\n",
    "            gen_atts = self.get_attachment_frags_linker(extended_linker_gen, linker_gen)\n",
    "            ori_atts = self.get_attachment_frags_protac(useChirality=True)\n",
    "            gen_att, ori_att = self.get_correct_indices(extended_linker_gen, ori_atts, gen_atts)\n",
    "            assert len(gen_att) == len(ori_att)\n",
    "            # get Coordinate positions of attachment points\n",
    "            gen_coords = self.get_coords(extended_linker_gen, gen_att)\n",
    "            ori_coords = self.get_coords(self.xtal_protac, ori_att)\n",
    "            # calc RMSD between attachment points\n",
    "            rmsd = self.calc_rmsd(gen_coords, ori_coords)\n",
    "        except:\n",
    "            rmsd = np.nan\n",
    "        return rmsd\n",
    "\n",
    "    def align_and_save(self, gen_smiles, gen_ids, smiles_distances):\n",
    "        for smiles, gen_id in tqdm(zip(gen_smiles, gen_ids), total=len(gen_smiles)):\n",
    "            try:\n",
    "                alignment = self.query.align_to_multiconformer_smiles_fast2(smiles, self.model, device=device, number_of_conformers=50, es_weight=0)\n",
    "            except:\n",
    "                try:\n",
    "                    alignment = self.query.align_to_multiconformer_smiles_fast2(smiles, self.model, device=device, number_of_conformers=50, es_weight=0, addhs_in_post=True)\n",
    "                except:\n",
    "                    alignment = None\n",
    "            if alignment is None:\n",
    "                cmf_dist, rmsd = np.nan, np.nan\n",
    "            else:\n",
    "                cmf_dist = alignment.chamfer_distance\n",
    "                pose = alignment.molecule_2\n",
    "                posepath = os.path.join(self.pose_folder, f'{gen_id}_pose.mol')\n",
    "                pose.write_to_file(posepath)\n",
    "                rmsd = self.calc_RMSD_att_frags(posepath, gen_id)\n",
    "            smiles_distances[smiles] = (cmf_dist, rmsd)\n",
    "        return smiles_distances"
   ]
  },
  {
   "cell_type": "code",
   "execution_count": null,
   "metadata": {},
   "outputs": [],
   "source": [
    "smiles_distances = {}\n",
    "smiles2id = dict(zip(gen_smiles, gen_ids))\n",
    "pose_folder = os.path.join(gen_folder, f'{pdb}_{method}_aligned_poses')\n",
    "os.makedirs(pose_folder, exist_ok=True)\n",
    "aligner = AlignCompare(df, model, query, xtal_protac, xtal_linker, xtal_ext_linker, pose_folder)\n",
    "smiles_distances = aligner.align_and_save(gen_smiles, gen_ids, smiles_distances)\n",
    "rmsds = [smiles_distances[smiles][1] for smiles in gen_smiles]\n",
    "# remove nans\n",
    "rmsds_sorted = np.msort(rmsds)\n",
    "rmsds_sorted = rmsds_sorted[~np.isnan(rmsds_sorted)]\n",
    "intervals = UniDip(rmsds_sorted).run()\n",
    "try:\n",
    "    split_point = (rmsds_sorted[intervals[0][1]] + rmsds_sorted[intervals[-1][0]]) / 2\n",
    "except:\n",
    "    split_point = (rmsds_sorted[intervals[0][0]] + rmsds_sorted[intervals[0][1]]) / 2\n",
    "# get all smiles with an RMSD above the split point\n",
    "gen_smiles_above = [smiles for smiles in gen_smiles if smiles_distances[smiles][1] > split_point]\n",
    "gen_ids_above = [smiles2id[smiles] for smiles in gen_smiles_above]\n",
    "while gen_ids_above:\n",
    "    smiles_distances = aligner.align_and_save(gen_smiles_above, gen_ids_above, smiles_distances)\n",
    "    gen_smiles_above = [smiles for smiles in gen_smiles_above if smiles_distances[smiles][1] > split_point and not np.isnan(smiles_distances[smiles][1])]\n",
    "    gen_ids_above = [smiles2id[smiles] for smiles in gen_smiles_above]"
   ]
  },
  {
   "cell_type": "code",
   "execution_count": null,
   "metadata": {},
   "outputs": [],
   "source": [
    "# map the chamfer distances to the smiles in df\n",
    "df['chamfer_distance'] = df['extended_linker_smiles'].map(lambda x: smiles_distances[x][0])\n",
    "df['rmsd'] = df['extended_linker_smiles'].map(lambda x: smiles_distances[x][1])"
   ]
  },
  {
   "attachments": {},
   "cell_type": "markdown",
   "metadata": {},
   "source": [
    "### Set chiral tags based on aligned pose"
   ]
  },
  {
   "cell_type": "code",
   "execution_count": null,
   "metadata": {},
   "outputs": [],
   "source": [
    "extra_stereo = 0\n",
    "ids = []\n",
    "for i, row in df.iterrows():\n",
    "    protac = row['protac_smiles']\n",
    "    idx = row['ID']\n",
    "    m = Chem.MolFromSmiles(protac)\n",
    "    isomers = tuple(Chem.EnumerateStereoisomers.EnumerateStereoisomers(m))\n",
    "    if len(isomers) > 2:\n",
    "        extra_stereo += 1\n",
    "        ids.append(idx)\n",
    "len(df), extra_stereo"
   ]
  },
  {
   "cell_type": "code",
   "execution_count": null,
   "metadata": {},
   "outputs": [],
   "source": [
    "def get_linker_stereo(linker_ext: Chem.Mol, linker_unassigned: Chem.Mol) -> Chem.Mol:\n",
    "    '''\n",
    "    Returns a linker with stereocenters set based on query.\n",
    "    :param linker_ext: extended linker pose\n",
    "    :param linker_unassigned: unassigned linker molecule\n",
    "    :return: linker with stereocenters set\n",
    "    '''\n",
    "    atom_idx_keep_all = linker_ext.GetSubstructMatches(linker_unassigned)\n",
    "    for atom_idx_keep in atom_idx_keep_all:\n",
    "        linker_ext_copy = copy.deepcopy(linker_ext)\n",
    "        all_atom_idx = [atom.GetIdx() for atom in linker_ext_copy.GetAtoms()]\n",
    "        atom_idx_remove = [idx for idx in all_atom_idx if idx not in atom_idx_keep]\n",
    "        \n",
    "        onestep_idx = []\n",
    "        extra_atoms_loop = atom_idx_remove.copy()\n",
    "        for a_idx in extra_atoms_loop:\n",
    "            for b_idx in atom_idx_keep:\n",
    "                bond = linker_ext_copy.GetBondBetweenAtoms(a_idx, b_idx)\n",
    "                if bond is not None:\n",
    "                    if bond.GetBondType() == Chem.rdchem.BondType.SINGLE:\n",
    "                        onestep_idx.append(a_idx)\n",
    "\n",
    "        atom_idx_remove = list(set(atom_idx_remove).difference(set(onestep_idx)))\n",
    "        atom_idx_remove.sort(reverse=True)\n",
    "        linker_ext_copy = Chem.RWMol(linker_ext_copy)\n",
    "\n",
    "        for a in linker_ext_copy.GetAtoms():\n",
    "                a.SetAtomMapNum(a.GetIdx())\n",
    "        for extra_atom_idx in atom_idx_remove:\n",
    "            linker_ext_copy.RemoveAtom(extra_atom_idx)\n",
    "        for a in linker_ext_copy.GetAtoms():\n",
    "            mapnum = a.GetAtomMapNum()\n",
    "            if mapnum in onestep_idx:\n",
    "                linker_ext_copy.ReplaceAtom(a.GetIdx(), Chem.Atom(1))\n",
    "        try:\n",
    "            linker_ext_copy = Chem.RemoveHs(linker_ext_copy)\n",
    "            for a in linker_ext_copy.GetAtoms():\n",
    "                a.SetAtomMapNum(0)\n",
    "            return linker_ext_copy\n",
    "        except:\n",
    "            continue"
   ]
  },
  {
   "cell_type": "code",
   "execution_count": null,
   "metadata": {},
   "outputs": [],
   "source": [
    "stereo_linkers = {}\n",
    "stereo_protacs = {}\n",
    "unsuccesful = []\n",
    "for ext_lin_smi, idx in tqdm(zip(gen_smiles, gen_ids), total=len(gen_smiles)):\n",
    "    filepath = os.path.join(pose_folder, f'{idx}_pose.mol')\n",
    "    row = df[df.ID == idx].iloc[0]\n",
    "    if os.path.isfile(filepath):\n",
    "        mol = Chem.MolFromMolFile(filepath)\n",
    "        try:\n",
    "            # necessary step to extract bond stereochemistry\n",
    "            Chem.MolToPDBFile(mol, os.path.join(pose_folder, f'{idx}_pose.pdb'))\n",
    "            mol = Chem.MolFromPDBFile(os.path.join(pose_folder, f'{idx}_pose.pdb'))\n",
    "            Chem.rdmolops.DetectBondStereoChemistry(mol, mol.GetConformer())\n",
    "            Chem.rdmolops.AssignStereochemistry(mol, cleanIt=True, force=True)\n",
    "            # save sdf (for torsional strain input)\n",
    "            sd_writer = Chem.SDWriter(os.path.join(pose_folder, f'{idx}_pose.sdf'))\n",
    "            sd_writer.write(mol)\n",
    "            try:\n",
    "                stereo_linker_only = get_linker_stereo(mol, Chem.RemoveAllHs(Chem.MolFromSmiles(row['linker_smiles'])))\n",
    "                stereo_lin_smi = Chem.MolToSmiles(stereo_linker_only)\n",
    "                stereo_linkers[ext_lin_smi] = stereo_lin_smi\n",
    "            except:\n",
    "                stereo_linkers[ext_lin_smi] = row['linker_smiles']\n",
    "            try:\n",
    "                protac_mol = Chem.MolFromSmiles(row['protac_smiles'])\n",
    "                stereo_protac = set_stereo2query(protac_mol, mol)\n",
    "                stereo_protacs[ext_lin_smi] = Chem.MolToSmiles(stereo_protac)\n",
    "            except:\n",
    "                stereo_protacs[ext_lin_smi] = row['protac_smiles']\n",
    "        except:\n",
    "            unsuccesful.append(idx)\n",
    "            print(f'Could not get stereo for {idx}')\n",
    "            stereo_linkers[ext_lin_smi] = row['linker_smiles']\n",
    "            stereo_protacs[ext_lin_smi] = row['protac_smiles']\n",
    "    else:\n",
    "        print(f'no file found: {idx}')\n",
    "        stereo_linkers[ext_lin_smi] = row['linker_smiles']\n",
    "        stereo_protacs[ext_lin_smi] = row['protac_smiles']"
   ]
  },
  {
   "cell_type": "code",
   "execution_count": null,
   "metadata": {},
   "outputs": [],
   "source": [
    "# map the stereo smiles to the smiles in df\n",
    "df['linker_smiles'] = df['extended_linker_smiles'].map(lambda x: stereo_linkers[x])\n",
    "df['protac_smiles'] = df['extended_linker_smiles'].map(lambda x: stereo_protacs[x])"
   ]
  },
  {
   "cell_type": "code",
   "execution_count": null,
   "metadata": {},
   "outputs": [],
   "source": [
    "extra_stereo = 0\n",
    "ids = []\n",
    "for i, row in df.iterrows():\n",
    "    protac = row['protac_smiles']\n",
    "    idx = row['ID']\n",
    "    m = Chem.MolFromSmiles(protac)\n",
    "    isomers = tuple(Chem.EnumerateStereoisomers.EnumerateStereoisomers(m))\n",
    "    if len(isomers) > 2:\n",
    "        extra_stereo += 1\n",
    "        ids.append(idx)\n",
    "len(df), extra_stereo, print(ids)"
   ]
  },
  {
   "cell_type": "code",
   "execution_count": null,
   "metadata": {},
   "outputs": [],
   "source": [
    "df.to_csv(os.path.join(gen_folder, f'{pdb}_sampled_{method}_valid.csv'), index=False)"
   ]
  },
  {
   "attachments": {},
   "cell_type": "markdown",
   "metadata": {},
   "source": [
    "## Analyze results"
   ]
  },
  {
   "cell_type": "code",
   "execution_count": null,
   "metadata": {},
   "outputs": [],
   "source": [
    "df = pd.read_csv(os.path.join(gen_folder, f'{pdb}_sampled_{method}_valid.csv'))\n",
    "df.describe()"
   ]
  },
  {
   "attachments": {},
   "cell_type": "markdown",
   "metadata": {},
   "source": [
    "### Chamfer distance"
   ]
  },
  {
   "cell_type": "code",
   "execution_count": null,
   "metadata": {},
   "outputs": [],
   "source": [
    "df.chamfer_distance.hist(bins=100)"
   ]
  },
  {
   "cell_type": "code",
   "execution_count": null,
   "metadata": {},
   "outputs": [],
   "source": [
    "def fraction2threshold(df, threshold, column, above=True):\n",
    "    '''\n",
    "    Returns the fraction of molecules in a dataframe with a score above/below a given threshold\n",
    "    '''\n",
    "    if above:\n",
    "        df_above = df[df[column] >= threshold]\n",
    "    else:\n",
    "        df_above = df[df[column] <= threshold]\n",
    "    metric = len(df_above)/len(df)*100\n",
    "    return df_above, metric"
   ]
  },
  {
   "cell_type": "code",
   "execution_count": null,
   "metadata": {},
   "outputs": [],
   "source": [
    "df_scored_fil, cutoff_fraction = fraction2threshold(df, 3.5, 'chamfer_distance', above=False)\n",
    "cutoff_fraction"
   ]
  },
  {
   "cell_type": "code",
   "execution_count": null,
   "metadata": {},
   "outputs": [],
   "source": [
    "df_scored_fil, cutoff_fraction = fraction2threshold(df, 3.0, 'chamfer_distance', above=False)\n",
    "cutoff_fraction"
   ]
  },
  {
   "cell_type": "code",
   "execution_count": null,
   "metadata": {},
   "outputs": [],
   "source": [
    "df_scored_fil, cutoff_fraction = fraction2threshold(df, 2.0, 'chamfer_distance', above=False)\n",
    "cutoff_fraction"
   ]
  },
  {
   "attachments": {},
   "cell_type": "markdown",
   "metadata": {},
   "source": [
    "### RMSD"
   ]
  },
  {
   "cell_type": "code",
   "execution_count": null,
   "metadata": {},
   "outputs": [],
   "source": [
    "df.rmsd.hist(bins=100)"
   ]
  },
  {
   "cell_type": "code",
   "execution_count": null,
   "metadata": {},
   "outputs": [],
   "source": [
    "df_scored_fil, cutoff_fraction = fraction2threshold(df, 1.0, 'rmsd', above=False)\n",
    "cutoff_fraction"
   ]
  },
  {
   "cell_type": "code",
   "execution_count": null,
   "metadata": {},
   "outputs": [],
   "source": [
    "df_scored_fil, cutoff_fraction = fraction2threshold(df, 2.0, 'rmsd', above=False)\n",
    "cutoff_fraction"
   ]
  },
  {
   "attachments": {},
   "cell_type": "markdown",
   "metadata": {},
   "source": [
    "### Correlation chamfer distance to RMSD"
   ]
  },
  {
   "cell_type": "code",
   "execution_count": null,
   "metadata": {},
   "outputs": [],
   "source": [
    "# plot correlation between rmsd and chamfer distance\n",
    "plt.scatter(df.rmsd, df.chamfer_distance, s=1);\n",
    "plt.xlabel('RMSD');\n",
    "plt.ylabel('Chamfer distance');"
   ]
  },
  {
   "cell_type": "code",
   "execution_count": null,
   "metadata": {},
   "outputs": [],
   "source": []
  }
 ],
 "metadata": {
  "kernelspec": {
   "display_name": "rn_env",
   "language": "python",
   "name": "python3"
  },
  "language_info": {
   "codemirror_mode": {
    "name": "ipython",
    "version": 3
   },
   "file_extension": ".py",
   "mimetype": "text/x-python",
   "name": "python",
   "nbconvert_exporter": "python",
   "pygments_lexer": "ipython3",
   "version": "3.9.7"
  },
  "orig_nbformat": 4,
  "vscode": {
   "interpreter": {
    "hash": "322e2706a3b065ade57181190dee4d3fc174f87cda022382b010766df70aa18b"
   }
  }
 },
 "nbformat": 4,
 "nbformat_minor": 2
}
