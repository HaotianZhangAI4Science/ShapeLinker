{
 "cells": [
  {
   "attachments": {},
   "cell_type": "markdown",
   "metadata": {},
   "source": [
    "# Format dataframe for constrained embedding task"
   ]
  },
  {
   "cell_type": "code",
   "execution_count": 1,
   "metadata": {},
   "outputs": [],
   "source": [
    "import os\n",
    "import glob\n",
    "import pandas as pd\n",
    "from rdkit.Chem import PandasTools"
   ]
  },
  {
   "cell_type": "code",
   "execution_count": 2,
   "metadata": {},
   "outputs": [],
   "source": [
    "pdb = '7JTO'\n",
    "method = 'difflinker'"
   ]
  },
  {
   "cell_type": "code",
   "execution_count": 3,
   "metadata": {},
   "outputs": [
    {
     "data": {
      "text/html": [
       "<div>\n",
       "<style scoped>\n",
       "    .dataframe tbody tr th:only-of-type {\n",
       "        vertical-align: middle;\n",
       "    }\n",
       "\n",
       "    .dataframe tbody tr th {\n",
       "        vertical-align: top;\n",
       "    }\n",
       "\n",
       "    .dataframe thead th {\n",
       "        text-align: right;\n",
       "    }\n",
       "</style>\n",
       "<table border=\"1\" class=\"dataframe\">\n",
       "  <thead>\n",
       "    <tr style=\"text-align: right;\">\n",
       "      <th></th>\n",
       "      <th>ID</th>\n",
       "      <th>reference</th>\n",
       "      <th>lig_id</th>\n",
       "      <th>protac_smiles</th>\n",
       "      <th>linker_smiles</th>\n",
       "      <th>anchor_smiles</th>\n",
       "      <th>warhead_smiles</th>\n",
       "      <th>anchor_ev</th>\n",
       "      <th>warhead_ev</th>\n",
       "      <th>POI</th>\n",
       "      <th>...</th>\n",
       "      <th>gen_filename</th>\n",
       "      <th>frags</th>\n",
       "      <th>tanimoto</th>\n",
       "      <th>qed_linker</th>\n",
       "      <th>sa_linker</th>\n",
       "      <th>num_rings_linker</th>\n",
       "      <th>num_rot_bonds_linker</th>\n",
       "      <th>branched</th>\n",
       "      <th>PAINS</th>\n",
       "      <th>ring_arom</th>\n",
       "    </tr>\n",
       "  </thead>\n",
       "  <tbody>\n",
       "    <tr>\n",
       "      <th>0</th>\n",
       "      <td>7JTO_difflinker_678</td>\n",
       "      <td>7JTO</td>\n",
       "      <td>MS33</td>\n",
       "      <td>Cc1ncsc1-c1ccc(CNC(=O)[C@@H]2C[C@@H](O)CN2C(=O...</td>\n",
       "      <td>CCCCCC(=O)OCOCCOC</td>\n",
       "      <td>Cc1ncsc1-c1ccc(CNC(=O)[C@@H]2C[C@@H](O)CN2C(=O...</td>\n",
       "      <td>CN1CCN(c2ccc(-c3cccc(CN4CCNCC4)c3)cc2NC(=O)C2=...</td>\n",
       "      <td>Cc1ncsc1-c1ccc(CNC(=O)[C@@H]2C[C@@H](O)CN2C(=O...</td>\n",
       "      <td>CN1CCN(c2ccc(-c3cccc(CN4CCN([*:2])CC4)c3)cc2NC...</td>\n",
       "      <td>WDR5</td>\n",
       "      <td>...</td>\n",
       "      <td>output_48_7JTO__MS33_0_len14.sdf</td>\n",
       "      <td>[H]C(=O)N([H])C([H])(C([H])([H])[H])C([H])([H]...</td>\n",
       "      <td>0.125654</td>\n",
       "      <td>0.325778</td>\n",
       "      <td>2.056356</td>\n",
       "      <td>0</td>\n",
       "      <td>9</td>\n",
       "      <td>False</td>\n",
       "      <td>False</td>\n",
       "      <td>True</td>\n",
       "    </tr>\n",
       "    <tr>\n",
       "      <th>1</th>\n",
       "      <td>7JTO_difflinker_1584</td>\n",
       "      <td>7JTO</td>\n",
       "      <td>MS33</td>\n",
       "      <td>Cc1ncsc1-c1ccc(CNC(=O)[C@@H]2C[C@@H](O)CN2C(=O...</td>\n",
       "      <td>CCCCCC(=O)N[C@H](C)CCCC</td>\n",
       "      <td>Cc1ncsc1-c1ccc(CNC(=O)[C@@H]2C[C@@H](O)CN2C(=O...</td>\n",
       "      <td>CN1CCN(c2ccc(-c3cccc(CN4CCNCC4)c3)cc2NC(=O)C2=...</td>\n",
       "      <td>Cc1ncsc1-c1ccc(CNC(=O)[C@@H]2C[C@@H](O)CN2C(=O...</td>\n",
       "      <td>CN1CCN(c2ccc(-c3cccc(CN4CCN([*:2])CC4)c3)cc2NC...</td>\n",
       "      <td>WDR5</td>\n",
       "      <td>...</td>\n",
       "      <td>output_2613_7JTO__MS33_0_len14.sdf</td>\n",
       "      <td>[H]C(=O)N([H])C([H])(C([H])([H])[H])C([H])([H]...</td>\n",
       "      <td>0.631579</td>\n",
       "      <td>0.597246</td>\n",
       "      <td>2.166247</td>\n",
       "      <td>0</td>\n",
       "      <td>8</td>\n",
       "      <td>True</td>\n",
       "      <td>False</td>\n",
       "      <td>True</td>\n",
       "    </tr>\n",
       "    <tr>\n",
       "      <th>2</th>\n",
       "      <td>7JTO_difflinker_3051</td>\n",
       "      <td>7JTO</td>\n",
       "      <td>MS33</td>\n",
       "      <td>Cc1ncsc1-c1ccc(CNC(=O)[C@@H]2C[C@@H](O)CN2C(=O...</td>\n",
       "      <td>CCOCCC[C@@H]1CCC[C@H]1CC=O</td>\n",
       "      <td>Cc1ncsc1-c1ccc(CNC(=O)[C@@H]2C[C@@H](O)CN2C(=O...</td>\n",
       "      <td>CN1CCN(c2ccc(-c3cccc(CN4CCNCC4)c3)cc2NC(=O)C2=...</td>\n",
       "      <td>Cc1ncsc1-c1ccc(CNC(=O)[C@@H]2C[C@@H](O)CN2C(=O...</td>\n",
       "      <td>CN1CCN(c2ccc(-c3cccc(CN4CCN([*:2])CC4)c3)cc2NC...</td>\n",
       "      <td>WDR5</td>\n",
       "      <td>...</td>\n",
       "      <td>output_3442_7JTO__MS33_0_len14.sdf</td>\n",
       "      <td>[H]C(=O)N([H])C([H])(C([H])([H])[H])C([H])([H]...</td>\n",
       "      <td>0.164773</td>\n",
       "      <td>0.464240</td>\n",
       "      <td>3.286373</td>\n",
       "      <td>1</td>\n",
       "      <td>7</td>\n",
       "      <td>False</td>\n",
       "      <td>False</td>\n",
       "      <td>True</td>\n",
       "    </tr>\n",
       "  </tbody>\n",
       "</table>\n",
       "<p>3 rows × 21 columns</p>\n",
       "</div>"
      ],
      "text/plain": [
       "                     ID reference lig_id  \\\n",
       "0   7JTO_difflinker_678      7JTO   MS33   \n",
       "1  7JTO_difflinker_1584      7JTO   MS33   \n",
       "2  7JTO_difflinker_3051      7JTO   MS33   \n",
       "\n",
       "                                       protac_smiles  \\\n",
       "0  Cc1ncsc1-c1ccc(CNC(=O)[C@@H]2C[C@@H](O)CN2C(=O...   \n",
       "1  Cc1ncsc1-c1ccc(CNC(=O)[C@@H]2C[C@@H](O)CN2C(=O...   \n",
       "2  Cc1ncsc1-c1ccc(CNC(=O)[C@@H]2C[C@@H](O)CN2C(=O...   \n",
       "\n",
       "                linker_smiles  \\\n",
       "0           CCCCCC(=O)OCOCCOC   \n",
       "1     CCCCCC(=O)N[C@H](C)CCCC   \n",
       "2  CCOCCC[C@@H]1CCC[C@H]1CC=O   \n",
       "\n",
       "                                       anchor_smiles  \\\n",
       "0  Cc1ncsc1-c1ccc(CNC(=O)[C@@H]2C[C@@H](O)CN2C(=O...   \n",
       "1  Cc1ncsc1-c1ccc(CNC(=O)[C@@H]2C[C@@H](O)CN2C(=O...   \n",
       "2  Cc1ncsc1-c1ccc(CNC(=O)[C@@H]2C[C@@H](O)CN2C(=O...   \n",
       "\n",
       "                                      warhead_smiles  \\\n",
       "0  CN1CCN(c2ccc(-c3cccc(CN4CCNCC4)c3)cc2NC(=O)C2=...   \n",
       "1  CN1CCN(c2ccc(-c3cccc(CN4CCNCC4)c3)cc2NC(=O)C2=...   \n",
       "2  CN1CCN(c2ccc(-c3cccc(CN4CCNCC4)c3)cc2NC(=O)C2=...   \n",
       "\n",
       "                                           anchor_ev  \\\n",
       "0  Cc1ncsc1-c1ccc(CNC(=O)[C@@H]2C[C@@H](O)CN2C(=O...   \n",
       "1  Cc1ncsc1-c1ccc(CNC(=O)[C@@H]2C[C@@H](O)CN2C(=O...   \n",
       "2  Cc1ncsc1-c1ccc(CNC(=O)[C@@H]2C[C@@H](O)CN2C(=O...   \n",
       "\n",
       "                                          warhead_ev   POI  ...  \\\n",
       "0  CN1CCN(c2ccc(-c3cccc(CN4CCN([*:2])CC4)c3)cc2NC...  WDR5  ...   \n",
       "1  CN1CCN(c2ccc(-c3cccc(CN4CCN([*:2])CC4)c3)cc2NC...  WDR5  ...   \n",
       "2  CN1CCN(c2ccc(-c3cccc(CN4CCN([*:2])CC4)c3)cc2NC...  WDR5  ...   \n",
       "\n",
       "                         gen_filename  \\\n",
       "0    output_48_7JTO__MS33_0_len14.sdf   \n",
       "1  output_2613_7JTO__MS33_0_len14.sdf   \n",
       "2  output_3442_7JTO__MS33_0_len14.sdf   \n",
       "\n",
       "                                               frags  tanimoto  qed_linker  \\\n",
       "0  [H]C(=O)N([H])C([H])(C([H])([H])[H])C([H])([H]...  0.125654    0.325778   \n",
       "1  [H]C(=O)N([H])C([H])(C([H])([H])[H])C([H])([H]...  0.631579    0.597246   \n",
       "2  [H]C(=O)N([H])C([H])(C([H])([H])[H])C([H])([H]...  0.164773    0.464240   \n",
       "\n",
       "   sa_linker  num_rings_linker  num_rot_bonds_linker  branched  PAINS  \\\n",
       "0   2.056356                 0                     9     False  False   \n",
       "1   2.166247                 0                     8      True  False   \n",
       "2   3.286373                 1                     7     False  False   \n",
       "\n",
       "   ring_arom  \n",
       "0       True  \n",
       "1       True  \n",
       "2       True  \n",
       "\n",
       "[3 rows x 21 columns]"
      ]
     },
     "execution_count": 3,
     "metadata": {},
     "output_type": "execute_result"
    }
   ],
   "source": [
    "gen_folder = 'data/generated'\n",
    "df = pd.read_csv(os.path.join(gen_folder, f'{pdb}_sampled_{method}_valid.csv'))\n",
    "df.head()"
   ]
  },
  {
   "attachments": {},
   "cell_type": "markdown",
   "metadata": {},
   "source": [
    "### Filter by 2D filters"
   ]
  },
  {
   "cell_type": "code",
   "execution_count": 4,
   "metadata": {},
   "outputs": [
    {
     "data": {
      "text/plain": [
       "(3, 3)"
      ]
     },
     "execution_count": 4,
     "metadata": {},
     "output_type": "execute_result"
    }
   ],
   "source": [
    "df_fil  = df[(~df.PAINS) & df.ring_arom]\n",
    "len(df), len(df_fil)"
   ]
  },
  {
   "attachments": {},
   "cell_type": "markdown",
   "metadata": {},
   "source": [
    "### Filter by SAScore"
   ]
  },
  {
   "cell_type": "code",
   "execution_count": 5,
   "metadata": {},
   "outputs": [
    {
     "data": {
      "text/plain": [
       "3"
      ]
     },
     "execution_count": 5,
     "metadata": {},
     "output_type": "execute_result"
    }
   ],
   "source": [
    "# # keep rows with SA score < 4\n",
    "df_fil = df_fil[df_fil.sa_linker < 4]\n",
    "len(df_fil)"
   ]
  },
  {
   "attachments": {},
   "cell_type": "markdown",
   "metadata": {},
   "source": [
    "### Deduplicate"
   ]
  },
  {
   "cell_type": "code",
   "execution_count": 6,
   "metadata": {},
   "outputs": [
    {
     "data": {
      "text/plain": [
       "3"
      ]
     },
     "execution_count": 6,
     "metadata": {},
     "output_type": "execute_result"
    }
   ],
   "source": [
    "df_dedupl = df_fil.drop_duplicates(subset=['protac_smiles'])\n",
    "len(df_dedupl)"
   ]
  },
  {
   "attachments": {},
   "cell_type": "markdown",
   "metadata": {},
   "source": [
    "### Remove molecules with formal charges"
   ]
  },
  {
   "cell_type": "code",
   "execution_count": 7,
   "metadata": {},
   "outputs": [],
   "source": [
    "def is_charged(mol):\n",
    "    for a in mol.GetAtoms():\n",
    "        charge = a.GetFormalCharge()\n",
    "        if charge != 0:\n",
    "            return True\n",
    "    return False"
   ]
  },
  {
   "cell_type": "code",
   "execution_count": 8,
   "metadata": {},
   "outputs": [
    {
     "data": {
      "text/plain": [
       "3"
      ]
     },
     "execution_count": 8,
     "metadata": {},
     "output_type": "execute_result"
    }
   ],
   "source": [
    "PandasTools.AddMoleculeColumnToFrame(df_dedupl, smilesCol='protac_smiles', molCol='protac_mol')\n",
    "df_dedupl['charged'] = df_dedupl.protac_mol.apply(is_charged)\n",
    "df_dedupl = df_dedupl[~df_dedupl.charged]\n",
    "len(df_dedupl)"
   ]
  },
  {
   "attachments": {},
   "cell_type": "markdown",
   "metadata": {},
   "source": [
    "### Remove unnecessary columns"
   ]
  },
  {
   "cell_type": "code",
   "execution_count": 9,
   "metadata": {},
   "outputs": [
    {
     "data": {
      "text/plain": [
       "Index(['ID', 'reference', 'lig_id', 'protac_smiles', 'linker_smiles',\n",
       "       'anchor_smiles', 'warhead_smiles', 'anchor_ev', 'warhead_ev', 'POI',\n",
       "       'E3', 'gen_filename', 'frags', 'tanimoto', 'qed_linker', 'sa_linker',\n",
       "       'num_rings_linker', 'num_rot_bonds_linker', 'branched', 'PAINS',\n",
       "       'ring_arom', 'protac_mol', 'charged'],\n",
       "      dtype='object')"
      ]
     },
     "execution_count": 9,
     "metadata": {},
     "output_type": "execute_result"
    }
   ],
   "source": [
    "df_dedupl.columns"
   ]
  },
  {
   "cell_type": "code",
   "execution_count": 10,
   "metadata": {},
   "outputs": [],
   "source": [
    "df_dedupl.drop(columns=['protac_mol'], inplace=True)\n",
    "df_dedupl.reset_index(drop=True, inplace=True)\n",
    "df_dedupl.to_csv(os.path.join(gen_folder, f'{pdb}_sampled_{method}_valid_fil.csv'), index=False)"
   ]
  },
  {
   "cell_type": "code",
   "execution_count": null,
   "metadata": {},
   "outputs": [],
   "source": []
  }
 ],
 "metadata": {
  "kernelspec": {
   "display_name": "rn_env",
   "language": "python",
   "name": "python3"
  },
  "language_info": {
   "codemirror_mode": {
    "name": "ipython",
    "version": 3
   },
   "file_extension": ".py",
   "mimetype": "text/x-python",
   "name": "python",
   "nbconvert_exporter": "python",
   "pygments_lexer": "ipython3",
   "version": "3.9.7"
  },
  "orig_nbformat": 4,
  "vscode": {
   "interpreter": {
    "hash": "322e2706a3b065ade57181190dee4d3fc174f87cda022382b010766df70aa18b"
   }
  }
 },
 "nbformat": 4,
 "nbformat_minor": 2
}
