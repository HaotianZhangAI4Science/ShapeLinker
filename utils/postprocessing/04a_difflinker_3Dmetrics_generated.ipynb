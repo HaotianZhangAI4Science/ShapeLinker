{
 "cells": [
  {
   "attachments": {},
   "cell_type": "markdown",
   "metadata": {},
   "source": [
    "# Get 3D metrics for the DiffLinker generated poses"
   ]
  },
  {
   "cell_type": "code",
   "execution_count": 1,
   "metadata": {},
   "outputs": [
    {
     "name": "stderr",
     "output_type": "stream",
     "text": [
      "Cannot find license file.\n",
      " The license files (or license server system network addresses) attempted are \n",
      "listed below.  Use LM_LICENSE_FILE to use a different license file,\n",
      " or contact your software provider for a license file.\n",
      "Feature:       PYMOL_MAIN\n",
      "Filename:      /Library/Application Support/Schrodinger/licenses\n",
      "License path:  /Library/Application Support/Schrodinger/licenses:\n",
      "FlexNet Licensing error:-1,359.  System Error: 2 \"No such file or directory\"\n"
     ]
    }
   ],
   "source": [
    "import os\n",
    "import glob\n",
    "import sys\n",
    "from typing import Union, Dict, Tuple, Optional, List\n",
    "\n",
    "import numpy as np\n",
    "import pandas as pd\n",
    "from rdkit import Chem, RDLogger\n",
    "from rdkit.Chem.MolStandardize import rdMolStandardize\n",
    "import copy\n",
    "\n",
    "sys.path.append(os.path.dirname(os.path.dirname(os.getcwd())))\n",
    "from utils.calc_sc_rdkit import calc_SC_RDKit_score\n",
    "from utils.metrics_3d import lig_protein_clash_dist, lig_protein_clash_vdw, calc_torsion_energy, mcs_rmsd\n",
    "from utils.chem_transforms import remove_atom_indices"
   ]
  },
  {
   "cell_type": "code",
   "execution_count": 2,
   "metadata": {},
   "outputs": [
    {
     "name": "stderr",
     "output_type": "stream",
     "text": [
      "/var/folders/zy/1547096d2zgd9gknmbv1ndk40000gn/T/ipykernel_42710/1383614074.py:1: TqdmDeprecationWarning: This function will be removed in tqdm==5.0.0\n",
      "Please use `tqdm.notebook.*` instead of `tqdm._tqdm_notebook.*`\n",
      "  from tqdm._tqdm_notebook import tqdm_notebook\n"
     ]
    }
   ],
   "source": [
    "from tqdm._tqdm_notebook import tqdm_notebook\n",
    "tqdm_notebook.pandas()"
   ]
  },
  {
   "cell_type": "code",
   "execution_count": 3,
   "metadata": {},
   "outputs": [],
   "source": [
    "lg = RDLogger.logger()\n",
    "lg.setLevel(RDLogger.CRITICAL)"
   ]
  },
  {
   "cell_type": "code",
   "execution_count": 4,
   "metadata": {},
   "outputs": [],
   "source": [
    "pdb = '7JTP'\n",
    "method = 'difflinker'"
   ]
  },
  {
   "attachments": {},
   "cell_type": "markdown",
   "metadata": {},
   "source": [
    "## Load Data"
   ]
  },
  {
   "attachments": {},
   "cell_type": "markdown",
   "metadata": {},
   "source": [
    "### Generated data"
   ]
  },
  {
   "cell_type": "code",
   "execution_count": 5,
   "metadata": {},
   "outputs": [
    {
     "name": "stdout",
     "output_type": "stream",
     "text": [
      "['data/generated/7JTP_sampled_difflinker_valid.csv']\n"
     ]
    },
    {
     "data": {
      "text/html": [
       "<div>\n",
       "<style scoped>\n",
       "    .dataframe tbody tr th:only-of-type {\n",
       "        vertical-align: middle;\n",
       "    }\n",
       "\n",
       "    .dataframe tbody tr th {\n",
       "        vertical-align: top;\n",
       "    }\n",
       "\n",
       "    .dataframe thead th {\n",
       "        text-align: right;\n",
       "    }\n",
       "</style>\n",
       "<table border=\"1\" class=\"dataframe\">\n",
       "  <thead>\n",
       "    <tr style=\"text-align: right;\">\n",
       "      <th></th>\n",
       "      <th>ID</th>\n",
       "      <th>reference</th>\n",
       "      <th>lig_id</th>\n",
       "      <th>protac_smiles</th>\n",
       "      <th>linker_smiles</th>\n",
       "      <th>anchor_smiles</th>\n",
       "      <th>warhead_smiles</th>\n",
       "      <th>anchor_ev</th>\n",
       "      <th>warhead_ev</th>\n",
       "      <th>POI</th>\n",
       "      <th>...</th>\n",
       "      <th>num_rot_bonds_linker</th>\n",
       "      <th>branched</th>\n",
       "      <th>PAINS</th>\n",
       "      <th>ring_arom</th>\n",
       "      <th>ori_E_torsion</th>\n",
       "      <th>ori_clashes_cutoff</th>\n",
       "      <th>ori_clashes_vdw</th>\n",
       "      <th>ori_gen_ptc_filename</th>\n",
       "      <th>ori_sc_rdkit</th>\n",
       "      <th>to_3d</th>\n",
       "    </tr>\n",
       "  </thead>\n",
       "  <tbody>\n",
       "    <tr>\n",
       "      <th>0</th>\n",
       "      <td>7JTP_difflinker_0</td>\n",
       "      <td>7JTP</td>\n",
       "      <td>MS67</td>\n",
       "      <td>Cc1ncsc1-c1ccc([C@H](C)NC(=O)[C@@H]2C[C@@H](O)...</td>\n",
       "      <td>CNCO</td>\n",
       "      <td>Cc1ncsc1-c1ccc([C@H](C)NC(=O)[C@@H]2C[C@@H](O)...</td>\n",
       "      <td>C[C@@H]1CN(c2ccc(-c3ccccc3F)cc2NC(=O)c2c[nH]c(...</td>\n",
       "      <td>Cc1ncsc1-c1ccc([C@H](C)NC(=O)[C@@H]2C[C@@H](O)...</td>\n",
       "      <td>C[C@@H]1CN(c2ccc(-c3cc([*:2])ccc3F)cc2NC(=O)c2...</td>\n",
       "      <td>WDR5</td>\n",
       "      <td>...</td>\n",
       "      <td>1</td>\n",
       "      <td>False</td>\n",
       "      <td>False</td>\n",
       "      <td>True</td>\n",
       "      <td>98.117867</td>\n",
       "      <td>0.0</td>\n",
       "      <td>18.0</td>\n",
       "      <td>/Users/rebeccaneeser/Documents/data/protacs/pr...</td>\n",
       "      <td>0.954233</td>\n",
       "      <td>True</td>\n",
       "    </tr>\n",
       "    <tr>\n",
       "      <th>1</th>\n",
       "      <td>7JTP_difflinker_1</td>\n",
       "      <td>7JTP</td>\n",
       "      <td>MS67</td>\n",
       "      <td>Cc1ncsc1-c1ccc([C@H](C)NC(=O)[C@@H]2C[C@@H](O)...</td>\n",
       "      <td>CNC=O</td>\n",
       "      <td>Cc1ncsc1-c1ccc([C@H](C)NC(=O)[C@@H]2C[C@@H](O)...</td>\n",
       "      <td>C[C@@H]1CN(c2ccc(-c3ccccc3F)cc2NC(=O)c2c[nH]c(...</td>\n",
       "      <td>Cc1ncsc1-c1ccc([C@H](C)NC(=O)[C@@H]2C[C@@H](O)...</td>\n",
       "      <td>C[C@@H]1CN(c2ccc(-c3cc([*:2])ccc3F)cc2NC(=O)c2...</td>\n",
       "      <td>WDR5</td>\n",
       "      <td>...</td>\n",
       "      <td>1</td>\n",
       "      <td>False</td>\n",
       "      <td>False</td>\n",
       "      <td>True</td>\n",
       "      <td>94.980706</td>\n",
       "      <td>1.0</td>\n",
       "      <td>17.0</td>\n",
       "      <td>/Users/rebeccaneeser/Documents/data/protacs/pr...</td>\n",
       "      <td>0.946847</td>\n",
       "      <td>True</td>\n",
       "    </tr>\n",
       "    <tr>\n",
       "      <th>2</th>\n",
       "      <td>7JTP_difflinker_2</td>\n",
       "      <td>7JTP</td>\n",
       "      <td>MS67</td>\n",
       "      <td>Cc1ncsc1-c1ccc([C@H](C)NC(=O)[C@@H]2C[C@@H](O)...</td>\n",
       "      <td>CNC=O</td>\n",
       "      <td>Cc1ncsc1-c1ccc([C@H](C)NC(=O)[C@@H]2C[C@@H](O)...</td>\n",
       "      <td>C[C@@H]1CN(c2ccc(-c3ccccc3F)cc2NC(=O)c2c[nH]c(...</td>\n",
       "      <td>Cc1ncsc1-c1ccc([C@H](C)NC(=O)[C@@H]2C[C@@H](O)...</td>\n",
       "      <td>C[C@@H]1CN(c2ccc(-c3cc([*:2])ccc3F)cc2NC(=O)c2...</td>\n",
       "      <td>WDR5</td>\n",
       "      <td>...</td>\n",
       "      <td>1</td>\n",
       "      <td>False</td>\n",
       "      <td>False</td>\n",
       "      <td>True</td>\n",
       "      <td>92.584306</td>\n",
       "      <td>0.0</td>\n",
       "      <td>17.0</td>\n",
       "      <td>/Users/rebeccaneeser/Documents/data/protacs/pr...</td>\n",
       "      <td>0.960191</td>\n",
       "      <td>False</td>\n",
       "    </tr>\n",
       "    <tr>\n",
       "      <th>3</th>\n",
       "      <td>7JTP_difflinker_3</td>\n",
       "      <td>7JTP</td>\n",
       "      <td>MS67</td>\n",
       "      <td>Cc1ncsc1-c1ccc([C@H](C)NC(=O)[C@@H]2C[C@@H](O)...</td>\n",
       "      <td>CCCO</td>\n",
       "      <td>Cc1ncsc1-c1ccc([C@H](C)NC(=O)[C@@H]2C[C@@H](O)...</td>\n",
       "      <td>C[C@@H]1CN(c2ccc(-c3ccccc3F)cc2NC(=O)c2c[nH]c(...</td>\n",
       "      <td>Cc1ncsc1-c1ccc([C@H](C)NC(=O)[C@@H]2C[C@@H](O)...</td>\n",
       "      <td>C[C@@H]1CN(c2ccc(-c3cc([*:2])ccc3F)cc2NC(=O)c2...</td>\n",
       "      <td>WDR5</td>\n",
       "      <td>...</td>\n",
       "      <td>1</td>\n",
       "      <td>False</td>\n",
       "      <td>False</td>\n",
       "      <td>True</td>\n",
       "      <td>93.127171</td>\n",
       "      <td>0.0</td>\n",
       "      <td>15.0</td>\n",
       "      <td>/Users/rebeccaneeser/Documents/data/protacs/pr...</td>\n",
       "      <td>0.925398</td>\n",
       "      <td>True</td>\n",
       "    </tr>\n",
       "    <tr>\n",
       "      <th>4</th>\n",
       "      <td>7JTP_difflinker_4</td>\n",
       "      <td>7JTP</td>\n",
       "      <td>MS67</td>\n",
       "      <td>Cc1ncsc1-c1ccc([C@H](C)NC(=O)[C@@H]2C[C@@H](O)...</td>\n",
       "      <td>CCC=O</td>\n",
       "      <td>Cc1ncsc1-c1ccc([C@H](C)NC(=O)[C@@H]2C[C@@H](O)...</td>\n",
       "      <td>C[C@@H]1CN(c2ccc(-c3ccccc3F)cc2NC(=O)c2c[nH]c(...</td>\n",
       "      <td>Cc1ncsc1-c1ccc([C@H](C)NC(=O)[C@@H]2C[C@@H](O)...</td>\n",
       "      <td>C[C@@H]1CN(c2ccc(-c3cc([*:2])ccc3F)cc2NC(=O)c2...</td>\n",
       "      <td>WDR5</td>\n",
       "      <td>...</td>\n",
       "      <td>1</td>\n",
       "      <td>False</td>\n",
       "      <td>False</td>\n",
       "      <td>True</td>\n",
       "      <td>101.774595</td>\n",
       "      <td>0.0</td>\n",
       "      <td>17.0</td>\n",
       "      <td>/Users/rebeccaneeser/Documents/data/protacs/pr...</td>\n",
       "      <td>0.935440</td>\n",
       "      <td>True</td>\n",
       "    </tr>\n",
       "  </tbody>\n",
       "</table>\n",
       "<p>5 rows × 27 columns</p>\n",
       "</div>"
      ],
      "text/plain": [
       "                  ID reference lig_id  \\\n",
       "0  7JTP_difflinker_0      7JTP   MS67   \n",
       "1  7JTP_difflinker_1      7JTP   MS67   \n",
       "2  7JTP_difflinker_2      7JTP   MS67   \n",
       "3  7JTP_difflinker_3      7JTP   MS67   \n",
       "4  7JTP_difflinker_4      7JTP   MS67   \n",
       "\n",
       "                                       protac_smiles linker_smiles  \\\n",
       "0  Cc1ncsc1-c1ccc([C@H](C)NC(=O)[C@@H]2C[C@@H](O)...          CNCO   \n",
       "1  Cc1ncsc1-c1ccc([C@H](C)NC(=O)[C@@H]2C[C@@H](O)...         CNC=O   \n",
       "2  Cc1ncsc1-c1ccc([C@H](C)NC(=O)[C@@H]2C[C@@H](O)...         CNC=O   \n",
       "3  Cc1ncsc1-c1ccc([C@H](C)NC(=O)[C@@H]2C[C@@H](O)...          CCCO   \n",
       "4  Cc1ncsc1-c1ccc([C@H](C)NC(=O)[C@@H]2C[C@@H](O)...         CCC=O   \n",
       "\n",
       "                                       anchor_smiles  \\\n",
       "0  Cc1ncsc1-c1ccc([C@H](C)NC(=O)[C@@H]2C[C@@H](O)...   \n",
       "1  Cc1ncsc1-c1ccc([C@H](C)NC(=O)[C@@H]2C[C@@H](O)...   \n",
       "2  Cc1ncsc1-c1ccc([C@H](C)NC(=O)[C@@H]2C[C@@H](O)...   \n",
       "3  Cc1ncsc1-c1ccc([C@H](C)NC(=O)[C@@H]2C[C@@H](O)...   \n",
       "4  Cc1ncsc1-c1ccc([C@H](C)NC(=O)[C@@H]2C[C@@H](O)...   \n",
       "\n",
       "                                      warhead_smiles  \\\n",
       "0  C[C@@H]1CN(c2ccc(-c3ccccc3F)cc2NC(=O)c2c[nH]c(...   \n",
       "1  C[C@@H]1CN(c2ccc(-c3ccccc3F)cc2NC(=O)c2c[nH]c(...   \n",
       "2  C[C@@H]1CN(c2ccc(-c3ccccc3F)cc2NC(=O)c2c[nH]c(...   \n",
       "3  C[C@@H]1CN(c2ccc(-c3ccccc3F)cc2NC(=O)c2c[nH]c(...   \n",
       "4  C[C@@H]1CN(c2ccc(-c3ccccc3F)cc2NC(=O)c2c[nH]c(...   \n",
       "\n",
       "                                           anchor_ev  \\\n",
       "0  Cc1ncsc1-c1ccc([C@H](C)NC(=O)[C@@H]2C[C@@H](O)...   \n",
       "1  Cc1ncsc1-c1ccc([C@H](C)NC(=O)[C@@H]2C[C@@H](O)...   \n",
       "2  Cc1ncsc1-c1ccc([C@H](C)NC(=O)[C@@H]2C[C@@H](O)...   \n",
       "3  Cc1ncsc1-c1ccc([C@H](C)NC(=O)[C@@H]2C[C@@H](O)...   \n",
       "4  Cc1ncsc1-c1ccc([C@H](C)NC(=O)[C@@H]2C[C@@H](O)...   \n",
       "\n",
       "                                          warhead_ev   POI  ...  \\\n",
       "0  C[C@@H]1CN(c2ccc(-c3cc([*:2])ccc3F)cc2NC(=O)c2...  WDR5  ...   \n",
       "1  C[C@@H]1CN(c2ccc(-c3cc([*:2])ccc3F)cc2NC(=O)c2...  WDR5  ...   \n",
       "2  C[C@@H]1CN(c2ccc(-c3cc([*:2])ccc3F)cc2NC(=O)c2...  WDR5  ...   \n",
       "3  C[C@@H]1CN(c2ccc(-c3cc([*:2])ccc3F)cc2NC(=O)c2...  WDR5  ...   \n",
       "4  C[C@@H]1CN(c2ccc(-c3cc([*:2])ccc3F)cc2NC(=O)c2...  WDR5  ...   \n",
       "\n",
       "  num_rot_bonds_linker branched  PAINS  ring_arom  ori_E_torsion  \\\n",
       "0                    1    False  False       True      98.117867   \n",
       "1                    1    False  False       True      94.980706   \n",
       "2                    1    False  False       True      92.584306   \n",
       "3                    1    False  False       True      93.127171   \n",
       "4                    1    False  False       True     101.774595   \n",
       "\n",
       "   ori_clashes_cutoff  ori_clashes_vdw  \\\n",
       "0                 0.0             18.0   \n",
       "1                 1.0             17.0   \n",
       "2                 0.0             17.0   \n",
       "3                 0.0             15.0   \n",
       "4                 0.0             17.0   \n",
       "\n",
       "                                ori_gen_ptc_filename  ori_sc_rdkit  to_3d  \n",
       "0  /Users/rebeccaneeser/Documents/data/protacs/pr...      0.954233   True  \n",
       "1  /Users/rebeccaneeser/Documents/data/protacs/pr...      0.946847   True  \n",
       "2  /Users/rebeccaneeser/Documents/data/protacs/pr...      0.960191  False  \n",
       "3  /Users/rebeccaneeser/Documents/data/protacs/pr...      0.925398   True  \n",
       "4  /Users/rebeccaneeser/Documents/data/protacs/pr...      0.935440   True  \n",
       "\n",
       "[5 rows x 27 columns]"
      ]
     },
     "execution_count": 5,
     "metadata": {},
     "output_type": "execute_result"
    }
   ],
   "source": [
    "gen_folder = 'data/generated'\n",
    "filepath = glob.glob(os.path.join(gen_folder, f'{pdb}_sampled_{method}_valid.csv'))\n",
    "print(filepath)\n",
    "df = pd.read_csv(filepath[0])\n",
    "df.head()"
   ]
  },
  {
   "cell_type": "code",
   "execution_count": 6,
   "metadata": {},
   "outputs": [
    {
     "data": {
      "text/plain": [
       "4901"
      ]
     },
     "execution_count": 6,
     "metadata": {},
     "output_type": "execute_result"
    }
   ],
   "source": [
    "len(df)"
   ]
  },
  {
   "attachments": {},
   "cell_type": "markdown",
   "metadata": {},
   "source": [
    "#### Add generated pose to the data"
   ]
  },
  {
   "cell_type": "code",
   "execution_count": 7,
   "metadata": {},
   "outputs": [],
   "source": [
    "gen_pose_path = os.path.join(os.path.expanduser('~'), 'Documents/data/protacs/preprint_data/difflinker_results', pdb)"
   ]
  },
  {
   "cell_type": "code",
   "execution_count": 8,
   "metadata": {},
   "outputs": [],
   "source": [
    "def get_gen_confs(filepath: str, smi: str) -> pd.Series:\n",
    "    mol_dirty = Chem.SDMolSupplier(os.path.join(gen_pose_path, filepath))[0]\n",
    "    largest_Fragment = rdMolStandardize.LargestFragmentChooser()\n",
    "    mol = largest_Fragment.choose(mol_dirty)\n",
    "    mol_smi = Chem.MolFromSmiles(smi)\n",
    "    assert mol_smi.HasSubstructMatch(mol), f'{smi} does not match {filepath}'\n",
    "    return pd.Series({'gen_mol': mol}) "
   ]
  },
  {
   "cell_type": "code",
   "execution_count": 9,
   "metadata": {},
   "outputs": [
    {
     "data": {
      "application/vnd.jupyter.widget-view+json": {
       "model_id": "795ed1b27e13429cbf7b121b917f60a0",
       "version_major": 2,
       "version_minor": 0
      },
      "text/plain": [
       "  0%|          | 0/4901 [00:00<?, ?it/s]"
      ]
     },
     "metadata": {},
     "output_type": "display_data"
    }
   ],
   "source": [
    "# store embedded conformers and vinardo scores in dataframe using apply\n",
    "df[['gen_mol']] = df.progress_apply(lambda x: get_gen_confs(x['gen_filename'], x['protac_smiles']), axis=1)"
   ]
  },
  {
   "attachments": {},
   "cell_type": "markdown",
   "metadata": {},
   "source": [
    "### Xtal references"
   ]
  },
  {
   "cell_type": "code",
   "execution_count": 10,
   "metadata": {},
   "outputs": [],
   "source": [
    "xtal_folder = 'data/xtal_poses'\n",
    "pdb_folder = os.path.join(xtal_folder, pdb, f'{pdb}_fragments')\n",
    "xtal_protein_path = os.path.join(pdb_folder, f'{pdb}_protein.pdb')\n",
    "# xtal_ext_linker = Chem.MolFromMolFile(os.path.join(pdb_folder,f'{pdb}_linker_extended.sdf'))\n",
    "xtal_protac = Chem.MolFromMolFile(os.path.join(pdb_folder, f'{pdb}_protac.sdf'))\n",
    "# xtal_linker = Chem.MolFromMolFile(os.path.join(pdb_folder, f'{pdb}_linker.sdf'))\n",
    "xtal_anchor = Chem.MolFromMolFile(os.path.join(pdb_folder, f'{pdb}_anchor.sdf'))\n",
    "xtal_warhead = Chem.MolFromMolFile(os.path.join(pdb_folder, f'{pdb}_warhead.sdf'))"
   ]
  },
  {
   "attachments": {},
   "cell_type": "markdown",
   "metadata": {},
   "source": [
    "## Get 3D metrics"
   ]
  },
  {
   "cell_type": "code",
   "execution_count": 11,
   "metadata": {},
   "outputs": [],
   "source": [
    "def gen_protac_conf(gen_filepath, protac_smiles, xtal_anchor, xtal_warhead) -> pd.Series:\n",
    "    filepath = os.path.join(gen_pose_path, gen_filepath)\n",
    "    mol_protac = Chem.MolFromSmiles(protac_smiles)\n",
    "    mol_gen = Chem.SDMolSupplier(filepath)[0]\n",
    "    largest_Fragment = rdMolStandardize.LargestFragmentChooser()\n",
    "    mol_gen = largest_Fragment.choose(mol_gen)\n",
    "    mol_gen_smi = Chem.MolToSmiles(mol_gen, isomericSmiles=False)\n",
    "    protac_smiles_flat = Chem.MolToSmiles(mol_protac, isomericSmiles=False)\n",
    "    if mol_gen_smi != protac_smiles_flat:\n",
    "        gen_filename = gen_filepath.split('.')[0]\n",
    "        new_filepath = os.path.join(gen_pose_path, f'{gen_filename}_expanded.sdf')\n",
    "        success = Chem.AllChem.EmbedMolecule(mol_protac, useRandomCoords=True)\n",
    "        attempts = 1\n",
    "        while success != 0:\n",
    "            success = Chem.AllChem.EmbedMolecule(mol_protac, maxAttempts=10000, useRandomCoords=True, ignoreSmoothingFailures=True)\n",
    "            attempts += 1\n",
    "            if attempts > 1:\n",
    "                print(f'Embedding failed for {gen_filepath}')\n",
    "                return pd.Series({'gen_mol': None, 'ori_gen_ptc_filename': None})\n",
    "        conf = mol_protac.GetConformer()\n",
    "        match_anchor = mol_protac.GetSubstructMatch(xtal_anchor)\n",
    "        match_warhead = mol_protac.GetSubstructMatch(xtal_warhead)\n",
    "        mol_gen_match = mol_protac.GetSubstructMatch(mol_gen)\n",
    "        xtal_anchor_coords = []\n",
    "        for i, atom in enumerate(xtal_anchor.GetAtoms()):\n",
    "            xtal_anchor_coords.append(xtal_anchor.GetConformer().GetAtomPosition(i))\n",
    "        xtal_warhead_coords = []\n",
    "        for i, atom in enumerate(xtal_warhead.GetAtoms()):\n",
    "            xtal_warhead_coords.append(xtal_warhead.GetConformer().GetAtomPosition(i))\n",
    "        mol_gen_coords = []\n",
    "        for i, atom in enumerate(mol_gen.GetAtoms()):\n",
    "            mol_gen_coords.append(mol_gen.GetConformer().GetAtomPosition(i))\n",
    "        reset_ptc_idx = []\n",
    "        for wrh_idx, ptc_idx in enumerate(match_warhead):\n",
    "            coord = xtal_warhead_coords[wrh_idx]\n",
    "            reset_ptc_idx.append(ptc_idx)\n",
    "            conf.SetAtomPosition(ptc_idx,coord)\n",
    "        for anc_idx, ptc_idx in enumerate(match_anchor):\n",
    "            coord = xtal_anchor_coords[anc_idx]\n",
    "            reset_ptc_idx.append(ptc_idx)\n",
    "            conf.SetAtomPosition(ptc_idx,coord)\n",
    "        for gen_idx, ptc_idx in enumerate(mol_gen_match):\n",
    "            if ptc_idx not in reset_ptc_idx:\n",
    "                coord = mol_gen_coords[gen_idx]\n",
    "                conf.SetAtomPosition(ptc_idx,coord)\n",
    "                reset_ptc_idx.append(ptc_idx)\n",
    "        # Chem.MolToMolFile(mol_protac, new_filepath)\n",
    "        assert len(reset_ptc_idx) == len(mol_protac.GetAtoms()), f'{len(reset_ptc_idx)} != {len(mol_protac.GetAtoms())}'\n",
    "    else:\n",
    "        new_filepath = filepath\n",
    "        mol_protac = mol_gen\n",
    "    return pd.Series({'gen_mol': mol_protac, 'ori_gen_ptc_filename': new_filepath})"
   ]
  },
  {
   "cell_type": "code",
   "execution_count": 12,
   "metadata": {},
   "outputs": [],
   "source": [
    "def gen_protac_conf_new(gen_filepath, protac_smiles, xtal_anchor, xtal_warhead):\n",
    "    filepath = os.path.join(gen_pose_path, gen_filepath)\n",
    "    mol_protac = Chem.MolFromSmiles(protac_smiles)\n",
    "    mol_gen = Chem.SDMolSupplier(filepath)[0]\n",
    "    largest_Fragment = rdMolStandardize.LargestFragmentChooser()\n",
    "    mol_gen = largest_Fragment.choose(mol_gen)\n",
    "    mol_gen_smi = Chem.MolToSmiles(mol_gen, isomericSmiles=False)\n",
    "    protac_smiles_flat = Chem.MolToSmiles(mol_protac, isomericSmiles=False)\n",
    "    if mol_gen_smi != protac_smiles_flat:\n",
    "        xtal_anc_copy = copy.deepcopy(xtal_anchor)\n",
    "        xtal_wrh_copy = copy.deepcopy(xtal_warhead)\n",
    "        mol_gen_coords = []\n",
    "        for i, atom in enumerate(mol_gen.GetAtoms()):\n",
    "            atom.SetAtomMapNum(i+1)\n",
    "            mol_gen_coords.append(mol_gen.GetConformer().GetAtomPosition(i))\n",
    "        dict_gen = {a.GetAtomMapNum(): a.GetIdx() for a in mol_gen.GetAtoms()}\n",
    "        xtal_anc_cp_coords = []\n",
    "        for i, atom in enumerate(xtal_anc_copy.GetAtoms()):\n",
    "            atom.SetAtomMapNum(i+100)\n",
    "            xtal_anc_cp_coords.append(xtal_anc_copy.GetConformer().GetAtomPosition(i))\n",
    "        dict_anc = {a.GetAtomMapNum(): a.GetIdx() for a in xtal_anc_copy.GetAtoms()}\n",
    "        xtal_wrh_cp_coords = []\n",
    "        for i, atom in enumerate(xtal_wrh_copy.GetAtoms()):\n",
    "            atom.SetAtomMapNum(i+200)\n",
    "            xtal_wrh_cp_coords.append(xtal_wrh_copy.GetConformer().GetAtomPosition(i))\n",
    "        dict_wrh = {a.GetAtomMapNum(): a.GetIdx() for a in xtal_wrh_copy.GetAtoms()}\n",
    "        # check if matching coordinates between xtal and gen\n",
    "        overlap_mapNum_anc = []\n",
    "        dict_gen2anc = {}\n",
    "        for i, coord in enumerate(mol_gen_coords):\n",
    "            for j, anc_coord in enumerate(xtal_anc_cp_coords):\n",
    "                if coord.x == anc_coord.x and coord.y == anc_coord.y and coord.z == anc_coord.z:\n",
    "                    overlap_mapNum_anc.append(mol_gen.GetAtomWithIdx(i).GetAtomMapNum())\n",
    "                    dict_gen2anc[mol_gen.GetAtomWithIdx(i).GetAtomMapNum()] = xtal_anc_copy.GetAtomWithIdx(j).GetAtomMapNum()\n",
    "        overlap_mapNum_wrh = []\n",
    "        dict_gen2wrh = {}\n",
    "        for i, coord in enumerate(mol_gen_coords):\n",
    "            for j, wrh_coord in enumerate(xtal_wrh_cp_coords):\n",
    "                if coord.x == wrh_coord.x and coord.y == wrh_coord.y and coord.z == wrh_coord.z:\n",
    "                    overlap_mapNum_wrh.append(mol_gen.GetAtomWithIdx(i).GetAtomMapNum())\n",
    "                    dict_gen2wrh[mol_gen.GetAtomWithIdx(i).GetAtomMapNum()] = xtal_wrh_copy.GetAtomWithIdx(j).GetAtomMapNum()\n",
    "        # find the bond between overlap and not overlap\n",
    "        map_in_anc = None\n",
    "        map_in_wrh = None\n",
    "        for bond in mol_gen.GetBonds():\n",
    "            if bond.GetBeginAtom().GetAtomMapNum() in overlap_mapNum_anc and bond.GetEndAtom().GetAtomMapNum() not in overlap_mapNum_anc:\n",
    "                map_in_anc = bond.GetBeginAtom().GetAtomMapNum()\n",
    "                map_not_in_anc = bond.GetEndAtom().GetAtomMapNum()\n",
    "                break\n",
    "            if bond.GetEndAtom().GetAtomMapNum() in overlap_mapNum_anc and bond.GetBeginAtom().GetAtomMapNum() not in overlap_mapNum_anc:\n",
    "                map_in_anc = bond.GetEndAtom().GetAtomMapNum()\n",
    "                map_not_in_anc = bond.GetBeginAtom().GetAtomMapNum()\n",
    "                break\n",
    "        for bond in mol_gen.GetBonds():\n",
    "            if bond.GetBeginAtom().GetAtomMapNum() in overlap_mapNum_wrh and bond.GetEndAtom().GetAtomMapNum() not in overlap_mapNum_wrh:\n",
    "                map_in_wrh = bond.GetBeginAtom().GetAtomMapNum()\n",
    "                map_not_in_wrh = bond.GetEndAtom().GetAtomMapNum()\n",
    "                break\n",
    "            if bond.GetEndAtom().GetAtomMapNum() in overlap_mapNum_wrh and bond.GetBeginAtom().GetAtomMapNum() not in overlap_mapNum_wrh:\n",
    "                map_in_wrh = bond.GetEndAtom().GetAtomMapNum()\n",
    "                map_not_in_wrh = bond.GetBeginAtom().GetAtomMapNum()\n",
    "                break\n",
    "        if map_in_anc is None or map_in_wrh is None:\n",
    "            return pd.Series({'gen_mol': None, 'ori_gen_ptc_filename': None})  \n",
    "        # remove atoms of overlap in gen\n",
    "        wrh_ind_toremove = [dict_gen[x] for x in overlap_mapNum_wrh]\n",
    "        # sort in reverse\n",
    "        wrh_ind_toremove.sort(reverse=True)\n",
    "        mol_gen_adapt = remove_atom_indices(mol_gen, wrh_ind_toremove)\n",
    "        dict_gen = {a.GetAtomMapNum(): a.GetIdx() for a in mol_gen_adapt.GetAtoms()}\n",
    "        anc_ind_toremove = [dict_gen[x] for x in overlap_mapNum_anc]\n",
    "        # sort in reverse\n",
    "        anc_ind_toremove.sort(reverse=True)\n",
    "        mol_gen_adapt = remove_atom_indices(mol_gen_adapt, anc_ind_toremove)\n",
    "        # remove atom if hydrogen at attechment point in xtal\n",
    "        index_attach = dict_anc[dict_gen2anc[map_in_anc]]\n",
    "        # get neighbors for index_attach\n",
    "        xtal_anc_copy = Chem.AddHs(xtal_anc_copy)\n",
    "        nbrs = xtal_anc_copy.GetAtomWithIdx(index_attach).GetNeighbors()\n",
    "        for nbr in nbrs:\n",
    "            if nbr.GetSymbol() == 'H':\n",
    "                xtal_anc_copy = remove_atom_indices(xtal_anc_copy, [nbr.GetIdx()])\n",
    "                break\n",
    "        index_attach = dict_wrh[dict_gen2wrh[map_in_wrh]]\n",
    "        # get neighbors for index_attach\n",
    "        xtal_wrh_copy = Chem.AddHs(xtal_wrh_copy)\n",
    "        nbrs = xtal_wrh_copy.GetAtomWithIdx(index_attach).GetNeighbors()\n",
    "        for nbr in nbrs:\n",
    "            if nbr.GetSymbol() == 'H':\n",
    "                xtal_wrh_copy = remove_atom_indices(xtal_wrh_copy, [nbr.GetIdx()])\n",
    "                break\n",
    "        combo_gen_anc = Chem.CombineMols(mol_gen_adapt, xtal_anc_copy)\n",
    "        dict_combo = {a.GetAtomMapNum(): a.GetIdx() for a in combo_gen_anc.GetAtoms()}\n",
    "        combo_gen_anc_edit = Chem.EditableMol(combo_gen_anc)\n",
    "        combo_gen_anc_edit.AddBond(dict_combo[map_not_in_anc], dict_combo[dict_gen2anc[map_in_anc]], Chem.BondType.SINGLE)\n",
    "        combo_gen_anc = combo_gen_anc_edit.GetMol()\n",
    "        combo_all = Chem.CombineMols(combo_gen_anc, xtal_wrh_copy)\n",
    "        dict_combo = {a.GetAtomMapNum(): a.GetIdx() for a in combo_all.GetAtoms()}\n",
    "        combo_all_edit = Chem.EditableMol(combo_all)\n",
    "        combo_all_edit.AddBond(dict_combo[map_not_in_wrh], dict_combo[dict_gen2wrh[map_in_wrh]], Chem.BondType.SINGLE)\n",
    "        combo_all = combo_all_edit.GetMol()\n",
    "        combo_all =Chem.RemoveHs(combo_all)\n",
    "        for a in combo_all.GetAtoms():\n",
    "            a.SetAtomMapNum(0)\n",
    "        flat_combo = Chem.MolToSmiles(combo_all, isomericSmiles=False)\n",
    "        if flat_combo != protac_smiles_flat:\n",
    "            print('ERROR: flat_combo != protac_smiles_flat')\n",
    "            return pd.Series({'gen_mol': None, 'ori_gen_ptc_filename': None})  \n",
    "        gen_filename = gen_filepath.split('.')[0]\n",
    "        new_filepath = os.path.join(gen_pose_path, f'{gen_filename}_expanded.sdf')    \n",
    "        Chem.MolToMolFile(combo_all, new_filepath)\n",
    "        return pd.Series({'gen_mol': combo_all, 'ori_gen_ptc_filename': new_filepath})\n"
   ]
  },
  {
   "cell_type": "code",
   "execution_count": 13,
   "metadata": {},
   "outputs": [
    {
     "data": {
      "application/vnd.jupyter.widget-view+json": {
       "model_id": "4094f136ec604d2bbf2d38db3b84b4f6",
       "version_major": 2,
       "version_minor": 0
      },
      "text/plain": [
       "  0%|          | 0/4901 [00:00<?, ?it/s]"
      ]
     },
     "metadata": {},
     "output_type": "display_data"
    }
   ],
   "source": [
    "df[['gen_mol', 'ori_gen_ptc_filename']] = df.progress_apply(lambda x: gen_protac_conf_new(x['gen_filename'], x['protac_smiles'], xtal_anchor, xtal_warhead), axis=1)"
   ]
  },
  {
   "cell_type": "code",
   "execution_count": 14,
   "metadata": {},
   "outputs": [
    {
     "data": {
      "text/plain": [
       "4901"
      ]
     },
     "execution_count": 14,
     "metadata": {},
     "output_type": "execute_result"
    }
   ],
   "source": [
    "df_fil = df[~df.ori_gen_ptc_filename.isnull()]\n",
    "len(df_fil)"
   ]
  },
  {
   "cell_type": "code",
   "execution_count": 15,
   "metadata": {},
   "outputs": [
    {
     "data": {
      "text/plain": [
       "0.0"
      ]
     },
     "execution_count": 15,
     "metadata": {},
     "output_type": "execute_result"
    }
   ],
   "source": [
    "# percent failed\n",
    "(len(df)-len(df_fil))/len(df)*100"
   ]
  },
  {
   "attachments": {},
   "cell_type": "markdown",
   "metadata": {},
   "source": [
    "### SC RDKit"
   ]
  },
  {
   "cell_type": "code",
   "execution_count": 16,
   "metadata": {},
   "outputs": [
    {
     "name": "stdout",
     "output_type": "stream",
     "text": [
      "count    4901.000000\n",
      "mean        0.976829\n",
      "std         0.016649\n",
      "min         0.950274\n",
      "25%         0.962875\n",
      "50%         0.977873\n",
      "75%         0.993348\n",
      "max         0.999666\n",
      "Name: ori_sc_rdkit, dtype: float64\n"
     ]
    }
   ],
   "source": [
    "df_fil['ori_sc_rdkit'] = df_fil.apply(lambda x: calc_SC_RDKit_score(x.gen_mol, xtal_protac), axis=1)\n",
    "print(df_fil['ori_sc_rdkit'].describe())"
   ]
  },
  {
   "cell_type": "code",
   "execution_count": 17,
   "metadata": {},
   "outputs": [
    {
     "name": "stdout",
     "output_type": "stream",
     "text": [
      "fraction of conformers with SC_RDKIT > 0.7: 100.0000\n",
      "fraction of conformers with SC_RDKIT > 0.8: 100.0000\n",
      "fraction of conformers with SC_RDKIT > 0.9: 100.0000\n",
      "average SC_RDKIT: 0.9768\n"
     ]
    }
   ],
   "source": [
    "print(f'fraction of conformers with SC_RDKIT > 0.7: {(len(df_fil[df_fil[\"ori_sc_rdkit\"] > 0.7])/len(df_fil)*100):.4f}')\n",
    "print(f'fraction of conformers with SC_RDKIT > 0.8: {(len(df_fil[df_fil[\"ori_sc_rdkit\"] > 0.8])/len(df_fil)*100):.4f}')\n",
    "print(f'fraction of conformers with SC_RDKIT > 0.9: {(len(df_fil[df_fil[\"ori_sc_rdkit\"] > 0.9])/len(df_fil)*100):.4f}')\n",
    "print(f'average SC_RDKIT: {df_fil[\"ori_sc_rdkit\"].mean(skipna=True):.4f}')"
   ]
  },
  {
   "attachments": {},
   "cell_type": "markdown",
   "metadata": {},
   "source": [
    "### Clashes with protein"
   ]
  },
  {
   "cell_type": "code",
   "execution_count": 18,
   "metadata": {},
   "outputs": [
    {
     "name": "stdout",
     "output_type": "stream",
     "text": [
      "average clashes_cutoff: 0.0082\n",
      "average clashes_vdw: 15.7392\n"
     ]
    }
   ],
   "source": [
    "df_fil['ori_clashes_cutoff'] = df_fil.apply(lambda x: lig_protein_clash_dist(xtal_protein_path, os.path.join(gen_pose_path, x.ori_gen_ptc_filename.split('/')[-1])), axis=1)\n",
    "df_fil['ori_clashes_vdw'] = df_fil.apply(lambda x: lig_protein_clash_vdw(xtal_protein_path, os.path.join(gen_pose_path, x.ori_gen_ptc_filename.split('/')[-1])), axis=1)\n",
    "print(f'average clashes_cutoff: {df_fil[\"ori_clashes_cutoff\"].mean(skipna=True):.4f}')\n",
    "print(f'average clashes_vdw: {df_fil[\"ori_clashes_vdw\"].mean(skipna=True):.4f}')"
   ]
  },
  {
   "attachments": {},
   "cell_type": "markdown",
   "metadata": {},
   "source": [
    "### Torsion energy"
   ]
  },
  {
   "cell_type": "code",
   "execution_count": 19,
   "metadata": {},
   "outputs": [
    {
     "name": "stdout",
     "output_type": "stream",
     "text": [
      "average E_torsion: 85.8418\n"
     ]
    }
   ],
   "source": [
    "df_fil['ori_E_torsion'] = df_fil.apply(lambda x: calc_torsion_energy(os.path.join(gen_pose_path, x.ori_gen_ptc_filename.split('/')[-1])), axis=1)\n",
    "print(f'average E_torsion: {df_fil[\"ori_E_torsion\"].mean(skipna=True):.4f}')"
   ]
  },
  {
   "cell_type": "code",
   "execution_count": 20,
   "metadata": {},
   "outputs": [
    {
     "data": {
      "text/plain": [
       "4901"
      ]
     },
     "execution_count": 20,
     "metadata": {},
     "output_type": "execute_result"
    }
   ],
   "source": [
    "len(df_fil)"
   ]
  },
  {
   "cell_type": "code",
   "execution_count": 21,
   "metadata": {},
   "outputs": [
    {
     "data": {
      "text/plain": [
       "(Index(['ID', 'reference', 'lig_id', 'protac_smiles', 'linker_smiles',\n",
       "        'anchor_smiles', 'warhead_smiles', 'anchor_ev', 'warhead_ev', 'POI',\n",
       "        'E3', 'gen_filename', 'frags', 'tanimoto', 'qed_linker', 'sa_linker',\n",
       "        'num_rings_linker', 'num_rot_bonds_linker', 'branched', 'PAINS',\n",
       "        'ring_arom', 'ori_E_torsion', 'ori_clashes_cutoff', 'ori_clashes_vdw',\n",
       "        'ori_gen_ptc_filename', 'ori_sc_rdkit', 'to_3d', 'gen_mol'],\n",
       "       dtype='object'),\n",
       " Index(['ID', 'reference', 'lig_id', 'protac_smiles', 'linker_smiles',\n",
       "        'anchor_smiles', 'warhead_smiles', 'anchor_ev', 'warhead_ev', 'POI',\n",
       "        'E3', 'gen_filename', 'frags', 'tanimoto', 'qed_linker', 'sa_linker',\n",
       "        'num_rings_linker', 'num_rot_bonds_linker', 'branched', 'PAINS',\n",
       "        'ring_arom', 'ori_E_torsion', 'ori_clashes_cutoff', 'ori_clashes_vdw',\n",
       "        'ori_gen_ptc_filename', 'ori_sc_rdkit', 'to_3d', 'gen_mol'],\n",
       "       dtype='object'))"
      ]
     },
     "execution_count": 21,
     "metadata": {},
     "output_type": "execute_result"
    }
   ],
   "source": [
    "df_fil.columns, df.columns"
   ]
  },
  {
   "cell_type": "code",
   "execution_count": 22,
   "metadata": {},
   "outputs": [
    {
     "data": {
      "text/plain": [
       "0"
      ]
     },
     "execution_count": 22,
     "metadata": {},
     "output_type": "execute_result"
    }
   ],
   "source": [
    "df_loss = df[df.ori_gen_ptc_filename.isnull()]\n",
    "len(df_loss)"
   ]
  },
  {
   "cell_type": "code",
   "execution_count": 23,
   "metadata": {},
   "outputs": [
    {
     "data": {
      "text/html": [
       "<div>\n",
       "<style scoped>\n",
       "    .dataframe tbody tr th:only-of-type {\n",
       "        vertical-align: middle;\n",
       "    }\n",
       "\n",
       "    .dataframe tbody tr th {\n",
       "        vertical-align: top;\n",
       "    }\n",
       "\n",
       "    .dataframe thead th {\n",
       "        text-align: right;\n",
       "    }\n",
       "</style>\n",
       "<table border=\"1\" class=\"dataframe\">\n",
       "  <thead>\n",
       "    <tr style=\"text-align: right;\">\n",
       "      <th></th>\n",
       "      <th>ID</th>\n",
       "      <th>reference</th>\n",
       "      <th>lig_id</th>\n",
       "      <th>protac_smiles</th>\n",
       "      <th>linker_smiles</th>\n",
       "      <th>anchor_smiles</th>\n",
       "      <th>warhead_smiles</th>\n",
       "      <th>anchor_ev</th>\n",
       "      <th>warhead_ev</th>\n",
       "      <th>POI</th>\n",
       "      <th>...</th>\n",
       "      <th>branched</th>\n",
       "      <th>PAINS</th>\n",
       "      <th>ring_arom</th>\n",
       "      <th>ori_E_torsion</th>\n",
       "      <th>ori_clashes_cutoff</th>\n",
       "      <th>ori_clashes_vdw</th>\n",
       "      <th>ori_gen_ptc_filename</th>\n",
       "      <th>ori_sc_rdkit</th>\n",
       "      <th>to_3d</th>\n",
       "      <th>gen_mol</th>\n",
       "    </tr>\n",
       "  </thead>\n",
       "  <tbody>\n",
       "    <tr>\n",
       "      <th>0</th>\n",
       "      <td>7JTP_difflinker_0</td>\n",
       "      <td>7JTP</td>\n",
       "      <td>MS67</td>\n",
       "      <td>Cc1ncsc1-c1ccc([C@H](C)NC(=O)[C@@H]2C[C@@H](O)...</td>\n",
       "      <td>CNCO</td>\n",
       "      <td>Cc1ncsc1-c1ccc([C@H](C)NC(=O)[C@@H]2C[C@@H](O)...</td>\n",
       "      <td>C[C@@H]1CN(c2ccc(-c3ccccc3F)cc2NC(=O)c2c[nH]c(...</td>\n",
       "      <td>Cc1ncsc1-c1ccc([C@H](C)NC(=O)[C@@H]2C[C@@H](O)...</td>\n",
       "      <td>C[C@@H]1CN(c2ccc(-c3cc([*:2])ccc3F)cc2NC(=O)c2...</td>\n",
       "      <td>WDR5</td>\n",
       "      <td>...</td>\n",
       "      <td>False</td>\n",
       "      <td>False</td>\n",
       "      <td>True</td>\n",
       "      <td>87.307063</td>\n",
       "      <td>0.0</td>\n",
       "      <td>18.0</td>\n",
       "      <td>/Users/rebeccaneeser/Documents/data/protacs/pr...</td>\n",
       "      <td>0.982011</td>\n",
       "      <td>True</td>\n",
       "      <td>&lt;rdkit.Chem.rdchem.Mol object at 0x7f94a16f74c0&gt;</td>\n",
       "    </tr>\n",
       "    <tr>\n",
       "      <th>1</th>\n",
       "      <td>7JTP_difflinker_1</td>\n",
       "      <td>7JTP</td>\n",
       "      <td>MS67</td>\n",
       "      <td>Cc1ncsc1-c1ccc([C@H](C)NC(=O)[C@@H]2C[C@@H](O)...</td>\n",
       "      <td>CNC=O</td>\n",
       "      <td>Cc1ncsc1-c1ccc([C@H](C)NC(=O)[C@@H]2C[C@@H](O)...</td>\n",
       "      <td>C[C@@H]1CN(c2ccc(-c3ccccc3F)cc2NC(=O)c2c[nH]c(...</td>\n",
       "      <td>Cc1ncsc1-c1ccc([C@H](C)NC(=O)[C@@H]2C[C@@H](O)...</td>\n",
       "      <td>C[C@@H]1CN(c2ccc(-c3cc([*:2])ccc3F)cc2NC(=O)c2...</td>\n",
       "      <td>WDR5</td>\n",
       "      <td>...</td>\n",
       "      <td>False</td>\n",
       "      <td>False</td>\n",
       "      <td>True</td>\n",
       "      <td>84.169901</td>\n",
       "      <td>1.0</td>\n",
       "      <td>17.0</td>\n",
       "      <td>/Users/rebeccaneeser/Documents/data/protacs/pr...</td>\n",
       "      <td>0.974625</td>\n",
       "      <td>True</td>\n",
       "      <td>&lt;rdkit.Chem.rdchem.Mol object at 0x7f94a16f7640&gt;</td>\n",
       "    </tr>\n",
       "    <tr>\n",
       "      <th>2</th>\n",
       "      <td>7JTP_difflinker_2</td>\n",
       "      <td>7JTP</td>\n",
       "      <td>MS67</td>\n",
       "      <td>Cc1ncsc1-c1ccc([C@H](C)NC(=O)[C@@H]2C[C@@H](O)...</td>\n",
       "      <td>CNC=O</td>\n",
       "      <td>Cc1ncsc1-c1ccc([C@H](C)NC(=O)[C@@H]2C[C@@H](O)...</td>\n",
       "      <td>C[C@@H]1CN(c2ccc(-c3ccccc3F)cc2NC(=O)c2c[nH]c(...</td>\n",
       "      <td>Cc1ncsc1-c1ccc([C@H](C)NC(=O)[C@@H]2C[C@@H](O)...</td>\n",
       "      <td>C[C@@H]1CN(c2ccc(-c3cc([*:2])ccc3F)cc2NC(=O)c2...</td>\n",
       "      <td>WDR5</td>\n",
       "      <td>...</td>\n",
       "      <td>False</td>\n",
       "      <td>False</td>\n",
       "      <td>True</td>\n",
       "      <td>81.773502</td>\n",
       "      <td>0.0</td>\n",
       "      <td>17.0</td>\n",
       "      <td>/Users/rebeccaneeser/Documents/data/protacs/pr...</td>\n",
       "      <td>0.987969</td>\n",
       "      <td>False</td>\n",
       "      <td>&lt;rdkit.Chem.rdchem.Mol object at 0x7f94a16f7520&gt;</td>\n",
       "    </tr>\n",
       "    <tr>\n",
       "      <th>3</th>\n",
       "      <td>7JTP_difflinker_3</td>\n",
       "      <td>7JTP</td>\n",
       "      <td>MS67</td>\n",
       "      <td>Cc1ncsc1-c1ccc([C@H](C)NC(=O)[C@@H]2C[C@@H](O)...</td>\n",
       "      <td>CCCO</td>\n",
       "      <td>Cc1ncsc1-c1ccc([C@H](C)NC(=O)[C@@H]2C[C@@H](O)...</td>\n",
       "      <td>C[C@@H]1CN(c2ccc(-c3ccccc3F)cc2NC(=O)c2c[nH]c(...</td>\n",
       "      <td>Cc1ncsc1-c1ccc([C@H](C)NC(=O)[C@@H]2C[C@@H](O)...</td>\n",
       "      <td>C[C@@H]1CN(c2ccc(-c3cc([*:2])ccc3F)cc2NC(=O)c2...</td>\n",
       "      <td>WDR5</td>\n",
       "      <td>...</td>\n",
       "      <td>False</td>\n",
       "      <td>False</td>\n",
       "      <td>True</td>\n",
       "      <td>82.316366</td>\n",
       "      <td>0.0</td>\n",
       "      <td>15.0</td>\n",
       "      <td>/Users/rebeccaneeser/Documents/data/protacs/pr...</td>\n",
       "      <td>0.953176</td>\n",
       "      <td>True</td>\n",
       "      <td>&lt;rdkit.Chem.rdchem.Mol object at 0x7f94a16f7d00&gt;</td>\n",
       "    </tr>\n",
       "    <tr>\n",
       "      <th>4</th>\n",
       "      <td>7JTP_difflinker_4</td>\n",
       "      <td>7JTP</td>\n",
       "      <td>MS67</td>\n",
       "      <td>Cc1ncsc1-c1ccc([C@H](C)NC(=O)[C@@H]2C[C@@H](O)...</td>\n",
       "      <td>CCC=O</td>\n",
       "      <td>Cc1ncsc1-c1ccc([C@H](C)NC(=O)[C@@H]2C[C@@H](O)...</td>\n",
       "      <td>C[C@@H]1CN(c2ccc(-c3ccccc3F)cc2NC(=O)c2c[nH]c(...</td>\n",
       "      <td>Cc1ncsc1-c1ccc([C@H](C)NC(=O)[C@@H]2C[C@@H](O)...</td>\n",
       "      <td>C[C@@H]1CN(c2ccc(-c3cc([*:2])ccc3F)cc2NC(=O)c2...</td>\n",
       "      <td>WDR5</td>\n",
       "      <td>...</td>\n",
       "      <td>False</td>\n",
       "      <td>False</td>\n",
       "      <td>True</td>\n",
       "      <td>90.963791</td>\n",
       "      <td>0.0</td>\n",
       "      <td>17.0</td>\n",
       "      <td>/Users/rebeccaneeser/Documents/data/protacs/pr...</td>\n",
       "      <td>0.963217</td>\n",
       "      <td>True</td>\n",
       "      <td>&lt;rdkit.Chem.rdchem.Mol object at 0x7f94a16f7700&gt;</td>\n",
       "    </tr>\n",
       "  </tbody>\n",
       "</table>\n",
       "<p>5 rows × 28 columns</p>\n",
       "</div>"
      ],
      "text/plain": [
       "                  ID reference lig_id  \\\n",
       "0  7JTP_difflinker_0      7JTP   MS67   \n",
       "1  7JTP_difflinker_1      7JTP   MS67   \n",
       "2  7JTP_difflinker_2      7JTP   MS67   \n",
       "3  7JTP_difflinker_3      7JTP   MS67   \n",
       "4  7JTP_difflinker_4      7JTP   MS67   \n",
       "\n",
       "                                       protac_smiles linker_smiles  \\\n",
       "0  Cc1ncsc1-c1ccc([C@H](C)NC(=O)[C@@H]2C[C@@H](O)...          CNCO   \n",
       "1  Cc1ncsc1-c1ccc([C@H](C)NC(=O)[C@@H]2C[C@@H](O)...         CNC=O   \n",
       "2  Cc1ncsc1-c1ccc([C@H](C)NC(=O)[C@@H]2C[C@@H](O)...         CNC=O   \n",
       "3  Cc1ncsc1-c1ccc([C@H](C)NC(=O)[C@@H]2C[C@@H](O)...          CCCO   \n",
       "4  Cc1ncsc1-c1ccc([C@H](C)NC(=O)[C@@H]2C[C@@H](O)...         CCC=O   \n",
       "\n",
       "                                       anchor_smiles  \\\n",
       "0  Cc1ncsc1-c1ccc([C@H](C)NC(=O)[C@@H]2C[C@@H](O)...   \n",
       "1  Cc1ncsc1-c1ccc([C@H](C)NC(=O)[C@@H]2C[C@@H](O)...   \n",
       "2  Cc1ncsc1-c1ccc([C@H](C)NC(=O)[C@@H]2C[C@@H](O)...   \n",
       "3  Cc1ncsc1-c1ccc([C@H](C)NC(=O)[C@@H]2C[C@@H](O)...   \n",
       "4  Cc1ncsc1-c1ccc([C@H](C)NC(=O)[C@@H]2C[C@@H](O)...   \n",
       "\n",
       "                                      warhead_smiles  \\\n",
       "0  C[C@@H]1CN(c2ccc(-c3ccccc3F)cc2NC(=O)c2c[nH]c(...   \n",
       "1  C[C@@H]1CN(c2ccc(-c3ccccc3F)cc2NC(=O)c2c[nH]c(...   \n",
       "2  C[C@@H]1CN(c2ccc(-c3ccccc3F)cc2NC(=O)c2c[nH]c(...   \n",
       "3  C[C@@H]1CN(c2ccc(-c3ccccc3F)cc2NC(=O)c2c[nH]c(...   \n",
       "4  C[C@@H]1CN(c2ccc(-c3ccccc3F)cc2NC(=O)c2c[nH]c(...   \n",
       "\n",
       "                                           anchor_ev  \\\n",
       "0  Cc1ncsc1-c1ccc([C@H](C)NC(=O)[C@@H]2C[C@@H](O)...   \n",
       "1  Cc1ncsc1-c1ccc([C@H](C)NC(=O)[C@@H]2C[C@@H](O)...   \n",
       "2  Cc1ncsc1-c1ccc([C@H](C)NC(=O)[C@@H]2C[C@@H](O)...   \n",
       "3  Cc1ncsc1-c1ccc([C@H](C)NC(=O)[C@@H]2C[C@@H](O)...   \n",
       "4  Cc1ncsc1-c1ccc([C@H](C)NC(=O)[C@@H]2C[C@@H](O)...   \n",
       "\n",
       "                                          warhead_ev   POI  ... branched  \\\n",
       "0  C[C@@H]1CN(c2ccc(-c3cc([*:2])ccc3F)cc2NC(=O)c2...  WDR5  ...    False   \n",
       "1  C[C@@H]1CN(c2ccc(-c3cc([*:2])ccc3F)cc2NC(=O)c2...  WDR5  ...    False   \n",
       "2  C[C@@H]1CN(c2ccc(-c3cc([*:2])ccc3F)cc2NC(=O)c2...  WDR5  ...    False   \n",
       "3  C[C@@H]1CN(c2ccc(-c3cc([*:2])ccc3F)cc2NC(=O)c2...  WDR5  ...    False   \n",
       "4  C[C@@H]1CN(c2ccc(-c3cc([*:2])ccc3F)cc2NC(=O)c2...  WDR5  ...    False   \n",
       "\n",
       "   PAINS ring_arom  ori_E_torsion  ori_clashes_cutoff  ori_clashes_vdw  \\\n",
       "0  False      True      87.307063                 0.0             18.0   \n",
       "1  False      True      84.169901                 1.0             17.0   \n",
       "2  False      True      81.773502                 0.0             17.0   \n",
       "3  False      True      82.316366                 0.0             15.0   \n",
       "4  False      True      90.963791                 0.0             17.0   \n",
       "\n",
       "                                ori_gen_ptc_filename  ori_sc_rdkit  to_3d  \\\n",
       "0  /Users/rebeccaneeser/Documents/data/protacs/pr...      0.982011   True   \n",
       "1  /Users/rebeccaneeser/Documents/data/protacs/pr...      0.974625   True   \n",
       "2  /Users/rebeccaneeser/Documents/data/protacs/pr...      0.987969  False   \n",
       "3  /Users/rebeccaneeser/Documents/data/protacs/pr...      0.953176   True   \n",
       "4  /Users/rebeccaneeser/Documents/data/protacs/pr...      0.963217   True   \n",
       "\n",
       "                                            gen_mol  \n",
       "0  <rdkit.Chem.rdchem.Mol object at 0x7f94a16f74c0>  \n",
       "1  <rdkit.Chem.rdchem.Mol object at 0x7f94a16f7640>  \n",
       "2  <rdkit.Chem.rdchem.Mol object at 0x7f94a16f7520>  \n",
       "3  <rdkit.Chem.rdchem.Mol object at 0x7f94a16f7d00>  \n",
       "4  <rdkit.Chem.rdchem.Mol object at 0x7f94a16f7700>  \n",
       "\n",
       "[5 rows x 28 columns]"
      ]
     },
     "execution_count": 23,
     "metadata": {},
     "output_type": "execute_result"
    }
   ],
   "source": [
    "# concat\n",
    "df_save = pd.concat([df_fil, df_loss], axis=0)\n",
    "df_save.reset_index(drop=True, inplace=True)\n",
    "df_save.head()"
   ]
  },
  {
   "cell_type": "code",
   "execution_count": 24,
   "metadata": {},
   "outputs": [],
   "source": [
    "# drop gen_mol column\n",
    "df_save = df_save.drop(columns=['gen_mol'])\n",
    "df_save.to_csv(os.path.join(gen_folder, f'{pdb}_sampled_{method}_valid.csv'), index=False)"
   ]
  },
  {
   "attachments": {},
   "cell_type": "markdown",
   "metadata": {},
   "source": [
    "#### reinsert corrected value to filtered df"
   ]
  },
  {
   "cell_type": "code",
   "execution_count": 25,
   "metadata": {},
   "outputs": [
    {
     "data": {
      "text/plain": [
       "4901"
      ]
     },
     "execution_count": 25,
     "metadata": {},
     "output_type": "execute_result"
    }
   ],
   "source": [
    "len(df_save)"
   ]
  },
  {
   "cell_type": "code",
   "execution_count": 26,
   "metadata": {},
   "outputs": [
    {
     "data": {
      "text/html": [
       "<div>\n",
       "<style scoped>\n",
       "    .dataframe tbody tr th:only-of-type {\n",
       "        vertical-align: middle;\n",
       "    }\n",
       "\n",
       "    .dataframe tbody tr th {\n",
       "        vertical-align: top;\n",
       "    }\n",
       "\n",
       "    .dataframe thead th {\n",
       "        text-align: right;\n",
       "    }\n",
       "</style>\n",
       "<table border=\"1\" class=\"dataframe\">\n",
       "  <thead>\n",
       "    <tr style=\"text-align: right;\">\n",
       "      <th></th>\n",
       "      <th>ID</th>\n",
       "      <th>reference</th>\n",
       "      <th>lig_id</th>\n",
       "      <th>protac_smiles</th>\n",
       "      <th>linker_smiles</th>\n",
       "      <th>anchor_smiles</th>\n",
       "      <th>warhead_smiles</th>\n",
       "      <th>anchor_ev</th>\n",
       "      <th>warhead_ev</th>\n",
       "      <th>POI</th>\n",
       "      <th>...</th>\n",
       "      <th>to_3d</th>\n",
       "      <th>E_torsion</th>\n",
       "      <th>clashes_cutoff</th>\n",
       "      <th>clashes_vdw</th>\n",
       "      <th>embedded_mol</th>\n",
       "      <th>embedded_path</th>\n",
       "      <th>rmsd_anc</th>\n",
       "      <th>rmsd_wrh</th>\n",
       "      <th>sc_rdkit</th>\n",
       "      <th>vinardo</th>\n",
       "    </tr>\n",
       "  </thead>\n",
       "  <tbody>\n",
       "    <tr>\n",
       "      <th>0</th>\n",
       "      <td>7JTP_difflinker_0</td>\n",
       "      <td>7JTP</td>\n",
       "      <td>MS67</td>\n",
       "      <td>Cc1ncsc1-c1ccc([C@H](C)NC(=O)[C@@H]2C[C@@H](O)...</td>\n",
       "      <td>CNCO</td>\n",
       "      <td>Cc1ncsc1-c1ccc([C@H](C)NC(=O)[C@@H]2C[C@@H](O)...</td>\n",
       "      <td>C[C@@H]1CN(c2ccc(-c3ccccc3F)cc2NC(=O)c2c[nH]c(...</td>\n",
       "      <td>Cc1ncsc1-c1ccc([C@H](C)NC(=O)[C@@H]2C[C@@H](O)...</td>\n",
       "      <td>C[C@@H]1CN(c2ccc(-c3cc([*:2])ccc3F)cc2NC(=O)c2...</td>\n",
       "      <td>WDR5</td>\n",
       "      <td>...</td>\n",
       "      <td>True</td>\n",
       "      <td>92.469123</td>\n",
       "      <td>0.0</td>\n",
       "      <td>20.0</td>\n",
       "      <td>&lt;rdkit.Chem.rdchem.Mol object at 0x7fe4195a4340&gt;</td>\n",
       "      <td>selected_min_conf0__7JTP_difflinker_0.sdf</td>\n",
       "      <td>0.484488</td>\n",
       "      <td>0.490085</td>\n",
       "      <td>0.813721</td>\n",
       "      <td>-18.57411</td>\n",
       "    </tr>\n",
       "    <tr>\n",
       "      <th>1</th>\n",
       "      <td>7JTP_difflinker_1</td>\n",
       "      <td>7JTP</td>\n",
       "      <td>MS67</td>\n",
       "      <td>Cc1ncsc1-c1ccc([C@H](C)NC(=O)[C@@H]2C[C@@H](O)...</td>\n",
       "      <td>CNC=O</td>\n",
       "      <td>Cc1ncsc1-c1ccc([C@H](C)NC(=O)[C@@H]2C[C@@H](O)...</td>\n",
       "      <td>C[C@@H]1CN(c2ccc(-c3ccccc3F)cc2NC(=O)c2c[nH]c(...</td>\n",
       "      <td>Cc1ncsc1-c1ccc([C@H](C)NC(=O)[C@@H]2C[C@@H](O)...</td>\n",
       "      <td>C[C@@H]1CN(c2ccc(-c3cc([*:2])ccc3F)cc2NC(=O)c2...</td>\n",
       "      <td>WDR5</td>\n",
       "      <td>...</td>\n",
       "      <td>True</td>\n",
       "      <td>NaN</td>\n",
       "      <td>NaN</td>\n",
       "      <td>NaN</td>\n",
       "      <td>NaN</td>\n",
       "      <td>NaN</td>\n",
       "      <td>NaN</td>\n",
       "      <td>NaN</td>\n",
       "      <td>NaN</td>\n",
       "      <td>NaN</td>\n",
       "    </tr>\n",
       "    <tr>\n",
       "      <th>2</th>\n",
       "      <td>7JTP_difflinker_3</td>\n",
       "      <td>7JTP</td>\n",
       "      <td>MS67</td>\n",
       "      <td>Cc1ncsc1-c1ccc([C@H](C)NC(=O)[C@@H]2C[C@@H](O)...</td>\n",
       "      <td>CCCO</td>\n",
       "      <td>Cc1ncsc1-c1ccc([C@H](C)NC(=O)[C@@H]2C[C@@H](O)...</td>\n",
       "      <td>C[C@@H]1CN(c2ccc(-c3ccccc3F)cc2NC(=O)c2c[nH]c(...</td>\n",
       "      <td>Cc1ncsc1-c1ccc([C@H](C)NC(=O)[C@@H]2C[C@@H](O)...</td>\n",
       "      <td>C[C@@H]1CN(c2ccc(-c3cc([*:2])ccc3F)cc2NC(=O)c2...</td>\n",
       "      <td>WDR5</td>\n",
       "      <td>...</td>\n",
       "      <td>True</td>\n",
       "      <td>NaN</td>\n",
       "      <td>NaN</td>\n",
       "      <td>NaN</td>\n",
       "      <td>NaN</td>\n",
       "      <td>NaN</td>\n",
       "      <td>NaN</td>\n",
       "      <td>NaN</td>\n",
       "      <td>NaN</td>\n",
       "      <td>NaN</td>\n",
       "    </tr>\n",
       "    <tr>\n",
       "      <th>3</th>\n",
       "      <td>7JTP_difflinker_4</td>\n",
       "      <td>7JTP</td>\n",
       "      <td>MS67</td>\n",
       "      <td>Cc1ncsc1-c1ccc([C@H](C)NC(=O)[C@@H]2C[C@@H](O)...</td>\n",
       "      <td>CCC=O</td>\n",
       "      <td>Cc1ncsc1-c1ccc([C@H](C)NC(=O)[C@@H]2C[C@@H](O)...</td>\n",
       "      <td>C[C@@H]1CN(c2ccc(-c3ccccc3F)cc2NC(=O)c2c[nH]c(...</td>\n",
       "      <td>Cc1ncsc1-c1ccc([C@H](C)NC(=O)[C@@H]2C[C@@H](O)...</td>\n",
       "      <td>C[C@@H]1CN(c2ccc(-c3cc([*:2])ccc3F)cc2NC(=O)c2...</td>\n",
       "      <td>WDR5</td>\n",
       "      <td>...</td>\n",
       "      <td>True</td>\n",
       "      <td>NaN</td>\n",
       "      <td>NaN</td>\n",
       "      <td>NaN</td>\n",
       "      <td>NaN</td>\n",
       "      <td>NaN</td>\n",
       "      <td>NaN</td>\n",
       "      <td>NaN</td>\n",
       "      <td>NaN</td>\n",
       "      <td>NaN</td>\n",
       "    </tr>\n",
       "    <tr>\n",
       "      <th>4</th>\n",
       "      <td>7JTP_difflinker_6</td>\n",
       "      <td>7JTP</td>\n",
       "      <td>MS67</td>\n",
       "      <td>CC(N=Cc1ccc(F)c(-c2ccc(N3C[C@H](C)N(C)[C@H](C)...</td>\n",
       "      <td>C=NCC</td>\n",
       "      <td>Cc1ncsc1-c1ccc([C@H](C)NC(=O)[C@@H]2C[C@@H](O)...</td>\n",
       "      <td>C[C@@H]1CN(c2ccc(-c3ccccc3F)cc2NC(=O)c2c[nH]c(...</td>\n",
       "      <td>Cc1ncsc1-c1ccc([C@H](C)NC(=O)[C@@H]2C[C@@H](O)...</td>\n",
       "      <td>C[C@@H]1CN(c2ccc(-c3cc([*:2])ccc3F)cc2NC(=O)c2...</td>\n",
       "      <td>WDR5</td>\n",
       "      <td>...</td>\n",
       "      <td>True</td>\n",
       "      <td>87.659153</td>\n",
       "      <td>0.0</td>\n",
       "      <td>17.0</td>\n",
       "      <td>&lt;rdkit.Chem.rdchem.Mol object at 0x7fe4195a4a00&gt;</td>\n",
       "      <td>selected_min_conf0__7JTP_difflinker_6.sdf</td>\n",
       "      <td>0.386168</td>\n",
       "      <td>0.480816</td>\n",
       "      <td>0.861511</td>\n",
       "      <td>-20.00690</td>\n",
       "    </tr>\n",
       "  </tbody>\n",
       "</table>\n",
       "<p>5 rows × 36 columns</p>\n",
       "</div>"
      ],
      "text/plain": [
       "                  ID reference lig_id  \\\n",
       "0  7JTP_difflinker_0      7JTP   MS67   \n",
       "1  7JTP_difflinker_1      7JTP   MS67   \n",
       "2  7JTP_difflinker_3      7JTP   MS67   \n",
       "3  7JTP_difflinker_4      7JTP   MS67   \n",
       "4  7JTP_difflinker_6      7JTP   MS67   \n",
       "\n",
       "                                       protac_smiles linker_smiles  \\\n",
       "0  Cc1ncsc1-c1ccc([C@H](C)NC(=O)[C@@H]2C[C@@H](O)...          CNCO   \n",
       "1  Cc1ncsc1-c1ccc([C@H](C)NC(=O)[C@@H]2C[C@@H](O)...         CNC=O   \n",
       "2  Cc1ncsc1-c1ccc([C@H](C)NC(=O)[C@@H]2C[C@@H](O)...          CCCO   \n",
       "3  Cc1ncsc1-c1ccc([C@H](C)NC(=O)[C@@H]2C[C@@H](O)...         CCC=O   \n",
       "4  CC(N=Cc1ccc(F)c(-c2ccc(N3C[C@H](C)N(C)[C@H](C)...         C=NCC   \n",
       "\n",
       "                                       anchor_smiles  \\\n",
       "0  Cc1ncsc1-c1ccc([C@H](C)NC(=O)[C@@H]2C[C@@H](O)...   \n",
       "1  Cc1ncsc1-c1ccc([C@H](C)NC(=O)[C@@H]2C[C@@H](O)...   \n",
       "2  Cc1ncsc1-c1ccc([C@H](C)NC(=O)[C@@H]2C[C@@H](O)...   \n",
       "3  Cc1ncsc1-c1ccc([C@H](C)NC(=O)[C@@H]2C[C@@H](O)...   \n",
       "4  Cc1ncsc1-c1ccc([C@H](C)NC(=O)[C@@H]2C[C@@H](O)...   \n",
       "\n",
       "                                      warhead_smiles  \\\n",
       "0  C[C@@H]1CN(c2ccc(-c3ccccc3F)cc2NC(=O)c2c[nH]c(...   \n",
       "1  C[C@@H]1CN(c2ccc(-c3ccccc3F)cc2NC(=O)c2c[nH]c(...   \n",
       "2  C[C@@H]1CN(c2ccc(-c3ccccc3F)cc2NC(=O)c2c[nH]c(...   \n",
       "3  C[C@@H]1CN(c2ccc(-c3ccccc3F)cc2NC(=O)c2c[nH]c(...   \n",
       "4  C[C@@H]1CN(c2ccc(-c3ccccc3F)cc2NC(=O)c2c[nH]c(...   \n",
       "\n",
       "                                           anchor_ev  \\\n",
       "0  Cc1ncsc1-c1ccc([C@H](C)NC(=O)[C@@H]2C[C@@H](O)...   \n",
       "1  Cc1ncsc1-c1ccc([C@H](C)NC(=O)[C@@H]2C[C@@H](O)...   \n",
       "2  Cc1ncsc1-c1ccc([C@H](C)NC(=O)[C@@H]2C[C@@H](O)...   \n",
       "3  Cc1ncsc1-c1ccc([C@H](C)NC(=O)[C@@H]2C[C@@H](O)...   \n",
       "4  Cc1ncsc1-c1ccc([C@H](C)NC(=O)[C@@H]2C[C@@H](O)...   \n",
       "\n",
       "                                          warhead_ev   POI  ... to_3d  \\\n",
       "0  C[C@@H]1CN(c2ccc(-c3cc([*:2])ccc3F)cc2NC(=O)c2...  WDR5  ...  True   \n",
       "1  C[C@@H]1CN(c2ccc(-c3cc([*:2])ccc3F)cc2NC(=O)c2...  WDR5  ...  True   \n",
       "2  C[C@@H]1CN(c2ccc(-c3cc([*:2])ccc3F)cc2NC(=O)c2...  WDR5  ...  True   \n",
       "3  C[C@@H]1CN(c2ccc(-c3cc([*:2])ccc3F)cc2NC(=O)c2...  WDR5  ...  True   \n",
       "4  C[C@@H]1CN(c2ccc(-c3cc([*:2])ccc3F)cc2NC(=O)c2...  WDR5  ...  True   \n",
       "\n",
       "   E_torsion clashes_cutoff  clashes_vdw  \\\n",
       "0  92.469123            0.0         20.0   \n",
       "1        NaN            NaN          NaN   \n",
       "2        NaN            NaN          NaN   \n",
       "3        NaN            NaN          NaN   \n",
       "4  87.659153            0.0         17.0   \n",
       "\n",
       "                                       embedded_mol  \\\n",
       "0  <rdkit.Chem.rdchem.Mol object at 0x7fe4195a4340>   \n",
       "1                                               NaN   \n",
       "2                                               NaN   \n",
       "3                                               NaN   \n",
       "4  <rdkit.Chem.rdchem.Mol object at 0x7fe4195a4a00>   \n",
       "\n",
       "                               embedded_path  rmsd_anc  rmsd_wrh  sc_rdkit  \\\n",
       "0  selected_min_conf0__7JTP_difflinker_0.sdf  0.484488  0.490085  0.813721   \n",
       "1                                        NaN       NaN       NaN       NaN   \n",
       "2                                        NaN       NaN       NaN       NaN   \n",
       "3                                        NaN       NaN       NaN       NaN   \n",
       "4  selected_min_conf0__7JTP_difflinker_6.sdf  0.386168  0.480816  0.861511   \n",
       "\n",
       "    vinardo  \n",
       "0 -18.57411  \n",
       "1       NaN  \n",
       "2       NaN  \n",
       "3       NaN  \n",
       "4 -20.00690  \n",
       "\n",
       "[5 rows x 36 columns]"
      ]
     },
     "execution_count": 26,
     "metadata": {},
     "output_type": "execute_result"
    }
   ],
   "source": [
    "df_smaller = pd.read_csv(os.path.join(gen_folder, f'{pdb}_sampled_{method}_valid_fil.csv'))\n",
    "df_smaller.head()"
   ]
  },
  {
   "cell_type": "code",
   "execution_count": 27,
   "metadata": {},
   "outputs": [
    {
     "data": {
      "text/plain": [
       "Index(['ID', 'reference', 'lig_id', 'protac_smiles', 'linker_smiles',\n",
       "       'anchor_smiles', 'warhead_smiles', 'anchor_ev', 'warhead_ev', 'POI',\n",
       "       'E3', 'gen_filename', 'frags', 'tanimoto', 'qed_linker', 'sa_linker',\n",
       "       'num_rings_linker', 'num_rot_bonds_linker', 'branched', 'PAINS',\n",
       "       'ring_arom', 'ori_E_torsion', 'ori_clashes_cutoff', 'ori_clashes_vdw',\n",
       "       'ori_gen_ptc_filename', 'ori_sc_rdkit', 'to_3d', 'E_torsion',\n",
       "       'clashes_cutoff', 'clashes_vdw', 'embedded_mol', 'embedded_path',\n",
       "       'rmsd_anc', 'rmsd_wrh', 'sc_rdkit', 'vinardo'],\n",
       "      dtype='object')"
      ]
     },
     "execution_count": 27,
     "metadata": {},
     "output_type": "execute_result"
    }
   ],
   "source": [
    "df_smaller.columns"
   ]
  },
  {
   "cell_type": "code",
   "execution_count": 28,
   "metadata": {},
   "outputs": [],
   "source": [
    "columns_replace = ['ori_E_torsion', 'ori_clashes_cutoff', 'ori_clashes_vdw',\n",
    "       'ori_gen_ptc_filename', 'ori_sc_rdkit']\n",
    "for col in columns_replace:\n",
    "    # store df_save values in df_smaller by  mapping ID\n",
    "       df_smaller[col] = df_smaller['ID'].map(df_save.set_index('ID')[col])"
   ]
  },
  {
   "cell_type": "code",
   "execution_count": 29,
   "metadata": {},
   "outputs": [],
   "source": [
    "### correct! add to both valid and valid_fil\n",
    "df_smaller.to_csv(os.path.join(gen_folder, f'{pdb}_sampled_{method}_valid_fil.csv'), index=False)"
   ]
  },
  {
   "cell_type": "code",
   "execution_count": null,
   "metadata": {},
   "outputs": [],
   "source": []
  }
 ],
 "metadata": {
  "kernelspec": {
   "display_name": "rn_env",
   "language": "python",
   "name": "python3"
  },
  "language_info": {
   "codemirror_mode": {
    "name": "ipython",
    "version": 3
   },
   "file_extension": ".py",
   "mimetype": "text/x-python",
   "name": "python",
   "nbconvert_exporter": "python",
   "pygments_lexer": "ipython3",
   "version": "3.9.7"
  },
  "orig_nbformat": 4,
  "vscode": {
   "interpreter": {
    "hash": "322e2706a3b065ade57181190dee4d3fc174f87cda022382b010766df70aa18b"
   }
  }
 },
 "nbformat": 4,
 "nbformat_minor": 2
}
