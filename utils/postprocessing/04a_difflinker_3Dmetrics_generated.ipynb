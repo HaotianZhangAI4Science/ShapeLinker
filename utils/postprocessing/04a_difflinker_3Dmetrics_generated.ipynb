{
 "cells": [
  {
   "attachments": {},
   "cell_type": "markdown",
   "metadata": {},
   "source": [
    "# Get 3D metrics for the DiffLinker generated poses"
   ]
  },
  {
   "cell_type": "code",
   "execution_count": null,
   "metadata": {},
   "outputs": [],
   "source": [
    "import os\n",
    "import glob\n",
    "import sys\n",
    "from typing import Union, Dict, Tuple, Optional, List\n",
    "\n",
    "import numpy as np\n",
    "import pandas as pd\n",
    "from rdkit import Chem, RDLogger\n",
    "from rdkit.Chem.MolStandardize import rdMolStandardize\n",
    "import copy\n",
    "\n",
    "sys.path.append(os.path.dirname(os.path.dirname(os.getcwd())))\n",
    "from utils.calc_sc_rdkit import calc_SC_RDKit_score\n",
    "from utils.metrics_3d import lig_protein_clash_dist, lig_protein_clash_vdw, calc_torsion_energy, mcs_rmsd\n",
    "from utils.chem_transforms import remove_atom_indices"
   ]
  },
  {
   "cell_type": "code",
   "execution_count": null,
   "metadata": {},
   "outputs": [],
   "source": [
    "from tqdm._tqdm_notebook import tqdm_notebook\n",
    "tqdm_notebook.pandas()"
   ]
  },
  {
   "cell_type": "code",
   "execution_count": null,
   "metadata": {},
   "outputs": [],
   "source": [
    "lg = RDLogger.logger()\n",
    "lg.setLevel(RDLogger.CRITICAL)"
   ]
  },
  {
   "cell_type": "code",
   "execution_count": null,
   "metadata": {},
   "outputs": [],
   "source": [
    "pdb = '7JTP'\n",
    "method = 'difflinker'"
   ]
  },
  {
   "attachments": {},
   "cell_type": "markdown",
   "metadata": {},
   "source": [
    "## Load Data"
   ]
  },
  {
   "attachments": {},
   "cell_type": "markdown",
   "metadata": {},
   "source": [
    "### Generated data"
   ]
  },
  {
   "cell_type": "code",
   "execution_count": null,
   "metadata": {},
   "outputs": [],
   "source": [
    "gen_folder = 'data/generated'\n",
    "filepath = glob.glob(os.path.join(gen_folder, f'{pdb}_sampled_{method}_valid.csv'))\n",
    "print(filepath)\n",
    "df = pd.read_csv(filepath[0])\n",
    "df.head()"
   ]
  },
  {
   "cell_type": "code",
   "execution_count": null,
   "metadata": {},
   "outputs": [],
   "source": [
    "len(df)"
   ]
  },
  {
   "attachments": {},
   "cell_type": "markdown",
   "metadata": {},
   "source": [
    "#### Add generated pose to the data"
   ]
  },
  {
   "cell_type": "code",
   "execution_count": null,
   "metadata": {},
   "outputs": [],
   "source": [
    "gen_pose_path = os.path.join(os.path.expanduser('~'), 'Documents/data/protacs/preprint_data/difflinker_results', pdb)"
   ]
  },
  {
   "cell_type": "code",
   "execution_count": null,
   "metadata": {},
   "outputs": [],
   "source": [
    "def get_gen_confs(filepath: str, smi: str) -> pd.Series:\n",
    "    mol_dirty = Chem.SDMolSupplier(os.path.join(gen_pose_path, filepath))[0]\n",
    "    largest_Fragment = rdMolStandardize.LargestFragmentChooser()\n",
    "    mol = largest_Fragment.choose(mol_dirty)\n",
    "    mol_smi = Chem.MolFromSmiles(smi)\n",
    "    assert mol_smi.HasSubstructMatch(mol), f'{smi} does not match {filepath}'\n",
    "    return pd.Series({'gen_mol': mol}) "
   ]
  },
  {
   "cell_type": "code",
   "execution_count": null,
   "metadata": {},
   "outputs": [],
   "source": [
    "# store embedded conformers and vinardo scores in dataframe using apply\n",
    "df[['gen_mol']] = df.progress_apply(lambda x: get_gen_confs(x['gen_filename'], x['protac_smiles']), axis=1)"
   ]
  },
  {
   "attachments": {},
   "cell_type": "markdown",
   "metadata": {},
   "source": [
    "### Xtal references"
   ]
  },
  {
   "cell_type": "code",
   "execution_count": null,
   "metadata": {},
   "outputs": [],
   "source": [
    "xtal_folder = 'data/xtal_poses'\n",
    "pdb_folder = os.path.join(xtal_folder, pdb, f'{pdb}_fragments')\n",
    "xtal_protein_path = os.path.join(pdb_folder, f'{pdb}_protein.pdb')\n",
    "# xtal_ext_linker = Chem.MolFromMolFile(os.path.join(pdb_folder,f'{pdb}_linker_extended.sdf'))\n",
    "xtal_protac = Chem.MolFromMolFile(os.path.join(pdb_folder, f'{pdb}_protac.sdf'))\n",
    "# xtal_linker = Chem.MolFromMolFile(os.path.join(pdb_folder, f'{pdb}_linker.sdf'))\n",
    "xtal_anchor = Chem.MolFromMolFile(os.path.join(pdb_folder, f'{pdb}_anchor.sdf'))\n",
    "xtal_warhead = Chem.MolFromMolFile(os.path.join(pdb_folder, f'{pdb}_warhead.sdf'))"
   ]
  },
  {
   "attachments": {},
   "cell_type": "markdown",
   "metadata": {},
   "source": [
    "## Get 3D metrics"
   ]
  },
  {
   "cell_type": "code",
   "execution_count": null,
   "metadata": {},
   "outputs": [],
   "source": [
    "def gen_protac_conf_new(gen_filepath, protac_smiles, xtal_anchor, xtal_warhead):\n",
    "    filepath = os.path.join(gen_pose_path, gen_filepath)\n",
    "    mol_protac = Chem.MolFromSmiles(protac_smiles)\n",
    "    mol_gen = Chem.SDMolSupplier(filepath)[0]\n",
    "    largest_Fragment = rdMolStandardize.LargestFragmentChooser()\n",
    "    mol_gen = largest_Fragment.choose(mol_gen)\n",
    "    mol_gen_smi = Chem.MolToSmiles(mol_gen, isomericSmiles=False)\n",
    "    protac_smiles_flat = Chem.MolToSmiles(mol_protac, isomericSmiles=False)\n",
    "    if mol_gen_smi != protac_smiles_flat:\n",
    "        xtal_anc_copy = copy.deepcopy(xtal_anchor)\n",
    "        xtal_wrh_copy = copy.deepcopy(xtal_warhead)\n",
    "        mol_gen_coords = []\n",
    "        for i, atom in enumerate(mol_gen.GetAtoms()):\n",
    "            atom.SetAtomMapNum(i+1)\n",
    "            mol_gen_coords.append(mol_gen.GetConformer().GetAtomPosition(i))\n",
    "        dict_gen = {a.GetAtomMapNum(): a.GetIdx() for a in mol_gen.GetAtoms()}\n",
    "        xtal_anc_cp_coords = []\n",
    "        for i, atom in enumerate(xtal_anc_copy.GetAtoms()):\n",
    "            atom.SetAtomMapNum(i+100)\n",
    "            xtal_anc_cp_coords.append(xtal_anc_copy.GetConformer().GetAtomPosition(i))\n",
    "        dict_anc = {a.GetAtomMapNum(): a.GetIdx() for a in xtal_anc_copy.GetAtoms()}\n",
    "        xtal_wrh_cp_coords = []\n",
    "        for i, atom in enumerate(xtal_wrh_copy.GetAtoms()):\n",
    "            atom.SetAtomMapNum(i+200)\n",
    "            xtal_wrh_cp_coords.append(xtal_wrh_copy.GetConformer().GetAtomPosition(i))\n",
    "        dict_wrh = {a.GetAtomMapNum(): a.GetIdx() for a in xtal_wrh_copy.GetAtoms()}\n",
    "        # check if matching coordinates between xtal and gen\n",
    "        overlap_mapNum_anc = []\n",
    "        dict_gen2anc = {}\n",
    "        for i, coord in enumerate(mol_gen_coords):\n",
    "            for j, anc_coord in enumerate(xtal_anc_cp_coords):\n",
    "                if coord.x == anc_coord.x and coord.y == anc_coord.y and coord.z == anc_coord.z:\n",
    "                    overlap_mapNum_anc.append(mol_gen.GetAtomWithIdx(i).GetAtomMapNum())\n",
    "                    dict_gen2anc[mol_gen.GetAtomWithIdx(i).GetAtomMapNum()] = xtal_anc_copy.GetAtomWithIdx(j).GetAtomMapNum()\n",
    "        overlap_mapNum_wrh = []\n",
    "        dict_gen2wrh = {}\n",
    "        for i, coord in enumerate(mol_gen_coords):\n",
    "            for j, wrh_coord in enumerate(xtal_wrh_cp_coords):\n",
    "                if coord.x == wrh_coord.x and coord.y == wrh_coord.y and coord.z == wrh_coord.z:\n",
    "                    overlap_mapNum_wrh.append(mol_gen.GetAtomWithIdx(i).GetAtomMapNum())\n",
    "                    dict_gen2wrh[mol_gen.GetAtomWithIdx(i).GetAtomMapNum()] = xtal_wrh_copy.GetAtomWithIdx(j).GetAtomMapNum()\n",
    "        # find the bond between overlap and not overlap\n",
    "        map_in_anc = None\n",
    "        map_in_wrh = None\n",
    "        for bond in mol_gen.GetBonds():\n",
    "            if bond.GetBeginAtom().GetAtomMapNum() in overlap_mapNum_anc and bond.GetEndAtom().GetAtomMapNum() not in overlap_mapNum_anc:\n",
    "                map_in_anc = bond.GetBeginAtom().GetAtomMapNum()\n",
    "                map_not_in_anc = bond.GetEndAtom().GetAtomMapNum()\n",
    "                break\n",
    "            if bond.GetEndAtom().GetAtomMapNum() in overlap_mapNum_anc and bond.GetBeginAtom().GetAtomMapNum() not in overlap_mapNum_anc:\n",
    "                map_in_anc = bond.GetEndAtom().GetAtomMapNum()\n",
    "                map_not_in_anc = bond.GetBeginAtom().GetAtomMapNum()\n",
    "                break\n",
    "        for bond in mol_gen.GetBonds():\n",
    "            if bond.GetBeginAtom().GetAtomMapNum() in overlap_mapNum_wrh and bond.GetEndAtom().GetAtomMapNum() not in overlap_mapNum_wrh:\n",
    "                map_in_wrh = bond.GetBeginAtom().GetAtomMapNum()\n",
    "                map_not_in_wrh = bond.GetEndAtom().GetAtomMapNum()\n",
    "                break\n",
    "            if bond.GetEndAtom().GetAtomMapNum() in overlap_mapNum_wrh and bond.GetBeginAtom().GetAtomMapNum() not in overlap_mapNum_wrh:\n",
    "                map_in_wrh = bond.GetEndAtom().GetAtomMapNum()\n",
    "                map_not_in_wrh = bond.GetBeginAtom().GetAtomMapNum()\n",
    "                break\n",
    "        if map_in_anc is None or map_in_wrh is None:\n",
    "            return pd.Series({'gen_mol': None, 'ori_gen_ptc_filename': None})  \n",
    "        # remove atoms of overlap in gen\n",
    "        wrh_ind_toremove = [dict_gen[x] for x in overlap_mapNum_wrh]\n",
    "        # sort in reverse\n",
    "        wrh_ind_toremove.sort(reverse=True)\n",
    "        mol_gen_adapt = remove_atom_indices(mol_gen, wrh_ind_toremove)\n",
    "        dict_gen = {a.GetAtomMapNum(): a.GetIdx() for a in mol_gen_adapt.GetAtoms()}\n",
    "        anc_ind_toremove = [dict_gen[x] for x in overlap_mapNum_anc]\n",
    "        # sort in reverse\n",
    "        anc_ind_toremove.sort(reverse=True)\n",
    "        mol_gen_adapt = remove_atom_indices(mol_gen_adapt, anc_ind_toremove)\n",
    "        # remove atom if hydrogen at attechment point in xtal\n",
    "        index_attach = dict_anc[dict_gen2anc[map_in_anc]]\n",
    "        # get neighbors for index_attach\n",
    "        xtal_anc_copy = Chem.AddHs(xtal_anc_copy)\n",
    "        nbrs = xtal_anc_copy.GetAtomWithIdx(index_attach).GetNeighbors()\n",
    "        for nbr in nbrs:\n",
    "            if nbr.GetSymbol() == 'H':\n",
    "                xtal_anc_copy = remove_atom_indices(xtal_anc_copy, [nbr.GetIdx()])\n",
    "                break\n",
    "        index_attach = dict_wrh[dict_gen2wrh[map_in_wrh]]\n",
    "        # get neighbors for index_attach\n",
    "        xtal_wrh_copy = Chem.AddHs(xtal_wrh_copy)\n",
    "        nbrs = xtal_wrh_copy.GetAtomWithIdx(index_attach).GetNeighbors()\n",
    "        for nbr in nbrs:\n",
    "            if nbr.GetSymbol() == 'H':\n",
    "                xtal_wrh_copy = remove_atom_indices(xtal_wrh_copy, [nbr.GetIdx()])\n",
    "                break\n",
    "        combo_gen_anc = Chem.CombineMols(mol_gen_adapt, xtal_anc_copy)\n",
    "        dict_combo = {a.GetAtomMapNum(): a.GetIdx() for a in combo_gen_anc.GetAtoms()}\n",
    "        combo_gen_anc_edit = Chem.EditableMol(combo_gen_anc)\n",
    "        combo_gen_anc_edit.AddBond(dict_combo[map_not_in_anc], dict_combo[dict_gen2anc[map_in_anc]], Chem.BondType.SINGLE)\n",
    "        combo_gen_anc = combo_gen_anc_edit.GetMol()\n",
    "        combo_all = Chem.CombineMols(combo_gen_anc, xtal_wrh_copy)\n",
    "        dict_combo = {a.GetAtomMapNum(): a.GetIdx() for a in combo_all.GetAtoms()}\n",
    "        combo_all_edit = Chem.EditableMol(combo_all)\n",
    "        combo_all_edit.AddBond(dict_combo[map_not_in_wrh], dict_combo[dict_gen2wrh[map_in_wrh]], Chem.BondType.SINGLE)\n",
    "        combo_all = combo_all_edit.GetMol()\n",
    "        combo_all =Chem.RemoveHs(combo_all)\n",
    "        for a in combo_all.GetAtoms():\n",
    "            a.SetAtomMapNum(0)\n",
    "        flat_combo = Chem.MolToSmiles(combo_all, isomericSmiles=False)\n",
    "        if flat_combo != protac_smiles_flat:\n",
    "            print('ERROR: flat_combo != protac_smiles_flat')\n",
    "            return pd.Series({'gen_mol': None, 'ori_gen_ptc_filename': None})  \n",
    "        gen_filename = gen_filepath.split('.')[0]\n",
    "        new_filepath = os.path.join(gen_pose_path, f'{gen_filename}_expanded.sdf')    \n",
    "        Chem.MolToMolFile(combo_all, new_filepath)\n",
    "        return pd.Series({'gen_mol': combo_all, 'ori_gen_ptc_filename': new_filepath})\n"
   ]
  },
  {
   "cell_type": "code",
   "execution_count": null,
   "metadata": {},
   "outputs": [],
   "source": [
    "df[['gen_mol', 'ori_gen_ptc_filename']] = df.progress_apply(lambda x: gen_protac_conf_new(x['gen_filename'], x['protac_smiles'], xtal_anchor, xtal_warhead), axis=1)"
   ]
  },
  {
   "cell_type": "code",
   "execution_count": null,
   "metadata": {},
   "outputs": [],
   "source": [
    "df_fil = df[~df.ori_gen_ptc_filename.isnull()]\n",
    "len(df_fil)"
   ]
  },
  {
   "cell_type": "code",
   "execution_count": null,
   "metadata": {},
   "outputs": [],
   "source": [
    "# percent failed\n",
    "(len(df)-len(df_fil))/len(df)*100"
   ]
  },
  {
   "attachments": {},
   "cell_type": "markdown",
   "metadata": {},
   "source": [
    "### SC RDKit"
   ]
  },
  {
   "cell_type": "code",
   "execution_count": null,
   "metadata": {},
   "outputs": [],
   "source": [
    "df_fil['ori_sc_rdkit'] = df_fil.apply(lambda x: calc_SC_RDKit_score(x.gen_mol, xtal_protac), axis=1)\n",
    "print(df_fil['ori_sc_rdkit'].describe())"
   ]
  },
  {
   "cell_type": "code",
   "execution_count": null,
   "metadata": {},
   "outputs": [],
   "source": [
    "print(f'fraction of conformers with SC_RDKIT > 0.7: {(len(df_fil[df_fil[\"ori_sc_rdkit\"] > 0.7])/len(df_fil)*100):.4f}')\n",
    "print(f'fraction of conformers with SC_RDKIT > 0.8: {(len(df_fil[df_fil[\"ori_sc_rdkit\"] > 0.8])/len(df_fil)*100):.4f}')\n",
    "print(f'fraction of conformers with SC_RDKIT > 0.9: {(len(df_fil[df_fil[\"ori_sc_rdkit\"] > 0.9])/len(df_fil)*100):.4f}')\n",
    "print(f'average SC_RDKIT: {df_fil[\"ori_sc_rdkit\"].mean(skipna=True):.4f}')"
   ]
  },
  {
   "attachments": {},
   "cell_type": "markdown",
   "metadata": {},
   "source": [
    "### Clashes with protein"
   ]
  },
  {
   "cell_type": "code",
   "execution_count": null,
   "metadata": {},
   "outputs": [],
   "source": [
    "df_fil['ori_clashes_cutoff'] = df_fil.apply(lambda x: lig_protein_clash_dist(xtal_protein_path, os.path.join(gen_pose_path, x.ori_gen_ptc_filename.split('/')[-1])), axis=1)\n",
    "df_fil['ori_clashes_vdw'] = df_fil.apply(lambda x: lig_protein_clash_vdw(xtal_protein_path, os.path.join(gen_pose_path, x.ori_gen_ptc_filename.split('/')[-1])), axis=1)\n",
    "print(f'average clashes_cutoff: {df_fil[\"ori_clashes_cutoff\"].mean(skipna=True):.4f}')\n",
    "print(f'average clashes_vdw: {df_fil[\"ori_clashes_vdw\"].mean(skipna=True):.4f}')"
   ]
  },
  {
   "attachments": {},
   "cell_type": "markdown",
   "metadata": {},
   "source": [
    "### Torsion energy"
   ]
  },
  {
   "cell_type": "code",
   "execution_count": null,
   "metadata": {},
   "outputs": [],
   "source": [
    "df_fil['ori_E_torsion'] = df_fil.apply(lambda x: calc_torsion_energy(os.path.join(gen_pose_path, x.ori_gen_ptc_filename.split('/')[-1])), axis=1)\n",
    "print(f'average E_torsion: {df_fil[\"ori_E_torsion\"].mean(skipna=True):.4f}')"
   ]
  },
  {
   "cell_type": "code",
   "execution_count": null,
   "metadata": {},
   "outputs": [],
   "source": [
    "len(df_fil)"
   ]
  },
  {
   "cell_type": "code",
   "execution_count": null,
   "metadata": {},
   "outputs": [],
   "source": [
    "df_fil.columns, df.columns"
   ]
  },
  {
   "cell_type": "code",
   "execution_count": null,
   "metadata": {},
   "outputs": [],
   "source": [
    "df_loss = df[df.ori_gen_ptc_filename.isnull()]\n",
    "len(df_loss)"
   ]
  },
  {
   "cell_type": "code",
   "execution_count": null,
   "metadata": {},
   "outputs": [],
   "source": [
    "# concat\n",
    "df_save = pd.concat([df_fil, df_loss], axis=0)\n",
    "df_save.reset_index(drop=True, inplace=True)\n",
    "df_save.head()"
   ]
  },
  {
   "cell_type": "code",
   "execution_count": null,
   "metadata": {},
   "outputs": [],
   "source": [
    "# drop gen_mol column\n",
    "df_save = df_save.drop(columns=['gen_mol'])\n",
    "df_save.to_csv(os.path.join(gen_folder, f'{pdb}_sampled_{method}_valid.csv'), index=False)"
   ]
  },
  {
   "attachments": {},
   "cell_type": "markdown",
   "metadata": {},
   "source": [
    "#### reinsert corrected value to filtered df"
   ]
  },
  {
   "cell_type": "code",
   "execution_count": null,
   "metadata": {},
   "outputs": [],
   "source": [
    "len(df_save)"
   ]
  },
  {
   "cell_type": "code",
   "execution_count": null,
   "metadata": {},
   "outputs": [],
   "source": [
    "df_smaller = pd.read_csv(os.path.join(gen_folder, f'{pdb}_sampled_{method}_valid_fil.csv'))\n",
    "df_smaller.head()"
   ]
  },
  {
   "cell_type": "code",
   "execution_count": null,
   "metadata": {},
   "outputs": [],
   "source": [
    "df_smaller.columns"
   ]
  },
  {
   "cell_type": "code",
   "execution_count": null,
   "metadata": {},
   "outputs": [],
   "source": [
    "columns_replace = ['ori_E_torsion', 'ori_clashes_cutoff', 'ori_clashes_vdw',\n",
    "       'ori_gen_ptc_filename', 'ori_sc_rdkit']\n",
    "for col in columns_replace:\n",
    "    # store df_save values in df_smaller by  mapping ID\n",
    "       df_smaller[col] = df_smaller['ID'].map(df_save.set_index('ID')[col])"
   ]
  },
  {
   "cell_type": "code",
   "execution_count": null,
   "metadata": {},
   "outputs": [],
   "source": [
    "### correct! add to both valid and valid_fil\n",
    "df_smaller.to_csv(os.path.join(gen_folder, f'{pdb}_sampled_{method}_valid_fil.csv'), index=False)"
   ]
  },
  {
   "cell_type": "code",
   "execution_count": null,
   "metadata": {},
   "outputs": [],
   "source": []
  }
 ],
 "metadata": {
  "kernelspec": {
   "display_name": "rn_env",
   "language": "python",
   "name": "python3"
  },
  "language_info": {
   "codemirror_mode": {
    "name": "ipython",
    "version": 3
   },
   "file_extension": ".py",
   "mimetype": "text/x-python",
   "name": "python",
   "nbconvert_exporter": "python",
   "pygments_lexer": "ipython3",
   "version": "3.9.7"
  },
  "orig_nbformat": 4,
  "vscode": {
   "interpreter": {
    "hash": "322e2706a3b065ade57181190dee4d3fc174f87cda022382b010766df70aa18b"
   }
  }
 },
 "nbformat": 4,
 "nbformat_minor": 2
}
