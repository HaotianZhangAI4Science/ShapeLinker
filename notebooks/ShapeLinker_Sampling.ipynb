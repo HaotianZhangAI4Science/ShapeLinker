{
 "cells": [
  {
   "attachments": {},
   "cell_type": "markdown",
   "metadata": {},
   "source": [
    "# `ShapeLinker`: Sampling mode\n",
    "Sample from a trained ShapeLinker model. This notebook is adapted from [ReinventCommunity](https://github.com/MolecularAI/ReinventCommunity)."
   ]
  },
  {
   "cell_type": "code",
   "execution_count": 9,
   "metadata": {},
   "outputs": [],
   "source": [
    "# load dependencies\n",
    "import os\n",
    "import re\n",
    "import json\n",
    "import tempfile\n",
    "\n",
    "root = os.path.dirname(os.getcwd())\n",
    "# --------- change these path variables as required\n",
    "reinvent_dir = os.path.join(root, 'Reinvent')\n",
    "\n",
    "reinvent_env = os.path.expanduser(\"/opt/conda/envs/shapelinker\")\n",
    "output_dir = os.path.join(root, \"results/sampling/5T35_test\")\n",
    "data_folder = os.path.join(root, 'utils/data')\n",
    "agents_folder = os.path.join(root, 'models/agents')\n",
    "\n",
    "# if required, generate a folder to store the results\n",
    "os.makedirs(output_dir, exist_ok=True)"
   ]
  },
  {
   "cell_type": "markdown",
   "metadata": {},
   "source": [
    "## Setting up the configuration\n",
    "`REINVENT` has an entry point that loads a specified `JSON` file on startup. `JSON` is a low-level data format that allows to specify a fairly large number of parameters in a cascading fashion very quickly. The parameters are structured into *blocks* which can in turn contain blocks or simple values, such as *True* or *False*, strings and numbers. In this tutorial, we will go through the different blocks step-by-step, explaining their purpose and potential values for given parameters. Note, that while we will write out the configuration as a `JSON` file in the end, in `python` we handle the same information as a simple `dict`."
   ]
  },
  {
   "cell_type": "code",
   "execution_count": 10,
   "metadata": {},
   "outputs": [],
   "source": [
    "# initialize the dictionary\n",
    "configuration = {\n",
    "    \"version\": 3,                          # we are going to use REINVENT's newest release\n",
    "    \"run_type\": \"sampling\",                # other run types: \"scoring\", \"validation\",\n",
    "                                           #                  \"transfer_learning\",\n",
    "                                           #                  \"reinforcement_learning\" and\n",
    "                                           #                  \"create_model\"\n",
    "    \"model_type\": \"link_invent\"\n",
    "}"
   ]
  },
  {
   "cell_type": "code",
   "execution_count": 11,
   "metadata": {},
   "outputs": [],
   "source": [
    "# add block to specify whether to run locally or not and\n",
    "# where to store the results and logging\n",
    "configuration[\"logging\"] = {\n",
    "    \"sender\": \"http://127.0.0.1\",          # only relevant if \"recipient\" is set to \"remote\"\n",
    "    \"recipient\": \"local\",                  # either to local logging or use a remote REST-interface\n",
    "    \"logging_path\": os.path.join(output_dir, \"progress.log\"), # where the run's output is stored\n",
    "    \"job_name\": \"Sampling prior\",       # set an arbitrary job name for identification\n",
    "    \"job_id\": \"N/A\"                       # only relevant if \"recipient\" is set to \"remote\"\n",
    "}"
   ]
  },
  {
   "attachments": {},
   "cell_type": "markdown",
   "metadata": {},
   "source": [
    "We will need to specify a path to an agent (parameter `model_path`), which can be a prior or focused agent."
   ]
  },
  {
   "cell_type": "code",
   "execution_count": 12,
   "metadata": {},
   "outputs": [],
   "source": [
    "# set up the file path, where the generated molecules are\n",
    "# deposited (as SMILES)\n",
    "output_SMILES_path = os.path.join(output_dir, \"sampled\", \"sampled.csv\")\n",
    "\n",
    "# add the \"parameters\" block\n",
    "configuration[\"parameters\"] = {\n",
    "    \"model_path\": os.path.join(agents_folder, 'Agent.shapelinker_5T35.ckpt'),\n",
    "    \"output_path\": output_SMILES_path,       # output path where SMILES will be deposited (as csv)\n",
    "    \"num_samples\": 10000,                             # specifies, how many molecules are to be sampled per warhead pair\n",
    "    \"batch_size\": 32,                              # internal batch size; should match the one used\n",
    "                                                    # during training\n",
    "    \"with_likelihood\": True     ,                   # also provide the log-likelihood\n",
    "    \"temperature\": 1.5,                             # temperature for sampling\n",
    "    \"randomize_warheads\": True,                    # randomize the warheads\n",
    "    \"warheads\": ['*C(=O)N[C@H](C(=O)N1C[C@H](O)C[C@H]1C(=O)NCc1ccc(C2=C(C)NCS2)cc1)C(C)(C)C|*NC(=O)C[C@@H]1N=C(c2ccc(Cl)cc2)c2c(sc(C)c2C)-n2c(C)nnc21'], # warheads to use\n",
    "    }"
   ]
  },
  {
   "cell_type": "code",
   "execution_count": 13,
   "metadata": {},
   "outputs": [],
   "source": [
    "# write the configuration file to the disc\n",
    "configuration_JSON_path = os.path.join(output_dir, \"sampling_config.json\")\n",
    "with open(configuration_JSON_path, 'w') as f:\n",
    "    json.dump(configuration, f, indent=4, sort_keys=True)"
   ]
  },
  {
   "attachments": {},
   "cell_type": "markdown",
   "metadata": {},
   "source": [
    "## Run\n",
    "Now it is time to execute the model locally. As we will not update any weights, execution should be very fast. The result will be a `SMILES` file in the `sampled` directory specified.\n",
    "\n",
    "The command-line execution looks like this:\n",
    "```\n",
    "# activate envionment\n",
    "conda activate shapelinker\n",
    "\n",
    "# execute file\n",
    "python <your_path>/input.py <config>.json\n",
    "```"
   ]
  },
  {
   "cell_type": "code",
   "execution_count": 14,
   "metadata": {},
   "outputs": [],
   "source": [
    "%%capture captured_err_stream --no-stderr\n",
    "\n",
    "# execute from the command-line\n",
    "!{reinvent_env}/bin/python {reinvent_dir}/input.py {configuration_JSON_path}"
   ]
  },
  {
   "cell_type": "code",
   "execution_count": 15,
   "metadata": {},
   "outputs": [],
   "source": [
    "# print the output to a file, just to have it for documentation\n",
    "with open(os.path.join(output_dir, \"run.err\"), 'w') as file:\n",
    "    file.write(captured_err_stream.stdout)"
   ]
  },
  {
   "cell_type": "code",
   "execution_count": 16,
   "metadata": {},
   "outputs": [
    {
     "name": "stdout",
     "output_type": "stream",
     "text": [
      "molecules,input,linker,likelihood\n",
      "CC1=C(c2ccc(CNC(=O)C3CC(O)CN3C(=O)C(NC(=O)NC(=O)c3ccc(NS(=O)(=O)COc4cccc(S(=O)(=O)Nc5ccc(COC(=O)NC(=O)CC6N=C(c7ccc(Cl)cc7)c7c(sc(C)c7C)-n7c(C)nnc76)cc5)c4)cc3)C(C)(C)C)cc2)SCN1,C1(c2ccc(CNC(=O)C3CC(O)CN3C(=O)C(C(C)(C)C)NC(*)=O)cc2)=C(C)NCS1|O=C(N*)CC1c2n(c(C)nn2)-c2sc(C)c(C)c2C(c2ccc(Cl)cc2)=N1,O(CS(=O)(=O)Nc1ccc(C(N[*])=O)cc1)c1cccc(S(Nc2ccc(COC(=O)[*])cc2)(=O)=O)c1,40.88142776489258\n",
      "CC1=C(c2ccc(CNC(=O)C3CC(O)CN3C(=O)C(NC(=O)OS(=O)(=O)Oc3ccc(S(=O)(=O)c4cn(CC(=O)NC(=O)CC5N=C(c6ccc(Cl)cc6)c6c(sc(C)c6C)-n6c(C)nnc65)nc4S(=O)(=O)C4(C)CCC4)cc3)C(C)(C)C)cc2)SCN1,C1(c2ccc(CNC(=O)C3CC(O)CN3C(=O)C(C(C)(C)C)NC(*)=O)cc2)=C(C)NCS1|O=C(N*)CC1c2n(c(C)nn2)-c2sc(C)c(C)c2C(c2ccc(Cl)cc2)=N1,O(S(O[*])(=O)=O)c1ccc(S(=O)(=O)c2cn(CC(=O)[*])nc2S(=O)(=O)C2(C)CCC2)cc1,37.759666442871094\n",
      "CC1=C(c2ccc(CNC(=O)C3CC(O)CN3C(=O)C(NC(=O)NS(=O)(=O)OCCSCCSCCSCCNS(=O)(=O)c3cccc(S(=O)(=O)NC(=O)CC4N=C(c5ccc(Cl)cc5)c5c(sc(C)c5C)-n5c(C)nnc54)c3)C(C)(C)C)cc2)SCN1,C1(c2ccc(CNC(=O)C3CC(O)CN3C(=O)C(C(C)(C)C)NC(*)=O)cc2)=C(C)NCS1|O=C(N*)CC1c2n(c(C)nn2)-c2sc(C)c(C)c2C(c2ccc(Cl)cc2)=N1,C(CSCCSCCOS(N[*])(=O)=O)SCCNS(=O)(c1cccc(S(=O)([*])=O)c1)=O,32.21327590942383\n",
      "INVALID,C1(c2ccc(CNC(=O)C3CC(O)CN3C(=O)C(C(C)(C)C)NC(*)=O)cc2)=C(C)NCS1|O=C(N*)CC1c2n(c(C)nn2)-c2sc(C)c(C)c2C(c2ccc(Cl)cc2)=N1,S(OCCNS(c1cc(S(=)(N[*])=O)ccc1Sc1ccccc1)(=O)=O)(=O)([*])=O,26.99222755432129\n",
      "CC1=C(c2ccc(CNC(=O)C3CC(O)CN3C(=O)C(NC(=O)Oc3ccc(S(=O)(=O)NC(=O)CC4N=C(c5ccc(Cl)cc5)c5c(sc(C)c5C)-n5c(C)nnc54)cc3)C(C)(C)C)cc2)SCN1,C1(c2ccc(CNC(=O)C3CC(O)CN3C(=O)C(C(C)(C)C)NC(*)=O)cc2)=C(C)NCS1|O=C(N*)CC1c2n(c(C)nn2)-c2sc(C)c(C)c2C(c2ccc(Cl)cc2)=N1,[*]Oc1ccc(S(=O)(=O)[*])cc1,7.951160907745361\n",
      "INVALID,C1(c2ccc(CNC(=O)C3CC(O)CN3C(=O)C(C(C)(C)C)NC(*)=O)cc2)=C(C)NCS1|O=C(N*)CC1c2n(c(C)nn2)-c2sc(C)c(C)c2C(c2ccc(Cl)cc2)=N1,S(SCCOCCOCC)SSCSc1c(SSc3c(SC)c(NCCO[*])nc(S(C)(C)(=O)=O)c3C([*])=O)cccc1,52.124778747558594\n",
      "CC1=C(c2ccc(CNC(=O)C3CC(O)CN3C(=O)C(NC(=O)OCOCNS(=O)(=O)c3ccc(S(=O)(=O)NC(=S)NC(=O)CC4N=C(c5ccc(Cl)cc5)c5c(sc(C)c5C)-n5c(C)nnc54)cc3)C(C)(C)C)cc2)SCN1,C1(c2ccc(CNC(=O)C3CC(O)CN3C(=O)C(C(C)(C)C)NC(*)=O)cc2)=C(C)NCS1|O=C(N*)CC1c2n(c(C)nn2)-c2sc(C)c(C)c2C(c2ccc(Cl)cc2)=N1,N(COCO[*])S(c1ccc(S(NC(=S)[*])(=O)=O)cc1)(=O)=O,25.452075958251953\n",
      "CSc1ccc(S(=O)(=O)NC(=O)CC2N=C(c3ccc(Cl)cc3)c3c(sc(C)c3C)-n3c(C)nnc32)cc1S(=O)(=O)NN(c1ccccc1)S(=O)(=O)c1ccc(S(=O)(=O)NC(=O)NC(C(=O)N2CC(O)CC2C(=O)NCc2ccc(C3=C(C)NCS3)cc2)C(C)(C)C)cc1,C1(c2ccc(CNC(=O)C3CC(O)CN3C(=O)C(C(C)(C)C)NC(*)=O)cc2)=C(C)NCS1|O=C(N*)CC1c2n(c(C)nn2)-c2sc(C)c(C)c2C(c2ccc(Cl)cc2)=N1,N(N(S(c1ccc(S(=O)(N[*])=O)cc1)(=O)=O)c1ccccc1)S(c1c(SC)ccc(S(=O)(=O)[*])c1)(=O)=O,34.61599349975586\n",
      "CCCOc1ccc(S(=O)(=O)NCCSCCOS(=O)(=O)OC(=O)NC(C(=O)N2CC(O)CC2C(=O)NCc2ccc(C3=C(C)NCS3)cc2)C(C)(C)C)cc1S(=O)(=O)NC(=O)CC1N=C(c2ccc(Cl)cc2)c2c(sc(C)c2C)-n2c(C)nnc21,C1(c2ccc(CNC(=O)C3CC(O)CN3C(=O)C(C(C)(C)C)NC(*)=O)cc2)=C(C)NCS1|O=C(N*)CC1c2n(c(C)nn2)-c2sc(C)c(C)c2C(c2ccc(Cl)cc2)=N1,O([*])S(=O)(OCCSCCNS(c1ccc(OCCC)c(S(=O)(=O)[*])c1)(=O)=O)=O,33.92517852783203\n",
      "CC1=C(c2ccc(CNC(=O)C3CC(O)CN3C(=O)C(NC(=O)NS(=O)(=O)c3cccc(S(=O)(=O)NC(=O)CC4N=C(c5ccc(Cl)cc5)c5c(sc(C)c5C)-n5c(C)nnc54)c3)C(C)(C)C)cc2)SCN1,C1(c2ccc(CNC(=O)C3CC(O)CN3C(=O)C(C(C)(C)C)NC(*)=O)cc2)=C(C)NCS1|O=C(N*)CC1c2n(c(C)nn2)-c2sc(C)c(C)c2C(c2ccc(Cl)cc2)=N1,N([*])S(=O)(c1cc(S(=O)(=O)[*])ccc1)=O,10.750139236450195\n",
      "CC1=C(c2ccc(CNC(=O)C3CC(O)CN3C(=O)C(NC(=O)Nc3ccc(SSc4cc(OCCSSO)ccc4S(=O)(=O)NC(=O)CC4N=C(c5ccc(Cl)cc5)c5c(sc(C)c5C)-n5c(C)nnc54)cc3)C(C)(C)C)cc2)SCN1,C1(c2ccc(CNC(=O)C3CC(O)CN3C(=O)C(C(C)(C)C)NC(*)=O)cc2)=C(C)NCS1|O=C(N*)CC1c2n(c(C)nn2)-c2sc(C)c(C)c2C(c2ccc(Cl)cc2)=N1,OSSCCOc1cc(SSc2ccc(N[*])cc2)c(S(=O)(=O)[*])cc1,22.973506927490234\n",
      "INVALID,C1(c2ccc(CNC(=O)C3CC(O)CN3C(=O)C(C(C)(C)C)NC(*)=O)cc2)=C(C)NCS1|O=C(N*)CC1c2n(c(C)nn2)-c2sc(C)c(C)c2C(c2ccc(Cl)cc2)=N1,C(S[n+]1c(COc2cc(SSc3ccc(SSc5ccc(N)c(O[*])c4)c(S(=O)(=O)Oc4cc(C=C)ccc4)cc3)ccc2)cccc1[*])OC,66.18130493164062\n",
      "CC1=C(c2ccc(CNC(=O)C3CC(O)CN3C(=O)C(NC(=O)NSSSSSSCSSCSSSCCOCCSC3CSCSCSC(SSSCCS(=O)(=O)NC(=O)CC4N=C(c5ccc(Cl)cc5)c5c(sc(C)c5C)-n5c(C)nnc54)O3)C(C)(C)C)cc2)SCN1,C1(c2ccc(CNC(=O)C3CC(O)CN3C(=O)C(C(C)(C)C)NC(*)=O)cc2)=C(C)NCS1|O=C(N*)CC1c2n(c(C)nn2)-c2sc(C)c(C)c2C(c2ccc(Cl)cc2)=N1,O1C(SCCOCCSSSCSSCSSSSSSN[*])CSCSCSC1SSSCCS([*])(=O)=O,37.755279541015625\n",
      "CC1=C(c2ccc(CNC(=O)C3CC(O)CN3C(=O)C(NC(=O)NS(=O)(=O)c3cccc4c(SSc5ccc(S(=O)(=O)O)c(NC(=O)CC6N=C(c7ccc(Cl)cc7)c7c(sc(C)c7C)-n7c(C)nnc76)c5)cccc34)C(C)(C)C)cc2)SCN1,C1(c2ccc(CNC(=O)C3CC(O)CN3C(=O)C(C(C)(C)C)NC(*)=O)cc2)=C(C)NCS1|O=C(N*)CC1c2n(c(C)nn2)-c2sc(C)c(C)c2C(c2ccc(Cl)cc2)=N1,O=S(O)(=O)c1ccc(SSc2cccc3c(S(=O)(=O)N[*])cccc32)cc1[*],25.314889907836914\n"
     ]
    }
   ],
   "source": [
    "# print the resulting SMILES file\n",
    "!head -n 15 {output_dir}/sampled/sampled.csv"
   ]
  },
  {
   "cell_type": "code",
   "execution_count": null,
   "metadata": {},
   "outputs": [],
   "source": []
  }
 ],
 "metadata": {
  "kernelspec": {
   "display_name": "rn_env",
   "language": "python",
   "name": "python3"
  },
  "language_info": {
   "codemirror_mode": {
    "name": "ipython",
    "version": 3
   },
   "file_extension": ".py",
   "mimetype": "text/x-python",
   "name": "python",
   "nbconvert_exporter": "python",
   "pygments_lexer": "ipython3",
   "version": "3.7.7"
  },
  "vscode": {
   "interpreter": {
    "hash": "322e2706a3b065ade57181190dee4d3fc174f87cda022382b010766df70aa18b"
   }
  }
 },
 "nbformat": 4,
 "nbformat_minor": 2
}
