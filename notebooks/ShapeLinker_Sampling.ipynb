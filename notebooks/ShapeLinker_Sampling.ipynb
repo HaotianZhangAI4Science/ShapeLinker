{
 "cells": [
  {
   "attachments": {},
   "cell_type": "markdown",
   "metadata": {},
   "source": [
    "# `ShapeLinker`: Sampling mode\n",
    "Sample from a trained ShapeLinker model. This notebook is adapted from [ReinventCommunity](https://github.com/MolecularAI/ReinventCommunity)."
   ]
  },
  {
   "cell_type": "code",
   "execution_count": 37,
   "metadata": {},
   "outputs": [],
   "source": [
    "# load dependencies\n",
    "import os\n",
    "import re\n",
    "import json\n",
    "import tempfile\n",
    "\n",
    "root = os.path.dirname(os.getcwd())\n",
    "# --------- change these path variables as required\n",
    "reinvent_dir = os.path.join(root, 'Reinvent')\n",
    "\n",
    "reinvent_env = os.path.expanduser(\"/opt/conda/envs/shapelinker\")\n",
    "output_dir = os.path.join(root, \"results/sampling/5T35_test\")\n",
    "data_folder = os.path.join(root, 'utils/data')\n",
    "agents_folder = os.path.join(root, 'models/agents')\n",
    "\n",
    "# if required, generate a folder to store the results\n",
    "try:\n",
    "    os.mkdir(output_dir)\n",
    "except FileExistsError:\n",
    "    pass"
   ]
  },
  {
   "cell_type": "markdown",
   "metadata": {},
   "source": [
    "## Setting up the configuration\n",
    "`REINVENT` has an entry point that loads a specified `JSON` file on startup. `JSON` is a low-level data format that allows to specify a fairly large number of parameters in a cascading fashion very quickly. The parameters are structured into *blocks* which can in turn contain blocks or simple values, such as *True* or *False*, strings and numbers. In this tutorial, we will go through the different blocks step-by-step, explaining their purpose and potential values for given parameters. Note, that while we will write out the configuration as a `JSON` file in the end, in `python` we handle the same information as a simple `dict`."
   ]
  },
  {
   "cell_type": "code",
   "execution_count": 38,
   "metadata": {},
   "outputs": [],
   "source": [
    "# initialize the dictionary\n",
    "configuration = {\n",
    "    \"version\": 3,                          # we are going to use REINVENT's newest release\n",
    "    \"run_type\": \"sampling\",                # other run types: \"scoring\", \"validation\",\n",
    "                                           #                  \"transfer_learning\",\n",
    "                                           #                  \"reinforcement_learning\" and\n",
    "                                           #                  \"create_model\"\n",
    "    \"model_type\": \"link_invent\"\n",
    "}"
   ]
  },
  {
   "cell_type": "code",
   "execution_count": 39,
   "metadata": {},
   "outputs": [],
   "source": [
    "# add block to specify whether to run locally or not and\n",
    "# where to store the results and logging\n",
    "configuration[\"logging\"] = {\n",
    "    \"sender\": \"http://127.0.0.1\",          # only relevant if \"recipient\" is set to \"remote\"\n",
    "    \"recipient\": \"local\",                  # either to local logging or use a remote REST-interface\n",
    "    \"logging_path\": os.path.join(output_dir, \"progress.log\"), # where the run's output is stored\n",
    "    \"job_name\": \"Sampling prior\",       # set an arbitrary job name for identification\n",
    "    \"job_id\": \"N/A\"                       # only relevant if \"recipient\" is set to \"remote\"\n",
    "}"
   ]
  },
  {
   "attachments": {},
   "cell_type": "markdown",
   "metadata": {},
   "source": [
    "We will need to specify a path to an agent (parameter `model_path`), which can be a prior or focused agent."
   ]
  },
  {
   "cell_type": "code",
   "execution_count": 40,
   "metadata": {},
   "outputs": [],
   "source": [
    "# set up the file path, where the generated molecules are\n",
    "# deposited (as SMILES)\n",
    "output_SMILES_path = os.path.join(output_dir, \"sampled\", \"sampled.csv\")\n",
    "\n",
    "# add the \"parameters\" block\n",
    "configuration[\"parameters\"] = {\n",
    "    \"model_path\": os.path.join(agents_folder, 'Agent.shapelinker_5T35.ckpt'),\n",
    "    \"output_path\": output_SMILES_path,       # output path where SMILES will be deposited (as csv)\n",
    "    \"num_samples\": 10000,                             # specifies, how many molecules are to be sampled per warhead pair\n",
    "    \"batch_size\": 32,                              # internal batch size; should match the one used\n",
    "                                                    # during training\n",
    "    \"with_likelihood\": True     ,                   # also provide the log-likelihood\n",
    "    \"temperature\": 1.5,                             # temperature for sampling\n",
    "    \"randomize_warheads\": True,                    # randomize the warheads\n",
    "    \"warheads\": ['*C(=O)N[C@H](C(=O)N1C[C@H](O)C[C@H]1C(=O)NCc1ccc(C2=C(C)NCS2)cc1)C(C)(C)C|*NC(=O)C[C@@H]1N=C(c2ccc(Cl)cc2)c2c(sc(C)c2C)-n2c(C)nnc21'], # warheads to use\n",
    "    }"
   ]
  },
  {
   "cell_type": "code",
   "execution_count": 41,
   "metadata": {},
   "outputs": [],
   "source": [
    "# write the configuration file to the disc\n",
    "configuration_JSON_path = os.path.join(output_dir, \"sampling_config.json\")\n",
    "with open(configuration_JSON_path, 'w') as f:\n",
    "    json.dump(configuration, f, indent=4, sort_keys=True)"
   ]
  },
  {
   "attachments": {},
   "cell_type": "markdown",
   "metadata": {},
   "source": [
    "## Run\n",
    "Now it is time to execute the model locally. As we will not update any weights, execution should be very fast. The result will be a `SMILES` file in the `sampled` directory specified.\n",
    "\n",
    "The command-line execution looks like this:\n",
    "```\n",
    "# activate envionment\n",
    "conda activate shapelinker\n",
    "\n",
    "# execute file\n",
    "python <your_path>/input.py <config>.json\n",
    "```"
   ]
  },
  {
   "cell_type": "code",
   "execution_count": 43,
   "metadata": {},
   "outputs": [],
   "source": [
    "%%capture captured_err_stream --no-stderr\n",
    "\n",
    "# execute from the command-line\n",
    "!{reinvent_env}/bin/python {reinvent_dir}/input.py {configuration_JSON_path}"
   ]
  },
  {
   "cell_type": "code",
   "execution_count": 44,
   "metadata": {},
   "outputs": [],
   "source": [
    "# print the output to a file, just to have it for documentation\n",
    "with open(os.path.join(output_dir, \"run.err\"), 'w') as file:\n",
    "    file.write(captured_err_stream.stdout)"
   ]
  },
  {
   "cell_type": "code",
   "execution_count": 45,
   "metadata": {},
   "outputs": [
    {
     "name": "stdout",
     "output_type": "stream",
     "text": [
      "molecules,input,linker,likelihood\n",
      "Cc1cc(C(C(=O)N2CC(O)CC2C(=O)NC(NCC2CON2C(=O)OCCC2CC(N(C(=O)c3cc(-c4cc(Cl)ccc4C(=O)N4Cc5ccccc5CC4C)n(C)c3C)c3ccccc3)C2)c2ccc(-c3scnc3C)cc2)C(C)C)on1,C1C(O)CC(C(NC(*)c2ccc(-c3scnc3C)cc2)=O)N1C(C(C(C)C)c1onc(C)c1)=O|c1c(N(C(=O)c2cc(-c3cc(Cl)ccc3C(=O)N3C(C)Cc4ccccc4C3)n(C)c2C)C2CC(*)C2)cccc1,O1CC(CN[*])N1C(=O)OCC[*],18.37080192565918\n",
      "Cc1cc(C(C(=O)N2CC(O)CC2C(=O)NC(CC(=O)NC(C=O)CCC2CC(N(C(=O)c3cc(-c4cc(Cl)ccc4C(=O)N4Cc5ccccc5CC4C)n(C)c3C)c3ccccc3)C2)c2ccc(-c3scnc3C)cc2)C(C)C)on1,C1C(O)CC(C(NC(*)c2ccc(-c3scnc3C)cc2)=O)N1C(C(C(C)C)c1onc(C)c1)=O|c1c(N(C(=O)c2cc(-c3cc(Cl)ccc3C(=O)N3C(C)Cc4ccccc4C3)n(C)c2C)C2CC(*)C2)cccc1,C(=O)C(NC(C[*])=O)CC[*],11.440457344055176\n",
      "Cc1cc(C(C(=O)N2CC(O)CC2C(=O)NC(CC=Cc2cc(NC3CC(N(C(=O)c4cc(-c5cc(Cl)ccc5C(=O)N5Cc6ccccc6CC5C)n(C)c4C)c4ccccc4)C3)cnn2)c2ccc(-c3scnc3C)cc2)C(C)C)on1,C1C(O)CC(C(NC(*)c2ccc(-c3scnc3C)cc2)=O)N1C(C(C(C)C)c1onc(C)c1)=O|c1c(N(C(=O)c2cc(-c3cc(Cl)ccc3C(=O)N3C(C)Cc4ccccc4C3)n(C)c2C)C2CC(*)C2)cccc1,n1c(C=CC[*])cc(N[*])cn1,13.252521514892578\n",
      "C=CNC(NNC(NC(=O)C1CC(O)CN1C(=O)C(c1cc(C)no1)C(C)C)c1ccc(-c2scnc2C)cc1)=C1C=CC(CC2CC(N(C(=O)c3cc(-c4cc(Cl)ccc4C(=O)N4Cc5ccccc5CC4C)n(C)c3C)c3ccccc3)C2)N1,C1C(O)CC(C(NC(*)c2ccc(-c3scnc3C)cc2)=O)N1C(C(C(C)C)c1onc(C)c1)=O|c1c(N(C(=O)c2cc(-c3cc(Cl)ccc3C(=O)N3C(C)Cc4ccccc4C3)n(C)c2C)C2CC(*)C2)cccc1,C(=C)NC(NN[*])=C1C=CC(C[*])N1,23.272422790527344\n",
      "Cc1cc(C(C(=O)N2CC(O)CC2C(=O)NC(c2ccc(-c3scnc3C)cc2)C2CCC(N(O)CCC3CC(N(C(=O)c4cc(-c5cc(Cl)ccc5C(=O)N5Cc6ccccc6CC5C)n(C)c4C)c4ccccc4)C3)CC2)C(C)C)on1,C1C(O)CC(C(NC(*)c2ccc(-c3scnc3C)cc2)=O)N1C(C(C(C)C)c1onc(C)c1)=O|c1c(N(C(=O)c2cc(-c3cc(Cl)ccc3C(=O)N3C(C)Cc4ccccc4C3)n(C)c2C)C2CC(*)C2)cccc1,ON(C1CCC([*])CC1)CC[*],12.78786849975586\n",
      "Cc1cc(C(C(=O)N2CC(O)CC2C(=O)NC(C=CC(=O)C=Cc2cc(CC3CC(N(C(=O)c4cc(-c5cc(Cl)ccc5C(=O)N5Cc6ccccc6CC5C)n(C)c4C)c4ccccc4)C3)on2)c2ccc(-c3scnc3C)cc2)C(C)C)on1,C1C(O)CC(C(NC(*)c2ccc(-c3scnc3C)cc2)=O)N1C(C(C(C)C)c1onc(C)c1)=O|c1c(N(C(=O)c2cc(-c3cc(Cl)ccc3C(=O)N3C(C)Cc4ccccc4C3)n(C)c2C)C2CC(*)C2)cccc1,n1c(C=CC(C=C[*])=O)cc(C[*])o1,22.26628875732422\n",
      "Cc1cc(C(C(=O)N2CC(O)CC2C(=O)NC(N=CN(O)CN(C)c2cccc(NC3CC(N(C(=O)c4cc(-c5cc(Cl)ccc5C(=O)N5Cc6ccccc6CC5C)n(C)c4C)c4ccccc4)C3)c2)c2ccc(-c3scnc3C)cc2)C(C)C)on1,C1C(O)CC(C(NC(*)c2ccc(-c3scnc3C)cc2)=O)N1C(C(C(C)C)c1onc(C)c1)=O|c1c(N(C(=O)c2cc(-c3cc(Cl)ccc3C(=O)N3C(C)Cc4ccccc4C3)n(C)c2C)C2CC(*)C2)cccc1,CN(CN(C=N[*])O)c1cccc(N[*])c1,24.329126358032227\n",
      "Cc1cc(C(C(=O)N2CC(O)CC2C(=O)NC(CC2CNC(=NCNC3CC(N(C(=O)c4cc(-c5cc(Cl)ccc5C(=O)N5Cc6ccccc6CC5C)n(C)c4C)c4ccccc4)C3)CN2)c2ccc(-c3scnc3C)cc2)C(C)C)on1,C1C(O)CC(C(NC(*)c2ccc(-c3scnc3C)cc2)=O)N1C(C(C(C)C)c1onc(C)c1)=O|c1c(N(C(=O)c2cc(-c3cc(Cl)ccc3C(=O)N3C(C)Cc4ccccc4C3)n(C)c2C)C2CC(*)C2)cccc1,N(=C1NCC(C[*])NC1)CN[*],13.048559188842773\n",
      "Cc1cc(C(C(=O)N2CC(O)CC2C(=O)NC(NC=NNNC2CCN(C3CC(N(C(=O)c4cc(-c5cc(Cl)ccc5C(=O)N5Cc6ccccc6CC5C)n(C)c4C)c4ccccc4)C3)CC2)c2ccc(-c3scnc3C)cc2)C(C)C)on1,C1C(O)CC(C(NC(*)c2ccc(-c3scnc3C)cc2)=O)N1C(C(C(C)C)c1onc(C)c1)=O|c1c(N(C(=O)c2cc(-c3cc(Cl)ccc3C(=O)N3C(C)Cc4ccccc4C3)n(C)c2C)C2CC(*)C2)cccc1,N(NN=CN[*])C1CCN([*])CC1,14.180347442626953\n",
      "Cc1cc(C(C(=O)N2CC(O)CC2C(=O)NC(NCc2ncc(NS(=O)(=O)CCC3CC(N(C(=O)c4cc(-c5cc(Cl)ccc5C(=O)N5Cc6ccccc6CC5C)n(C)c4C)c4ccccc4)C3)cn2)c2ccc(-c3scnc3C)cc2)C(C)C)on1,C1C(O)CC(C(NC(*)c2ccc(-c3scnc3C)cc2)=O)N1C(C(C(C)C)c1onc(C)c1)=O|c1c(N(C(=O)c2cc(-c3cc(Cl)ccc3C(=O)N3C(C)Cc4ccccc4C3)n(C)c2C)C2CC(*)C2)cccc1,S(=O)(Nc1cnc(CN[*])nc1)(CC[*])=O,20.066299438476562\n",
      "Cc1cc(C(C(=O)N2CC(O)CC2C(=O)NC(c2ccc(-c3scnc3C)cc2)N(C)CC(N)=CNc2cccc(C(N)=NC3CC(N(C(=O)c4cc(-c5cc(Cl)ccc5C(=O)N5Cc6ccccc6CC5C)n(C)c4C)c4ccccc4)C3)c2)C(C)C)on1,C1C(O)CC(C(NC(*)c2ccc(-c3scnc3C)cc2)=O)N1C(C(C(C)C)c1onc(C)c1)=O|c1c(N(C(=O)c2cc(-c3cc(Cl)ccc3C(=O)N3C(C)Cc4ccccc4C3)n(C)c2C)C2CC(*)C2)cccc1,NC(CN([*])C)=CNc1cc(C(N)=N[*])ccc1,30.71773338317871\n",
      "Cc1cc(C(C(=O)N2CC(O)CC2C(=O)NC(NCc2ccc(C=CCC3CC(N(C(=O)c4cc(-c5cc(Cl)ccc5C(=O)N5Cc6ccccc6CC5C)n(C)c4C)c4ccccc4)C3)cn2)c2ccc(-c3scnc3C)cc2)C(C)C)on1,C1C(O)CC(C(NC(*)c2ccc(-c3scnc3C)cc2)=O)N1C(C(C(C)C)c1onc(C)c1)=O|c1c(N(C(=O)c2cc(-c3cc(Cl)ccc3C(=O)N3C(C)Cc4ccccc4C3)n(C)c2C)C2CC(*)C2)cccc1,c1cc(CN[*])ncc1C=CC[*],11.9401216506958\n",
      "Cc1cc(C(C(=O)N2CC(O)CC2C(=O)NC(NC2CCC(=NOC(=O)CC3CC(N(C(=O)c4cc(-c5cc(Cl)ccc5C(=O)N5Cc6ccccc6CC5C)n(C)c4C)c4ccccc4)C3)CC2)c2ccc(-c3scnc3C)cc2)C(C)C)on1,C1C(O)CC(C(NC(*)c2ccc(-c3scnc3C)cc2)=O)N1C(C(C(C)C)c1onc(C)c1)=O|c1c(N(C(=O)c2cc(-c3cc(Cl)ccc3C(=O)N3C(C)Cc4ccccc4C3)n(C)c2C)C2CC(*)C2)cccc1,O(N=C1CCC(N[*])CC1)C(=O)C[*],12.543241500854492\n",
      "Cc1cc(C(C(=O)N2CC(O)CC2C(=O)NC(NCCCN=C2C=CC(CC3CC(N(C(=O)c4cc(-c5cc(Cl)ccc5C(=O)N5Cc6ccccc6CC5C)n(C)c4C)c4ccccc4)C3)N2)c2ccc(-c3scnc3C)cc2)C(C)C)on1,C1C(O)CC(C(NC(*)c2ccc(-c3scnc3C)cc2)=O)N1C(C(C(C)C)c1onc(C)c1)=O|c1c(N(C(=O)c2cc(-c3cc(Cl)ccc3C(=O)N3C(C)Cc4ccccc4C3)n(C)c2C)C2CC(*)C2)cccc1,C(CCN[*])N=C1C=CC(C[*])N1,14.982734680175781\n"
     ]
    }
   ],
   "source": [
    "# print the resulting SMILES file\n",
    "!head -n 15 {output_dir}/sampled/sampled.csv"
   ]
  },
  {
   "cell_type": "code",
   "execution_count": null,
   "metadata": {},
   "outputs": [],
   "source": []
  }
 ],
 "metadata": {
  "kernelspec": {
   "display_name": "rn_env",
   "language": "python",
   "name": "python3"
  },
  "language_info": {
   "codemirror_mode": {
    "name": "ipython",
    "version": 3
   },
   "file_extension": ".py",
   "mimetype": "text/x-python",
   "name": "python",
   "nbconvert_exporter": "python",
   "pygments_lexer": "ipython3",
   "version": "3.9.7"
  },
  "vscode": {
   "interpreter": {
    "hash": "322e2706a3b065ade57181190dee4d3fc174f87cda022382b010766df70aa18b"
   }
  }
 },
 "nbformat": 4,
 "nbformat_minor": 2
}
