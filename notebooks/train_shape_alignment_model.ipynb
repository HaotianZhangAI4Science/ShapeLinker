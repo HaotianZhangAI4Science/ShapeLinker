{
 "cells": [
  {
   "attachments": {},
   "cell_type": "markdown",
   "metadata": {},
   "source": [
    "# Train a shape alignment model\n",
    "This is an example workflow to train a shape alignment model.\n",
    "Use the `shape_align` environment."
   ]
  },
  {
   "cell_type": "code",
   "execution_count": null,
   "metadata": {},
   "outputs": [],
   "source": [
    "import os\n",
    "from pathlib import Path\n",
    "\n",
    "import torch\n",
    "from pytorch3d.loss import chamfer_distance\n",
    "from tqdm.notebook import tqdm\n",
    "import numpy as np\n",
    "from pytorch_lightning import Trainer\n",
    "import pandas as pd\n",
    "from rdkit import Chem\n",
    "from rdkit.Chem import AllChem\n",
    "from rdkit import RDLogger"
   ]
  },
  {
   "cell_type": "code",
   "execution_count": null,
   "metadata": {},
   "outputs": [],
   "source": [
    "old_cwd = Path.cwd()\n",
    "os.chdir(Path.cwd().parent)\n",
    "from shape_alignment import models, molecule\n",
    "from shape_alignment.models import PCRSingleMasked, PCRSepFeat\n",
    "from shape_alignment.molecule import Molecules, MoleculeInfo\n",
    "from shape_alignment.loss import chamfer_distance as cmf"
   ]
  },
  {
   "cell_type": "code",
   "execution_count": null,
   "metadata": {},
   "outputs": [],
   "source": [
    "lg = RDLogger.logger()\n",
    "lg.setLevel(RDLogger.CRITICAL)"
   ]
  },
  {
   "cell_type": "code",
   "execution_count": null,
   "metadata": {},
   "outputs": [],
   "source": [
    "%load_ext autoreload\n",
    "%autoreload 2"
   ]
  },
  {
   "cell_type": "code",
   "execution_count": null,
   "metadata": {},
   "outputs": [],
   "source": [
    "os.chdir(old_cwd)\n",
    "data_folder = Path.cwd().parent / 'data'\n",
    "# output folder results\n",
    "output_folder = Path.cwd().parent / 'results'\n",
    "output_folder = Path.joinpath(output_folder, 'toy_shape_align')\n",
    "# create output folder if it does not exist\n",
    "if not output_folder.exists():\n",
    "    output_folder.mkdir(parents=True)"
   ]
  },
  {
   "attachments": {},
   "cell_type": "markdown",
   "metadata": {},
   "source": [
    "## Process data"
   ]
  },
  {
   "cell_type": "code",
   "execution_count": null,
   "metadata": {},
   "outputs": [],
   "source": [
    "df_protacdb = pd.read_csv(Path.joinpath(data_folder, 'protacdb_extended_linkers.csv'))\n",
    "df_protacdb.head()"
   ]
  },
  {
   "cell_type": "code",
   "execution_count": null,
   "metadata": {},
   "outputs": [],
   "source": [
    "smiles = df_protacdb['linker_ext_smiles'].values\n",
    "query_id = 0"
   ]
  },
  {
   "attachments": {},
   "cell_type": "markdown",
   "metadata": {},
   "source": [
    "### Create training data"
   ]
  },
  {
   "cell_type": "code",
   "execution_count": null,
   "metadata": {
    "tags": []
   },
   "outputs": [],
   "source": [
    "# This cell is example to sample and batch pairs of molecules for training. \n",
    "# Here I sampled a single query vs others - the model outcome will be good at aligning the query molecule only. More molecules can be included to train a more general model\n",
    "\n",
    "training_batches = []\n",
    "\n",
    "for _ in tqdm(range(10)): # make data to learn self alignment\n",
    "    rest = [0]*5\n",
    "    try:\n",
    "        training_batches += MoleculeInfo.from_smiles(smiles[query_id]).get_training_batches([smiles[i] for i in rest], batch_num=2, batch_size=16)\n",
    "    except ValueError:\n",
    "        continue\n",
    "\n",
    "for _ in tqdm(range(10)): # make data for query vs others alignments\n",
    "    rest = np.random.choice(range(len(smiles)), 5)\n",
    "    try:\n",
    "        training_batches += MoleculeInfo.from_smiles(smiles[query_id]).get_training_batches([smiles[i] for i in rest], batch_num=2, batch_size=16)\n",
    "    except:\n",
    "        continue\n",
    "\n",
    "validation_batches = []\n",
    "\n",
    "for _ in tqdm(range(10)): # make some validation batches (self vs others)\n",
    "    rest = np.random.choice(range(len(smiles)), 1)\n",
    "    try:\n",
    "        validation_batches += MoleculeInfo.from_smiles(smiles[query_id]).get_training_batches([smiles[i] for i in rest], batch_num=1, batch_size=16)\n",
    "    except:\n",
    "        continue"
   ]
  },
  {
   "cell_type": "code",
   "execution_count": null,
   "metadata": {},
   "outputs": [],
   "source": [
    "batch_filepath = Path.joinpath(output_folder, 'shape_align_batches.pth')\n",
    "torch.save((training_batches, validation_batches), batch_filepath)"
   ]
  },
  {
   "cell_type": "code",
   "execution_count": null,
   "metadata": {},
   "outputs": [],
   "source": [
    "td = models.DataLoader(training_batches)\n",
    "vd = models.DataLoader(validation_batches)\n",
    "\n",
    "trainer = Trainer(accelerator='gpu', max_epochs=50)"
   ]
  },
  {
   "attachments": {},
   "cell_type": "markdown",
   "metadata": {},
   "source": [
    "## Train model"
   ]
  },
  {
   "cell_type": "code",
   "execution_count": null,
   "metadata": {},
   "outputs": [],
   "source": [
    "model = PCRSingleMasked(3, coarse_attention_dim=16, coarse_nheads=8, validation_data=validation_batches)\n",
    "print(\"Average RANSAC distance:\", model.validation_ransac_distance) # shows RANSAC alignment scores for validation\n",
    "trainer.fit(model, td, vd) # \"improvement over ransac\" for validation should be above 1 as an indicator that it's performing well"
   ]
  },
  {
   "cell_type": "code",
   "execution_count": null,
   "metadata": {},
   "outputs": [],
   "source": [
    "model_filepath = Path.joinpath(output_folder, 'model_align_toy.pth')\n",
    "torch.save(model, model_filepath)"
   ]
  },
  {
   "attachments": {},
   "cell_type": "markdown",
   "metadata": {},
   "source": [
    "## Use model to align molecules"
   ]
  },
  {
   "cell_type": "code",
   "execution_count": null,
   "metadata": {},
   "outputs": [],
   "source": [
    "model_filepath = Path.joinpath(output_folder, 'model_align_toy.pth')\n",
    "model = torch.load(model_filepath)\n",
    "model.to(\"cuda\")\n",
    "model.eval()"
   ]
  },
  {
   "cell_type": "code",
   "execution_count": null,
   "metadata": {},
   "outputs": [],
   "source": [
    "# get pose of the query molecule\n",
    "query_smile = smiles[query_id]\n",
    "query_pose = MoleculeInfo.from_smiles(query_smile)"
   ]
  },
  {
   "cell_type": "code",
   "execution_count": null,
   "metadata": {},
   "outputs": [],
   "source": [
    "# align a SMILES string to the query molecule and save the pose\n",
    "random_int = np.random.randint(0, len(smiles))\n",
    "alignment = query_pose.align_to_multiconformer_smiles_fast2(smiles[random_int], model, number_of_conformers=50)\n",
    "cmf_dist = alignment.chamfer_distance\n",
    "pose = alignment.molecule_2\n",
    "pose_path = Path.joinpath(output_folder, f'toy_pose.mol')\n",
    "pose.write_to_file(pose_path.as_posix())"
   ]
  },
  {
   "cell_type": "code",
   "execution_count": null,
   "metadata": {},
   "outputs": [],
   "source": [
    "# one can also use a known conformer as query\n",
    "sdf_filepath ='path/to/query.sdf'\n",
    "query_pose = MoleculeInfo.from_sdf(sdf_filepath)\n",
    "alignment = query_pose.align_to_multiconformer_smiles_fast2(smiles[random_int], model, number_of_conformers=50)\n",
    "cmf_dist = alignment.chamfer_distance\n",
    "pose = alignment.molecule_2\n",
    "pose_path = Path.joinpath(output_folder, f'toy_pose.mol')\n",
    "pose.write_to_file(pose_path.as_posix())"
   ]
  }
 ],
 "metadata": {
  "kernelspec": {
   "display_name": "rn_env",
   "language": "python",
   "name": "python3"
  },
  "language_info": {
   "codemirror_mode": {
    "name": "ipython",
    "version": 3
   },
   "file_extension": ".py",
   "mimetype": "text/x-python",
   "name": "python",
   "nbconvert_exporter": "python",
   "pygments_lexer": "ipython3",
   "version": "3.9.7"
  },
  "vscode": {
   "interpreter": {
    "hash": "322e2706a3b065ade57181190dee4d3fc174f87cda022382b010766df70aa18b"
   }
  }
 },
 "nbformat": 4,
 "nbformat_minor": 4
}
