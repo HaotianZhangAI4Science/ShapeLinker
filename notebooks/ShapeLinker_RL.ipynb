{
 "cells": [
  {
   "attachments": {},
   "cell_type": "markdown",
   "metadata": {},
   "source": [
    "# `ShapeLinker`: Reinforcement Learning\n",
    "\n",
    "This notebook demonstrates how to run reinforcement learning for `ShapeLinker` with `Link-INVENT`-infrastructure. This notebook is adapted from [ReinventCommunity](https://github.com/MolecularAI/ReinventCommunity)."
   ]
  },
  {
   "cell_type": "code",
   "execution_count": 11,
   "metadata": {},
   "outputs": [],
   "source": [
    "# load dependencies\n",
    "import os\n",
    "import re\n",
    "import json\n",
    "import tempfile\n",
    "\n",
    "root = os.path.dirname(os.getcwd())\n",
    "# --------- change these path variables as required\n",
    "reinvent_dir = os.path.join(root, 'Reinvent')\n",
    "\n",
    "reinvent_env = os.path.expanduser(\"/opt/conda/envs/shapelinker\")\n",
    "output_dir = os.path.join(root, \"results/RL/5T35_test\")\n",
    "data_folder = os.path.join(root, 'utils/data') \n",
    "models_folder = os.path.join(root, 'models')\n",
    "\n",
    "# if required, generate a folder to store the results\n",
    "os.makedirs(output_dir, exist_ok=True)"
   ]
  },
  {
   "attachments": {},
   "cell_type": "markdown",
   "metadata": {},
   "source": [
    "## Setting up the configuration\n",
    "The `REINVENT` platform (which provides access to `Link-INVENT`) has an entry point that loads a specified `JSON` file on startup. `JSON` is a low-level data format that allows to specify a fairly large number of parameters in a cascading fashion very quickly. The parameters are structured into *blocks* which can in turn contain blocks or simple values, such as *True* or *False*, strings and numbers. In this tutorial, we will go through the different blocks step-by-step, explaining their purpose and potential values for given parameters. Note, that while we will write out the configuration as a `JSON` file in the end, in Python we handle the same information as a simple `dict`."
   ]
  },
  {
   "attachments": {},
   "cell_type": "markdown",
   "metadata": {},
   "source": [
    "### 1. Run Type Block"
   ]
  },
  {
   "cell_type": "code",
   "execution_count": 12,
   "metadata": {},
   "outputs": [],
   "source": [
    "# initialize the dictionary\n",
    "configuration = {\n",
    "    \"version\": 3,\n",
    "    \"model_type\": \"link_invent\",\n",
    "    \"run_type\": \"reinforcement_learning\"\n",
    "}"
   ]
  },
  {
   "attachments": {},
   "cell_type": "markdown",
   "metadata": {},
   "source": [
    "### 2. Logging Block\n",
    "This block specifies output directories for **logging** and **results**, containing the following information:\n",
    "\n",
    "* **logging**: saves the training progress of the experiment. Visualizing the training log via `tensorboard` which is installed in the provided environment will allow one to monitor the agent's learning progress and to what extent each desired objective is optimized. The training progress can also be monitored during the run to potentially spot early training plateau, in which case, it may be useful to start a new run with different hyperparameters.\n",
    "\n",
    "\n",
    "* **results**: saves the final results of the experiment. This includes the `scaffold memory` (discussed further at the end of this notebook) which contains all the top scoring compounds generated throughout the run. This `CSV` file allows users to easily parse the top results for downstream processing."
   ]
  },
  {
   "cell_type": "code",
   "execution_count": 13,
   "metadata": {},
   "outputs": [],
   "source": [
    "# add block to specify whether to run locally or not and\n",
    "# where to store the results and logging\n",
    "configuration[\"logging\"] = {\n",
    "    \"sender\": \"\",                          # only relevant if \"recipient\" is set to \"remote\"\n",
    "    \"recipient\": \"local\",                  # either to local logging or use a remote REST-interface\n",
    "    \"logging_frequency\": 10,\n",
    "    \"logging_path\": os.path.join(output_dir, \"progress.log\"),  # load this folder in tensorboard to \n",
    "                                                               # visualize training progress\n",
    "    \"result_folder\": os.path.join(output_dir, \"results\"),      # output directory for results\n",
    "    \"job_name\": \"RL\",                       # set an arbitrary job name for identification\n",
    "    \"job_id\": \"N/A\"                        # only relevant if \"recipient\" is set to \"remote\"\n",
    "}"
   ]
  },
  {
   "attachments": {},
   "cell_type": "markdown",
   "metadata": {},
   "source": [
    "### 3. Parameters Block\n",
    "\n",
    "This block specifies all the experiment parameters. In the cell below, we first set the hyperparameters for `Reinforcement Learning (RL)`, including:\n",
    "\n",
    "1. `\"actor\" and \"critic\"`: These are the paths to a pre-trained `Link-INVENT` generative model. One such model is provided in the /models folder in this repository and named `linkinvent.prior`. This prior is the generative model featured in the `Link-INVENT` manuscript and all details related to its training can be found in the `Supporting Information`. Generally, the `\"actor\"` and `\"critic\"` are initialized as the same pre-trained model. \n",
    "\n",
    "\n",
    "2. `\"warheads\"`: This is a list specifiying the 2 molecular sub-units (as SMILES) to link. The `\"*\"` denotes the attachment point position of each warhead and the warheads are separated using the `\"|\"` delimiter.\n",
    "\n",
    "\n",
    "3. `\"n_steps\"`: This denotes how many epochs to run. Typically this can be set to between 100-200.\n",
    "\n",
    "\n",
    "4. `\"learning_rate\"`: This denotes the learning rate. Generally, the default 0.0001 works well.\n",
    "\n",
    "\n",
    "5. `\"batch_size\"`: The number of linkers to generate per epoch. The default is 128 but we use 32 as the shape alignment is rather computationally expensive.\n",
    "\n",
    "\n",
    "6. `\"randomize_warhead\"`: Denotes whether to obtain a randomized SMILES representation of the warheads at every epoch. Generally, the default \"true\" works well. Randomizing SMILES increases the generalizability (results may cover a larger `chemical space`).\n",
    "\n",
    "\n",
    "7. `\"learning_strategy\"`: This denotes how the `loss function` is constructed. The default `\"dap\"` strategy and `\"sigma\" = 120 ` works well. For more information, see the `Link-INVENT` and `Lib-INVENT` manuscripts."
   ]
  },
  {
   "cell_type": "code",
   "execution_count": 14,
   "metadata": {},
   "outputs": [],
   "source": [
    "# add the \"parameters\" block\n",
    "configuration[\"parameters\"] = {}\n",
    "\n",
    "configuration[\"parameters\"] = {\n",
    "    \"actor\": os.path.join(models_folder, \"linkinvent.prior\"),   # this pre-trained prior is provided in /models\n",
    "    \"critic\": os.path.join(models_folder, \"linkinvent.prior\"),\n",
    "    \"warheads\" :[\n",
    "            \"*C(=O)N[C@H](C(=O)N1C[C@H](O)C[C@H]1C(=O)NCc1ccc(C2=C(C)NCS2)cc1)C(C)(C)C|*NC(=O)C[C@@H]1N=C(c2ccc(Cl)cc2)c2c(sc(C)c2C)-n2c(C)nnc21\"\n",
    "            ],\n",
    "    \"n_steps\": 1000,   # number of epochs to perform RL\n",
    "    \"learning_rate\": 0.0001, \n",
    "    \"batch_size\": 32,  \n",
    "    \"randomize_warheads\": True,\n",
    "    \"learning_strategy\": {\n",
    "        \"name\": \"dap\", \n",
    "        \"parameters\": {\n",
    "        \"sigma\": 120\n",
    "        }\n",
    "    }\n",
    "}"
   ]
  },
  {
   "attachments": {},
   "cell_type": "markdown",
   "metadata": {},
   "source": [
    "#### Configure the scoring strategy\n",
    "This includes setting up the `Diversity Filters` (discussed below) and the `Scoring Function` (discussed below)."
   ]
  },
  {
   "cell_type": "code",
   "execution_count": 15,
   "metadata": {},
   "outputs": [],
   "source": [
    "configuration[\"parameters\"][\"scoring_strategy\"] = {\n",
    "    \"name\": \"link_invent\" # do not change\n",
    "}"
   ]
  },
  {
   "attachments": {},
   "cell_type": "markdown",
   "metadata": {},
   "source": [
    "##### Configure Diversity Filter\n",
    "\n",
    "The Diversity Filter (DF) offers users the control over agent `exploration` (generating molecules from different `chemical space`) and `exploitation` (generating favourable molecules from similar `chemical space`). There are 3 DFs available in `Link-INVENT`:\n",
    "\n",
    "\n",
    "1. `\"IdenticalMurckoScaffold\"`: Penalizes repeated sampling of the same Bemis-Murcko scaffold. An important point to note here is that this effectively operates at the linker level since the 2 warheads are held constant. Thus, this DF ensures diverse linkers are generated.\n",
    "\n",
    "\n",
    "2. `\"NoFilterWithPenalty\"`: Penalizes repeated sampling of the same linker. The corresponding linker receives a score scaled by 0.5 (halved).\n",
    "\n",
    "\n",
    "3. `\"NoFilter\"`: No penalization.\n",
    "\n",
    "The notion of \"repeated sampling\" is governed by the `\"bucket_size\"` parameter. This denotes the maximum number of permitted linkers corresponding to the choice of DF used. Further sampling of the linker will be penalized. For example, if a linker Bemis-Murcko scaffold (denote it scaffold A) has been sampled 25 times using a `\"bucket_size\"` of 25, the 26th time scaffold A is sampled, the linker receives a score of 0. This in turn encourages the agent to explore other `chemical space`.\n",
    "\n",
    "Additional parameters include:\n",
    "\n",
    "\n",
    "1. `\"minscore\"`: Denotes the mininum score a linker (and the corresponding linked molecules) must achieve to be saved in the final output (`scaffold memory`). In practice, this can be set to 0.4 so that only linkers that at least moderately satisfy the desired objective is saved. If set to 0, every single linker generated will be saved. This could be useful if one is interested in analyizing the overall sampling behaviour of the agent.\n",
    "\n",
    "\n",
    "2. `\"minsimilarity\"`: If using the `\"IdenticalMurckoScaffold\"`, repeated sampling of the same Bemis-Murcko scaffold is penalized (as explained above). When a new Bemis-Murcko scaffold is generated by the agent, its similarity is compared to all the Bemis-Murcko scaffolds generated thus far. If there has already been a Bemis-Murcko scaffold sampled that possesses a similarity >= `\"minsimilarity\"`, the new Bemis-Murcko scaffold will populate that `bucket`. For example, consider a Bemis-Murcko scaffold A is sampled 24 times with a `\"bucket_size\"` of 25. Now consider a new (never seen before) Bemis-Murcko scaffold B is sampled. If B >= `\"minsimilarity\"`, then B will be added to the `bucket` of A. Subsequently, the next A or B sampled will result in 26 items in the bucket and would thus receive a score of 0 (penalization). This parameter can encourage more `exploration`."
   ]
  },
  {
   "cell_type": "code",
   "execution_count": 16,
   "metadata": {},
   "outputs": [],
   "source": [
    "configuration[\"parameters\"][\"scoring_strategy\"][\"diversity_filter\"] =  {\n",
    "      \"bucket_size\": 25,\n",
    "      \"minscore\": 0.4,\n",
    "      \"minsimilarity\": 0.6,\n",
    "      \"name\": \"IdenticalMurckoScaffold\"   \n",
    "}"
   ]
  },
  {
   "attachments": {},
   "cell_type": "markdown",
   "metadata": {},
   "source": [
    "##### Scoring Function Definition\n",
    "The Scoring Function is the reward function used to assess the *desirability* of molecules generated via `RL`. An arbitrary number of components (as long as it is supported in the codebase) can be specified in the Scoring Function. Subsequently, the agent gradually learns to generate molecules that satisfy all desired objectives. \n",
    "\n",
    "An important consideration is that different components can have different ranges of raw values. These values are normalized in the interval $[0,1]$ such that the `Link-INVENT` agent can properly learn. Scores achieved by each component is aggregated to a `total score` desiring the overall *desirability* of the generated molecules. This is done either by the weighted average sum (`custom_sum`) or by a weighted geometric mean (`custom_product`). It is this `total score` that is used for the agent's policy update in the `RL` loop. For more details on `custom_sum` and `custom_product`, see the notebook in this repository: `Score_Transformations`.\n",
    "\n",
    "We now discuss how raw component values are normalized in the interval $[0,1]$. A `score transformation` is applied that transforms the raw values based on the defined function. Tuning the parameters of the transformation function allows one to control the agent's learning."
   ]
  },
  {
   "attachments": {},
   "cell_type": "markdown",
   "metadata": {},
   "source": [
    "The Scoring Function components below are the ones used for `ShapeLinker`. In order to do RL the shape alignment model and the respective sdf of the query pose is needd. The data used in the corresponding paper are provided in a public storage (see README). \n",
    "\n",
    "**`Important`**: Adapt `data_folder` and `alignment_env` accordingly."
   ]
  },
  {
   "cell_type": "code",
   "execution_count": 17,
   "metadata": {},
   "outputs": [],
   "source": [
    "scoring_function = {\n",
    "    \"name\": \"custom_sum\",  # either \"custom_sum\" or \"custom_product\"\n",
    "    \"parallel\": False,  # do not change                   \n",
    "    \n",
    "    \"parameters\": [\n",
    "      {\n",
    "      \"weight\": 1,\n",
    "      \"component_type\": \"linker_ratio_rotatable_bonds\", \n",
    "      \"name\": \"ratio rotatable bonds\",             \n",
    "      \"specific_parameters\": {\n",
    "      \"transformation\": {\n",
    "              \"high\": 30,\n",
    "              \"low\": 0,\n",
    "              \"transformation_type\": \"step\",\n",
    "              }\n",
    "           }\n",
    "      }, \n",
    "      {\n",
    "      \"weight\": 1,\n",
    "      \"component_type\": \"linker_length_ratio\",\n",
    "      \"name\": \"linker length ratio\",\n",
    "      \"specific_parameters\": {\n",
    "          \"transformation\": {\n",
    "              \"high\": 100,\n",
    "              \"low\": 100,\n",
    "              \"transformation_type\": \"step\"\n",
    "              }\n",
    "            }\n",
    "      },\n",
    "    # add component: surface alignment scoring\n",
    "    {\n",
    "        \"component_type\": \"linker_shape_scoring\",\n",
    "        \"name\": \"shape_alignment_score\",\n",
    "        \"weight\": 3,\n",
    "        \"specific_parameters\": {\n",
    "            \"query\": os.path.join(data_folder, \"xtal_poses/5T35/5T35_fragments/5T35_linker_extended.sdf\"),\n",
    "            \"query_type\": \"sdf\",\n",
    "            \"model_path\": os.path.join(models_folder, \"protacdb_extlinker_model_align.pth\"),\n",
    "            # XXX path to the python executable in the shape_align environment\n",
    "            \"alignment_env\": \"/opt/conda/envs/shape_align/bin/python\",\n",
    "            \"poses_folder\": os.path.join(output_dir, \"poses\"),\n",
    "            # XXX extract and align on the extended linker (should match the input query)\n",
    "            \"get_ext_linker\": True,\n",
    "            # XXX resample during alignment until 90% of batch have a low RMSD in bimodal distribution (increases runtime)\n",
    "            \"correct_flipping\": True,\n",
    "            \"num_conformers\": 16,\n",
    "            \"transformation\": {\n",
    "                \"transformation_type\": \"reverse_sigmoid\", # squish into range [0,1] (the lower the value, the higher the score)\n",
    "                \"high\": 3.5, \n",
    "                \"low\": 0,\n",
    "                \"k\": 0.25  # steepness of the sigmoid\n",
    "        }}\n",
    "    }\n",
    "      ]\n",
    "}\n",
    "\n",
    "configuration[\"parameters\"][\"scoring_strategy\"][\"scoring_function\"] = scoring_function"
   ]
  },
  {
   "attachments": {},
   "cell_type": "markdown",
   "metadata": {},
   "source": [
    "The dictionary has now been initialized with all parameters necessary to run `Link-INVENT`. Next, we write it out as a `JSON` which will serve as the `Configuration JSON` to run `Link-INVENT`."
   ]
  },
  {
   "cell_type": "code",
   "execution_count": 18,
   "metadata": {},
   "outputs": [],
   "source": [
    "# write out the configuration to disc\n",
    "configuration_JSON_path = os.path.join(output_dir, \"RL_Configuration.json\")\n",
    "with open(configuration_JSON_path, 'w') as f:\n",
    "    json.dump(configuration, f, indent=4, sort_keys=False)"
   ]
  },
  {
   "attachments": {},
   "cell_type": "markdown",
   "metadata": {},
   "source": [
    "The `Configuration JSON` is saved to the `output_dir` specified in the beginning of this notebook."
   ]
  },
  {
   "attachments": {},
   "cell_type": "markdown",
   "metadata": {},
   "source": [
    "# Run\n",
    "Execute `Link-INVENT` directly in this jupyter notebook"
   ]
  },
  {
   "cell_type": "code",
   "execution_count": 55,
   "metadata": {},
   "outputs": [],
   "source": [
    "%%capture captured_err_stream --no-stderr\n",
    "\n",
    "# execute from the command-line\n",
    "!{reinvent_env}/bin/python {reinvent_dir}/input.py {configuration_JSON_path}"
   ]
  },
  {
   "cell_type": "code",
   "execution_count": 56,
   "metadata": {},
   "outputs": [],
   "source": [
    "# print the output to a file, just to have it for documentation\n",
    "with open(os.path.join(output_dir, \"run.err\"), 'w') as file:\n",
    "    file.write(captured_err_stream.stdout)"
   ]
  },
  {
   "attachments": {},
   "cell_type": "markdown",
   "metadata": {},
   "source": [
    "Execute in command line\n",
    "```\n",
    "# activate environment\n",
    "$ conda activate shapelinker\n",
    "\n",
    "# execute in command line\n",
    "$ python <reinvent_dir>/input.py <configuration_JSON_path>\n",
    "```"
   ]
  },
  {
   "attachments": {},
   "cell_type": "markdown",
   "metadata": {},
   "source": [
    "## Analyse the results\n",
    "\n",
    "In order to analyze the run in a more intuitive way, we can use `tensorboard`:\n",
    "\n",
    "```\n",
    "# go to the root folder of the output\n",
    "$ cd <output_dir>\n",
    "\n",
    "# activate the environment\n",
    "$ conda activate shapelinker\n",
    "\n",
    "# start tensorboard\n",
    "$ tensorboard --logdir \"progress.log\"\n",
    "```\n",
    "\n",
    "Then copy the link provided to a browser window. The following figures are example plots - there is always some randomness involved. The `tensorboard` plots display both the individual scoring function components and the average overall score."
   ]
  },
  {
   "attachments": {},
   "cell_type": "markdown",
   "metadata": {},
   "source": [
    "## Scaffold Memory: where the top compounds generated are saved\n",
    "All valid compounds with scores over 0.4 can be found in the `scaffold_memory.csv` file.The SMILES are ranked by their total scores from high to low. \n",
    "\n",
    "**note: scaffold_memory.csv contains SMILES, Scaffolds, Scores from different components and Total score.**"
   ]
  },
  {
   "attachments": {},
   "cell_type": "markdown",
   "metadata": {},
   "source": [
    "First, we show a few lines of the `scaffold_memory.csv`."
   ]
  },
  {
   "cell_type": "code",
   "execution_count": 12,
   "metadata": {},
   "outputs": [
    {
     "data": {
      "text/html": [
       "<div>\n",
       "<style scoped>\n",
       "    .dataframe tbody tr th:only-of-type {\n",
       "        vertical-align: middle;\n",
       "    }\n",
       "\n",
       "    .dataframe tbody tr th {\n",
       "        vertical-align: top;\n",
       "    }\n",
       "\n",
       "    .dataframe thead th {\n",
       "        text-align: right;\n",
       "    }\n",
       "</style>\n",
       "<table border=\"1\" class=\"dataframe\">\n",
       "  <thead>\n",
       "    <tr style=\"text-align: right;\">\n",
       "      <th></th>\n",
       "      <th>Step</th>\n",
       "      <th>Scaffold</th>\n",
       "      <th>SMILES</th>\n",
       "      <th>linker</th>\n",
       "      <th>input</th>\n",
       "      <th>ratio rotatable bonds</th>\n",
       "      <th>effective linker length</th>\n",
       "      <th>linker length ratio</th>\n",
       "      <th>QED</th>\n",
       "      <th>raw_ratio rotatable bonds</th>\n",
       "      <th>raw_effective linker length</th>\n",
       "      <th>raw_linker length ratio</th>\n",
       "      <th>total_score</th>\n",
       "      <th>ID</th>\n",
       "    </tr>\n",
       "  </thead>\n",
       "  <tbody>\n",
       "    <tr>\n",
       "      <th>0</th>\n",
       "      <td>219.0</td>\n",
       "      <td>O=C(NCC(=O)N1CCCC1C(=O)NC(CCCCC#CCCC#CCc1ccc(N...</td>\n",
       "      <td>Cc1ncsc1-c1ccc(C(CCCCC#CCCC#CCc2ccc(N(C(=O)c3c...</td>\n",
       "      <td>[*]CCCCC#CCCC#CC[*]</td>\n",
       "      <td>Cc1ncsc1-c1ccc(C(*)NC(C2N(C(C(C(C)(C)C)NC(C3(F...</td>\n",
       "      <td>1.0</td>\n",
       "      <td>1.0</td>\n",
       "      <td>1.0</td>\n",
       "      <td>0.043305</td>\n",
       "      <td>30.0</td>\n",
       "      <td>10.0</td>\n",
       "      <td>100.0</td>\n",
       "      <td>0.808661</td>\n",
       "      <td>default_job_0</td>\n",
       "    </tr>\n",
       "    <tr>\n",
       "      <th>1</th>\n",
       "      <td>108.0</td>\n",
       "      <td>O=C(NCC(=O)N1CCCC1C(=O)NC(C#CCc1ccc(N(C(=O)c2c...</td>\n",
       "      <td>Cc1c(C(=O)N(c2ccccc2)c2ccc(CC#CC(NC(=O)C3CC(O)...</td>\n",
       "      <td>[*]C#CC[*]</td>\n",
       "      <td>C(C(=O)N1C(C(NC(*)c2ccc(-c3ccnn3C3CC3)cc2)=O)C...</td>\n",
       "      <td>1.0</td>\n",
       "      <td>0.0</td>\n",
       "      <td>1.0</td>\n",
       "      <td>0.090229</td>\n",
       "      <td>0.0</td>\n",
       "      <td>2.0</td>\n",
       "      <td>100.0</td>\n",
       "      <td>0.618046</td>\n",
       "      <td>default_job_1</td>\n",
       "    </tr>\n",
       "    <tr>\n",
       "      <th>2</th>\n",
       "      <td>16.0</td>\n",
       "      <td>O=C(NCC(=O)N1CCCC1C(=O)NC(CC#Cc1ccc(N(C(=O)c2c...</td>\n",
       "      <td>Cc1c(C(=O)N(c2ccccc2)c2ccc(C#CCC(NC(=O)C3CC(O)...</td>\n",
       "      <td>[*]CC#C[*]</td>\n",
       "      <td>C1C(n2c(-c3ccc(C(NC(C4CC(O)CN4C(=O)C(NC(C4(F)C...</td>\n",
       "      <td>1.0</td>\n",
       "      <td>0.0</td>\n",
       "      <td>1.0</td>\n",
       "      <td>0.090218</td>\n",
       "      <td>0.0</td>\n",
       "      <td>2.0</td>\n",
       "      <td>100.0</td>\n",
       "      <td>0.618044</td>\n",
       "      <td>default_job_2</td>\n",
       "    </tr>\n",
       "    <tr>\n",
       "      <th>3</th>\n",
       "      <td>17.0</td>\n",
       "      <td>O=C(NCC(=O)N1CCCC1C(=O)NC(CCc1ccc(N(C(=O)c2c[n...</td>\n",
       "      <td>Cc1c(C(=O)N(c2ccccc2)c2ccc(CCC(NC(=O)C3CC(O)CN...</td>\n",
       "      <td>[*]CC[*]</td>\n",
       "      <td>FC1(C(=O)NC(C(N2C(C(=O)NC(*)c3ccc(-c4ccnn4C4CC...</td>\n",
       "      <td>1.0</td>\n",
       "      <td>0.0</td>\n",
       "      <td>1.0</td>\n",
       "      <td>0.085687</td>\n",
       "      <td>0.0</td>\n",
       "      <td>1.0</td>\n",
       "      <td>100.0</td>\n",
       "      <td>0.617137</td>\n",
       "      <td>default_job_3</td>\n",
       "    </tr>\n",
       "    <tr>\n",
       "      <th>4</th>\n",
       "      <td>15.0</td>\n",
       "      <td>O=C(NCC(=O)N1CCCC1C(=O)NC(CCc1ccc(N(C(=O)c2c[n...</td>\n",
       "      <td>Cc1ncsc1-c1ccc(C(CCc2ccc(N(C(=O)c3cc(-c4cc(Cl)...</td>\n",
       "      <td>[*]CC[*]</td>\n",
       "      <td>OC1CN(C(C(NC(=O)C2(F)CC2)C(C)(C)C)=O)C(C(=O)NC...</td>\n",
       "      <td>1.0</td>\n",
       "      <td>0.0</td>\n",
       "      <td>1.0</td>\n",
       "      <td>0.085208</td>\n",
       "      <td>0.0</td>\n",
       "      <td>1.0</td>\n",
       "      <td>100.0</td>\n",
       "      <td>0.617042</td>\n",
       "      <td>default_job_4</td>\n",
       "    </tr>\n",
       "  </tbody>\n",
       "</table>\n",
       "</div>"
      ],
      "text/plain": [
       "    Step                                           Scaffold  \\\n",
       "0  219.0  O=C(NCC(=O)N1CCCC1C(=O)NC(CCCCC#CCCC#CCc1ccc(N...   \n",
       "1  108.0  O=C(NCC(=O)N1CCCC1C(=O)NC(C#CCc1ccc(N(C(=O)c2c...   \n",
       "2   16.0  O=C(NCC(=O)N1CCCC1C(=O)NC(CC#Cc1ccc(N(C(=O)c2c...   \n",
       "3   17.0  O=C(NCC(=O)N1CCCC1C(=O)NC(CCc1ccc(N(C(=O)c2c[n...   \n",
       "4   15.0  O=C(NCC(=O)N1CCCC1C(=O)NC(CCc1ccc(N(C(=O)c2c[n...   \n",
       "\n",
       "                                              SMILES               linker  \\\n",
       "0  Cc1ncsc1-c1ccc(C(CCCCC#CCCC#CCc2ccc(N(C(=O)c3c...  [*]CCCCC#CCCC#CC[*]   \n",
       "1  Cc1c(C(=O)N(c2ccccc2)c2ccc(CC#CC(NC(=O)C3CC(O)...           [*]C#CC[*]   \n",
       "2  Cc1c(C(=O)N(c2ccccc2)c2ccc(C#CCC(NC(=O)C3CC(O)...           [*]CC#C[*]   \n",
       "3  Cc1c(C(=O)N(c2ccccc2)c2ccc(CCC(NC(=O)C3CC(O)CN...             [*]CC[*]   \n",
       "4  Cc1ncsc1-c1ccc(C(CCc2ccc(N(C(=O)c3cc(-c4cc(Cl)...             [*]CC[*]   \n",
       "\n",
       "                                               input  ratio rotatable bonds  \\\n",
       "0  Cc1ncsc1-c1ccc(C(*)NC(C2N(C(C(C(C)(C)C)NC(C3(F...                    1.0   \n",
       "1  C(C(=O)N1C(C(NC(*)c2ccc(-c3ccnn3C3CC3)cc2)=O)C...                    1.0   \n",
       "2  C1C(n2c(-c3ccc(C(NC(C4CC(O)CN4C(=O)C(NC(C4(F)C...                    1.0   \n",
       "3  FC1(C(=O)NC(C(N2C(C(=O)NC(*)c3ccc(-c4ccnn4C4CC...                    1.0   \n",
       "4  OC1CN(C(C(NC(=O)C2(F)CC2)C(C)(C)C)=O)C(C(=O)NC...                    1.0   \n",
       "\n",
       "   effective linker length  linker length ratio       QED  \\\n",
       "0                      1.0                  1.0  0.043305   \n",
       "1                      0.0                  1.0  0.090229   \n",
       "2                      0.0                  1.0  0.090218   \n",
       "3                      0.0                  1.0  0.085687   \n",
       "4                      0.0                  1.0  0.085208   \n",
       "\n",
       "   raw_ratio rotatable bonds  raw_effective linker length  \\\n",
       "0                       30.0                         10.0   \n",
       "1                        0.0                          2.0   \n",
       "2                        0.0                          2.0   \n",
       "3                        0.0                          1.0   \n",
       "4                        0.0                          1.0   \n",
       "\n",
       "   raw_linker length ratio  total_score             ID  \n",
       "0                    100.0     0.808661  default_job_0  \n",
       "1                    100.0     0.618046  default_job_1  \n",
       "2                    100.0     0.618044  default_job_2  \n",
       "3                    100.0     0.617137  default_job_3  \n",
       "4                    100.0     0.617042  default_job_4  "
      ]
     },
     "execution_count": 12,
     "metadata": {},
     "output_type": "execute_result"
    }
   ],
   "source": [
    "# import needed packages\n",
    "import pandas as pd\n",
    "\n",
    "scaffold_memory_path = os.path.join(output_dir, 'results/scaffold_memory.csv')\n",
    "df = pd.read_csv(scaffold_memory_path)\n",
    "df.head()"
   ]
  },
  {
   "attachments": {},
   "cell_type": "markdown",
   "metadata": {},
   "source": [
    "Next, we show a few example molecules."
   ]
  },
  {
   "cell_type": "code",
   "execution_count": 13,
   "metadata": {},
   "outputs": [
    {
     "data": {
      "image/png": "[encoded data removed]",
      "text/plain": [
       "<PIL.PngImagePlugin.PngImageFile image mode=RGB size=600x400 at 0x7F81E0029A90>"
      ]
     },
     "execution_count": 13,
     "metadata": {},
     "output_type": "execute_result"
    }
   ],
   "source": [
    "# import needed packages\n",
    "from rdkit import Chem\n",
    "from rdkit.Chem import Draw\n",
    "\n",
    "smile_list = df['SMILES'][:6].to_list() # change the number here to show more/less top compounds\n",
    "mols = [Chem.MolFromSmiles(smiles) for smiles in smile_list]\n",
    "Draw.MolsToGridImage(mols)"
   ]
  },
  {
   "cell_type": "code",
   "execution_count": null,
   "metadata": {},
   "outputs": [],
   "source": []
  }
 ],
 "metadata": {
  "kernelspec": {
   "display_name": "rn_env",
   "language": "python",
   "name": "python3"
  },
  "language_info": {
   "codemirror_mode": {
    "name": "ipython",
    "version": 3
   },
   "file_extension": ".py",
   "mimetype": "text/x-python",
   "name": "python",
   "nbconvert_exporter": "python",
   "pygments_lexer": "ipython3",
   "version": "3.7.7"
  },
  "vscode": {
   "interpreter": {
    "hash": "322e2706a3b065ade57181190dee4d3fc174f87cda022382b010766df70aa18b"
   }
  }
 },
 "nbformat": 4,
 "nbformat_minor": 2
}
